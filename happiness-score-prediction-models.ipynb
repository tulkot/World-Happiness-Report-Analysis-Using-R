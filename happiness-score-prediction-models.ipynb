{
 "cells": [
  {
   "cell_type": "markdown",
   "metadata": {},
   "source": [
    "# World Happiness Report Analysis and Prediction\n",
    "\n",
    "Analysed the world happiness dataset and created a prediction model using Linear Regression using the World Happiness Report of the year 2021. <br> \n",
    "Dataset Source: The World Happiness Report 2021"
   ]
  },
  {
   "cell_type": "markdown",
   "metadata": {},
   "source": [
    "The World Happiness Report is a publication from the United Nations that contains articles and rankings of national happiness, based on respondent ratings of their own lives, which the report also correlates with various life factors."
   ]
  },
  {
   "cell_type": "code",
   "execution_count": 1,
   "metadata": {},
   "outputs": [
    {
     "name": "stderr",
     "output_type": "stream",
     "text": [
      "\n",
      "Attaching package: 'dplyr'\n",
      "\n",
      "\n",
      "The following objects are masked from 'package:plyr':\n",
      "\n",
      "    arrange, count, desc, failwith, id, mutate, rename, summarise,\n",
      "    summarize\n",
      "\n",
      "\n",
      "The following objects are masked from 'package:stats':\n",
      "\n",
      "    filter, lag\n",
      "\n",
      "\n",
      "The following objects are masked from 'package:base':\n",
      "\n",
      "    intersect, setdiff, setequal, union\n",
      "\n",
      "\n",
      "-- \u001b[1mAttaching packages\u001b[22m ------------------------------------------------------------------------------- tidyverse 1.3.1 --\n",
      "\n",
      "\u001b[32mv\u001b[39m \u001b[34mggplot2\u001b[39m 3.3.3     \u001b[32mv\u001b[39m \u001b[34mpurrr  \u001b[39m 0.3.4\n",
      "\u001b[32mv\u001b[39m \u001b[34mtibble \u001b[39m 3.1.1     \u001b[32mv\u001b[39m \u001b[34mstringr\u001b[39m 1.4.0\n",
      "\u001b[32mv\u001b[39m \u001b[34mtidyr  \u001b[39m 1.1.3     \u001b[32mv\u001b[39m \u001b[34mforcats\u001b[39m 0.5.1\n",
      "\u001b[32mv\u001b[39m \u001b[34mreadr  \u001b[39m 1.4.0     \n",
      "\n",
      "-- \u001b[1mConflicts\u001b[22m ---------------------------------------------------------------------------------- tidyverse_conflicts() --\n",
      "\u001b[31mx\u001b[39m \u001b[34mdplyr\u001b[39m::\u001b[32marrange()\u001b[39m   masks \u001b[34mplyr\u001b[39m::arrange()\n",
      "\u001b[31mx\u001b[39m \u001b[34mpurrr\u001b[39m::\u001b[32mcompact()\u001b[39m   masks \u001b[34mplyr\u001b[39m::compact()\n",
      "\u001b[31mx\u001b[39m \u001b[34mdplyr\u001b[39m::\u001b[32mcount()\u001b[39m     masks \u001b[34mplyr\u001b[39m::count()\n",
      "\u001b[31mx\u001b[39m \u001b[34mdplyr\u001b[39m::\u001b[32mfailwith()\u001b[39m  masks \u001b[34mplyr\u001b[39m::failwith()\n",
      "\u001b[31mx\u001b[39m \u001b[34mdplyr\u001b[39m::\u001b[32mfilter()\u001b[39m    masks \u001b[34mstats\u001b[39m::filter()\n",
      "\u001b[31mx\u001b[39m \u001b[34mdplyr\u001b[39m::\u001b[32mid()\u001b[39m        masks \u001b[34mplyr\u001b[39m::id()\n",
      "\u001b[31mx\u001b[39m \u001b[34mdplyr\u001b[39m::\u001b[32mlag()\u001b[39m       masks \u001b[34mstats\u001b[39m::lag()\n",
      "\u001b[31mx\u001b[39m \u001b[34mdplyr\u001b[39m::\u001b[32mmutate()\u001b[39m    masks \u001b[34mplyr\u001b[39m::mutate()\n",
      "\u001b[31mx\u001b[39m \u001b[34mdplyr\u001b[39m::\u001b[32mrename()\u001b[39m    masks \u001b[34mplyr\u001b[39m::rename()\n",
      "\u001b[31mx\u001b[39m \u001b[34mdplyr\u001b[39m::\u001b[32msummarise()\u001b[39m masks \u001b[34mplyr\u001b[39m::summarise()\n",
      "\u001b[31mx\u001b[39m \u001b[34mdplyr\u001b[39m::\u001b[32msummarize()\u001b[39m masks \u001b[34mplyr\u001b[39m::summarize()\n",
      "\n",
      "\n",
      "Attaching package: 'reshape2'\n",
      "\n",
      "\n",
      "The following object is masked from 'package:tidyr':\n",
      "\n",
      "    smiths\n",
      "\n",
      "\n",
      "\n",
      "Attaching package: 'data.table'\n",
      "\n",
      "\n",
      "The following objects are masked from 'package:reshape2':\n",
      "\n",
      "    dcast, melt\n",
      "\n",
      "\n",
      "The following object is masked from 'package:purrr':\n",
      "\n",
      "    transpose\n",
      "\n",
      "\n",
      "The following objects are masked from 'package:dplyr':\n",
      "\n",
      "    between, first, last\n",
      "\n",
      "\n",
      "\n",
      "Attaching package: 'corrgram'\n",
      "\n",
      "\n",
      "The following object is masked from 'package:plyr':\n",
      "\n",
      "    baseball\n",
      "\n",
      "\n",
      "corrplot 0.87 loaded\n",
      "\n"
     ]
    }
   ],
   "source": [
    "defaultW <- getOption(\"warn\") \n",
    "\n",
    "options(warn = -1) \n",
    "#importing libraries\n",
    "library(plyr)\n",
    "library(dplyr)\n",
    "library(tidyverse)\n",
    "library(caTools)\n",
    "library(ggplot2)\n",
    "library(ggthemes)\n",
    "library(reshape2)\n",
    "library(data.table)\n",
    "library(tidyr)\n",
    "library(corrgram)       \n",
    "library(corrplot)\n",
    "options(warn = defaultW)"
   ]
  },
  {
   "cell_type": "code",
   "execution_count": 2,
   "metadata": {},
   "outputs": [
    {
     "name": "stdout",
     "output_type": "stream",
     "text": [
      "'data.frame':\t149 obs. of  20 variables:\n",
      " $ ï..Country.name                           : chr  \"Finland\" \"Denmark\" \"Switzerland\" \"Iceland\" ...\n",
      " $ Regional.indicator                        : chr  \"Western Europe\" \"Western Europe\" \"Western Europe\" \"Western Europe\" ...\n",
      " $ Ladder.score                              : num  7.84 7.62 7.57 7.55 7.46 ...\n",
      " $ Standard.error.of.ladder.score            : num  0.032 0.035 0.036 0.059 0.027 0.035 0.036 0.037 0.04 0.036 ...\n",
      " $ upperwhisker                              : num  7.9 7.69 7.64 7.67 7.52 ...\n",
      " $ lowerwhisker                              : num  7.78 7.55 7.5 7.44 7.41 ...\n",
      " $ Logged.GDP.per.capita                     : num  10.8 10.9 11.1 10.9 10.9 ...\n",
      " $ Social.support                            : num  0.954 0.954 0.942 0.983 0.942 0.954 0.934 0.908 0.948 0.934 ...\n",
      " $ Healthy.life.expectancy                   : num  72 72.7 74.4 73 72.4 73.3 72.7 72.6 73.4 73.3 ...\n",
      " $ Freedom.to.make.life.choices              : num  0.949 0.946 0.919 0.955 0.913 0.96 0.945 0.907 0.929 0.908 ...\n",
      " $ Generosity                                : num  -0.098 0.03 0.025 0.16 0.175 0.093 0.086 -0.034 0.134 0.042 ...\n",
      " $ Perceptions.of.corruption                 : num  0.186 0.179 0.292 0.673 0.338 0.27 0.237 0.386 0.242 0.481 ...\n",
      " $ Ladder.score.in.Dystopia                  : num  2.43 2.43 2.43 2.43 2.43 2.43 2.43 2.43 2.43 2.43 ...\n",
      " $ Explained.by..Log.GDP.per.capita          : num  1.45 1.5 1.57 1.48 1.5 ...\n",
      " $ Explained.by..Social.support              : num  1.11 1.11 1.08 1.17 1.08 ...\n",
      " $ Explained.by..Healthy.life.expectancy     : num  0.741 0.763 0.816 0.772 0.753 0.782 0.763 0.76 0.785 0.782 ...\n",
      " $ Explained.by..Freedom.to.make.life.choices: num  0.691 0.686 0.653 0.698 0.647 0.703 0.685 0.639 0.665 0.64 ...\n",
      " $ Explained.by..Generosity                  : num  0.124 0.208 0.204 0.293 0.302 0.249 0.244 0.166 0.276 0.215 ...\n",
      " $ Explained.by..Perceptions.of.corruption   : num  0.481 0.485 0.413 0.17 0.384 0.427 0.448 0.353 0.445 0.292 ...\n",
      " $ Dystopia...residual                       : num  3.25 2.87 2.84 2.97 2.8 ...\n"
     ]
    }
   ],
   "source": [
    "#Loading dataset\n",
    "happ <- read.csv(\"world-happiness-report-2021.csv\")\n",
    "str(happ)"
   ]
  },
  {
   "cell_type": "code",
   "execution_count": 3,
   "metadata": {},
   "outputs": [
    {
     "data": {
      "text/html": [
       "<style>\n",
       ".list-inline {list-style: none; margin:0; padding: 0}\n",
       ".list-inline>li {display: inline-block}\n",
       ".list-inline>li:not(:last-child)::after {content: \"\\00b7\"; padding: 0 .5ex}\n",
       "</style>\n",
       "<ol class=list-inline><li>149</li><li>20</li></ol>\n"
      ],
      "text/latex": [
       "\\begin{enumerate*}\n",
       "\\item 149\n",
       "\\item 20\n",
       "\\end{enumerate*}\n"
      ],
      "text/markdown": [
       "1. 149\n",
       "2. 20\n",
       "\n",
       "\n"
      ],
      "text/plain": [
       "[1] 149  20"
      ]
     },
     "metadata": {},
     "output_type": "display_data"
    }
   ],
   "source": [
    "dim(happ)"
   ]
  },
  {
   "cell_type": "code",
   "execution_count": 4,
   "metadata": {},
   "outputs": [],
   "source": [
    "happ <- happ[, -c(2,4,5,6,13,14,15,16,17,18,19)] #dropping unnecessary columns"
   ]
  },
  {
   "cell_type": "code",
   "execution_count": 5,
   "metadata": {},
   "outputs": [
    {
     "data": {
      "text/html": [
       "<table class=\"dataframe\">\n",
       "<caption>A data.frame: 6 × 9</caption>\n",
       "<thead>\n",
       "\t<tr><th></th><th scope=col>ï..Country.name</th><th scope=col>Ladder.score</th><th scope=col>Logged.GDP.per.capita</th><th scope=col>Social.support</th><th scope=col>Healthy.life.expectancy</th><th scope=col>Freedom.to.make.life.choices</th><th scope=col>Generosity</th><th scope=col>Perceptions.of.corruption</th><th scope=col>Dystopia...residual</th></tr>\n",
       "\t<tr><th></th><th scope=col>&lt;chr&gt;</th><th scope=col>&lt;dbl&gt;</th><th scope=col>&lt;dbl&gt;</th><th scope=col>&lt;dbl&gt;</th><th scope=col>&lt;dbl&gt;</th><th scope=col>&lt;dbl&gt;</th><th scope=col>&lt;dbl&gt;</th><th scope=col>&lt;dbl&gt;</th><th scope=col>&lt;dbl&gt;</th></tr>\n",
       "</thead>\n",
       "<tbody>\n",
       "\t<tr><th scope=row>1</th><td>Finland    </td><td>7.842</td><td>10.775</td><td>0.954</td><td>72.0</td><td>0.949</td><td>-0.098</td><td>0.186</td><td>3.253</td></tr>\n",
       "\t<tr><th scope=row>2</th><td>Denmark    </td><td>7.620</td><td>10.933</td><td>0.954</td><td>72.7</td><td>0.946</td><td> 0.030</td><td>0.179</td><td>2.868</td></tr>\n",
       "\t<tr><th scope=row>3</th><td>Switzerland</td><td>7.571</td><td>11.117</td><td>0.942</td><td>74.4</td><td>0.919</td><td> 0.025</td><td>0.292</td><td>2.839</td></tr>\n",
       "\t<tr><th scope=row>4</th><td>Iceland    </td><td>7.554</td><td>10.878</td><td>0.983</td><td>73.0</td><td>0.955</td><td> 0.160</td><td>0.673</td><td>2.967</td></tr>\n",
       "\t<tr><th scope=row>5</th><td>Netherlands</td><td>7.464</td><td>10.932</td><td>0.942</td><td>72.4</td><td>0.913</td><td> 0.175</td><td>0.338</td><td>2.798</td></tr>\n",
       "\t<tr><th scope=row>6</th><td>Norway     </td><td>7.392</td><td>11.053</td><td>0.954</td><td>73.3</td><td>0.960</td><td> 0.093</td><td>0.270</td><td>2.580</td></tr>\n",
       "</tbody>\n",
       "</table>\n"
      ],
      "text/latex": [
       "A data.frame: 6 × 9\n",
       "\\begin{tabular}{r|lllllllll}\n",
       "  & ï..Country.name & Ladder.score & Logged.GDP.per.capita & Social.support & Healthy.life.expectancy & Freedom.to.make.life.choices & Generosity & Perceptions.of.corruption & Dystopia...residual\\\\\n",
       "  & <chr> & <dbl> & <dbl> & <dbl> & <dbl> & <dbl> & <dbl> & <dbl> & <dbl>\\\\\n",
       "\\hline\n",
       "\t1 & Finland     & 7.842 & 10.775 & 0.954 & 72.0 & 0.949 & -0.098 & 0.186 & 3.253\\\\\n",
       "\t2 & Denmark     & 7.620 & 10.933 & 0.954 & 72.7 & 0.946 &  0.030 & 0.179 & 2.868\\\\\n",
       "\t3 & Switzerland & 7.571 & 11.117 & 0.942 & 74.4 & 0.919 &  0.025 & 0.292 & 2.839\\\\\n",
       "\t4 & Iceland     & 7.554 & 10.878 & 0.983 & 73.0 & 0.955 &  0.160 & 0.673 & 2.967\\\\\n",
       "\t5 & Netherlands & 7.464 & 10.932 & 0.942 & 72.4 & 0.913 &  0.175 & 0.338 & 2.798\\\\\n",
       "\t6 & Norway      & 7.392 & 11.053 & 0.954 & 73.3 & 0.960 &  0.093 & 0.270 & 2.580\\\\\n",
       "\\end{tabular}\n"
      ],
      "text/markdown": [
       "\n",
       "A data.frame: 6 × 9\n",
       "\n",
       "| <!--/--> | ï..Country.name &lt;chr&gt; | Ladder.score &lt;dbl&gt; | Logged.GDP.per.capita &lt;dbl&gt; | Social.support &lt;dbl&gt; | Healthy.life.expectancy &lt;dbl&gt; | Freedom.to.make.life.choices &lt;dbl&gt; | Generosity &lt;dbl&gt; | Perceptions.of.corruption &lt;dbl&gt; | Dystopia...residual &lt;dbl&gt; |\n",
       "|---|---|---|---|---|---|---|---|---|---|\n",
       "| 1 | Finland     | 7.842 | 10.775 | 0.954 | 72.0 | 0.949 | -0.098 | 0.186 | 3.253 |\n",
       "| 2 | Denmark     | 7.620 | 10.933 | 0.954 | 72.7 | 0.946 |  0.030 | 0.179 | 2.868 |\n",
       "| 3 | Switzerland | 7.571 | 11.117 | 0.942 | 74.4 | 0.919 |  0.025 | 0.292 | 2.839 |\n",
       "| 4 | Iceland     | 7.554 | 10.878 | 0.983 | 73.0 | 0.955 |  0.160 | 0.673 | 2.967 |\n",
       "| 5 | Netherlands | 7.464 | 10.932 | 0.942 | 72.4 | 0.913 |  0.175 | 0.338 | 2.798 |\n",
       "| 6 | Norway      | 7.392 | 11.053 | 0.954 | 73.3 | 0.960 |  0.093 | 0.270 | 2.580 |\n",
       "\n"
      ],
      "text/plain": [
       "  ï..Country.name Ladder.score Logged.GDP.per.capita Social.support\n",
       "1 Finland         7.842        10.775                0.954         \n",
       "2 Denmark         7.620        10.933                0.954         \n",
       "3 Switzerland     7.571        11.117                0.942         \n",
       "4 Iceland         7.554        10.878                0.983         \n",
       "5 Netherlands     7.464        10.932                0.942         \n",
       "6 Norway          7.392        11.053                0.954         \n",
       "  Healthy.life.expectancy Freedom.to.make.life.choices Generosity\n",
       "1 72.0                    0.949                        -0.098    \n",
       "2 72.7                    0.946                         0.030    \n",
       "3 74.4                    0.919                         0.025    \n",
       "4 73.0                    0.955                         0.160    \n",
       "5 72.4                    0.913                         0.175    \n",
       "6 73.3                    0.960                         0.093    \n",
       "  Perceptions.of.corruption Dystopia...residual\n",
       "1 0.186                     3.253              \n",
       "2 0.179                     2.868              \n",
       "3 0.292                     2.839              \n",
       "4 0.673                     2.967              \n",
       "5 0.338                     2.798              \n",
       "6 0.270                     2.580              "
      ]
     },
     "metadata": {},
     "output_type": "display_data"
    }
   ],
   "source": [
    "head(happ)"
   ]
  },
  {
   "cell_type": "code",
   "execution_count": 6,
   "metadata": {},
   "outputs": [],
   "source": [
    "#Renaming columns for convenience\n",
    "happ <- happ %>% rename(c(\"Country\" = \"ï..Country.name\" ,\n",
    "                      \"Score\" = \"Ladder.score\",\n",
    "                      \"GDP\" = \"Logged.GDP.per.capita\", \n",
    "                      \"Family\" = \"Social.support\",\n",
    "                      \"Health\" = \"Healthy.life.expectancy\", \n",
    "                      \"Freedom\" = \"Freedom.to.make.life.choices\",\n",
    "                      \"Corruption\" = \"Perceptions.of.corruption\",\n",
    "                         \"Dystopia.residual\" = \"Dystopia...residual\"))\n"
   ]
  },
  {
   "cell_type": "code",
   "execution_count": 7,
   "metadata": {},
   "outputs": [
    {
     "data": {
      "text/html": [
       "<table class=\"dataframe\">\n",
       "<caption>A data.frame: 6 × 9</caption>\n",
       "<thead>\n",
       "\t<tr><th></th><th scope=col>Country</th><th scope=col>Score</th><th scope=col>GDP</th><th scope=col>Family</th><th scope=col>Health</th><th scope=col>Freedom</th><th scope=col>Generosity</th><th scope=col>Corruption</th><th scope=col>Dystopia.residual</th></tr>\n",
       "\t<tr><th></th><th scope=col>&lt;chr&gt;</th><th scope=col>&lt;dbl&gt;</th><th scope=col>&lt;dbl&gt;</th><th scope=col>&lt;dbl&gt;</th><th scope=col>&lt;dbl&gt;</th><th scope=col>&lt;dbl&gt;</th><th scope=col>&lt;dbl&gt;</th><th scope=col>&lt;dbl&gt;</th><th scope=col>&lt;dbl&gt;</th></tr>\n",
       "</thead>\n",
       "<tbody>\n",
       "\t<tr><th scope=row>1</th><td>Finland    </td><td>7.842</td><td>10.775</td><td>0.954</td><td>72.0</td><td>0.949</td><td>-0.098</td><td>0.186</td><td>3.253</td></tr>\n",
       "\t<tr><th scope=row>2</th><td>Denmark    </td><td>7.620</td><td>10.933</td><td>0.954</td><td>72.7</td><td>0.946</td><td> 0.030</td><td>0.179</td><td>2.868</td></tr>\n",
       "\t<tr><th scope=row>3</th><td>Switzerland</td><td>7.571</td><td>11.117</td><td>0.942</td><td>74.4</td><td>0.919</td><td> 0.025</td><td>0.292</td><td>2.839</td></tr>\n",
       "\t<tr><th scope=row>4</th><td>Iceland    </td><td>7.554</td><td>10.878</td><td>0.983</td><td>73.0</td><td>0.955</td><td> 0.160</td><td>0.673</td><td>2.967</td></tr>\n",
       "\t<tr><th scope=row>5</th><td>Netherlands</td><td>7.464</td><td>10.932</td><td>0.942</td><td>72.4</td><td>0.913</td><td> 0.175</td><td>0.338</td><td>2.798</td></tr>\n",
       "\t<tr><th scope=row>6</th><td>Norway     </td><td>7.392</td><td>11.053</td><td>0.954</td><td>73.3</td><td>0.960</td><td> 0.093</td><td>0.270</td><td>2.580</td></tr>\n",
       "</tbody>\n",
       "</table>\n"
      ],
      "text/latex": [
       "A data.frame: 6 × 9\n",
       "\\begin{tabular}{r|lllllllll}\n",
       "  & Country & Score & GDP & Family & Health & Freedom & Generosity & Corruption & Dystopia.residual\\\\\n",
       "  & <chr> & <dbl> & <dbl> & <dbl> & <dbl> & <dbl> & <dbl> & <dbl> & <dbl>\\\\\n",
       "\\hline\n",
       "\t1 & Finland     & 7.842 & 10.775 & 0.954 & 72.0 & 0.949 & -0.098 & 0.186 & 3.253\\\\\n",
       "\t2 & Denmark     & 7.620 & 10.933 & 0.954 & 72.7 & 0.946 &  0.030 & 0.179 & 2.868\\\\\n",
       "\t3 & Switzerland & 7.571 & 11.117 & 0.942 & 74.4 & 0.919 &  0.025 & 0.292 & 2.839\\\\\n",
       "\t4 & Iceland     & 7.554 & 10.878 & 0.983 & 73.0 & 0.955 &  0.160 & 0.673 & 2.967\\\\\n",
       "\t5 & Netherlands & 7.464 & 10.932 & 0.942 & 72.4 & 0.913 &  0.175 & 0.338 & 2.798\\\\\n",
       "\t6 & Norway      & 7.392 & 11.053 & 0.954 & 73.3 & 0.960 &  0.093 & 0.270 & 2.580\\\\\n",
       "\\end{tabular}\n"
      ],
      "text/markdown": [
       "\n",
       "A data.frame: 6 × 9\n",
       "\n",
       "| <!--/--> | Country &lt;chr&gt; | Score &lt;dbl&gt; | GDP &lt;dbl&gt; | Family &lt;dbl&gt; | Health &lt;dbl&gt; | Freedom &lt;dbl&gt; | Generosity &lt;dbl&gt; | Corruption &lt;dbl&gt; | Dystopia.residual &lt;dbl&gt; |\n",
       "|---|---|---|---|---|---|---|---|---|---|\n",
       "| 1 | Finland     | 7.842 | 10.775 | 0.954 | 72.0 | 0.949 | -0.098 | 0.186 | 3.253 |\n",
       "| 2 | Denmark     | 7.620 | 10.933 | 0.954 | 72.7 | 0.946 |  0.030 | 0.179 | 2.868 |\n",
       "| 3 | Switzerland | 7.571 | 11.117 | 0.942 | 74.4 | 0.919 |  0.025 | 0.292 | 2.839 |\n",
       "| 4 | Iceland     | 7.554 | 10.878 | 0.983 | 73.0 | 0.955 |  0.160 | 0.673 | 2.967 |\n",
       "| 5 | Netherlands | 7.464 | 10.932 | 0.942 | 72.4 | 0.913 |  0.175 | 0.338 | 2.798 |\n",
       "| 6 | Norway      | 7.392 | 11.053 | 0.954 | 73.3 | 0.960 |  0.093 | 0.270 | 2.580 |\n",
       "\n"
      ],
      "text/plain": [
       "  Country     Score GDP    Family Health Freedom Generosity Corruption\n",
       "1 Finland     7.842 10.775 0.954  72.0   0.949   -0.098     0.186     \n",
       "2 Denmark     7.620 10.933 0.954  72.7   0.946    0.030     0.179     \n",
       "3 Switzerland 7.571 11.117 0.942  74.4   0.919    0.025     0.292     \n",
       "4 Iceland     7.554 10.878 0.983  73.0   0.955    0.160     0.673     \n",
       "5 Netherlands 7.464 10.932 0.942  72.4   0.913    0.175     0.338     \n",
       "6 Norway      7.392 11.053 0.954  73.3   0.960    0.093     0.270     \n",
       "  Dystopia.residual\n",
       "1 3.253            \n",
       "2 2.868            \n",
       "3 2.839            \n",
       "4 2.967            \n",
       "5 2.798            \n",
       "6 2.580            "
      ]
     },
     "metadata": {},
     "output_type": "display_data"
    }
   ],
   "source": [
    "head(happ)"
   ]
  },
  {
   "cell_type": "code",
   "execution_count": 8,
   "metadata": {},
   "outputs": [
    {
     "data": {
      "text/html": [
       "<table class=\"dataframe\">\n",
       "<caption>A data.frame: 149 × 10</caption>\n",
       "<thead>\n",
       "\t<tr><th scope=col>Country</th><th scope=col>Score</th><th scope=col>GDP</th><th scope=col>Family</th><th scope=col>Health</th><th scope=col>Freedom</th><th scope=col>Generosity</th><th scope=col>Corruption</th><th scope=col>Dystopia.residual</th><th scope=col>Rank</th></tr>\n",
       "\t<tr><th scope=col>&lt;chr&gt;</th><th scope=col>&lt;dbl&gt;</th><th scope=col>&lt;dbl&gt;</th><th scope=col>&lt;dbl&gt;</th><th scope=col>&lt;dbl&gt;</th><th scope=col>&lt;dbl&gt;</th><th scope=col>&lt;dbl&gt;</th><th scope=col>&lt;dbl&gt;</th><th scope=col>&lt;dbl&gt;</th><th scope=col>&lt;int&gt;</th></tr>\n",
       "</thead>\n",
       "<tbody>\n",
       "\t<tr><td>Finland                 </td><td>7.842</td><td>10.775</td><td>0.954</td><td>72.000</td><td>0.949</td><td>-0.098</td><td>0.186</td><td>3.253</td><td> 1</td></tr>\n",
       "\t<tr><td>Denmark                 </td><td>7.620</td><td>10.933</td><td>0.954</td><td>72.700</td><td>0.946</td><td> 0.030</td><td>0.179</td><td>2.868</td><td> 2</td></tr>\n",
       "\t<tr><td>Switzerland             </td><td>7.571</td><td>11.117</td><td>0.942</td><td>74.400</td><td>0.919</td><td> 0.025</td><td>0.292</td><td>2.839</td><td> 3</td></tr>\n",
       "\t<tr><td>Iceland                 </td><td>7.554</td><td>10.878</td><td>0.983</td><td>73.000</td><td>0.955</td><td> 0.160</td><td>0.673</td><td>2.967</td><td> 4</td></tr>\n",
       "\t<tr><td>Netherlands             </td><td>7.464</td><td>10.932</td><td>0.942</td><td>72.400</td><td>0.913</td><td> 0.175</td><td>0.338</td><td>2.798</td><td> 5</td></tr>\n",
       "\t<tr><td>Norway                  </td><td>7.392</td><td>11.053</td><td>0.954</td><td>73.300</td><td>0.960</td><td> 0.093</td><td>0.270</td><td>2.580</td><td> 6</td></tr>\n",
       "\t<tr><td>Sweden                  </td><td>7.363</td><td>10.867</td><td>0.934</td><td>72.700</td><td>0.945</td><td> 0.086</td><td>0.237</td><td>2.683</td><td> 7</td></tr>\n",
       "\t<tr><td>Luxembourg              </td><td>7.324</td><td>11.647</td><td>0.908</td><td>72.600</td><td>0.907</td><td>-0.034</td><td>0.386</td><td>2.653</td><td> 8</td></tr>\n",
       "\t<tr><td>New Zealand             </td><td>7.277</td><td>10.643</td><td>0.948</td><td>73.400</td><td>0.929</td><td> 0.134</td><td>0.242</td><td>2.612</td><td> 9</td></tr>\n",
       "\t<tr><td>Austria                 </td><td>7.268</td><td>10.906</td><td>0.934</td><td>73.300</td><td>0.908</td><td> 0.042</td><td>0.481</td><td>2.784</td><td>10</td></tr>\n",
       "\t<tr><td>Australia               </td><td>7.183</td><td>10.796</td><td>0.940</td><td>73.900</td><td>0.914</td><td> 0.159</td><td>0.442</td><td>2.598</td><td>11</td></tr>\n",
       "\t<tr><td>Israel                  </td><td>7.157</td><td>10.575</td><td>0.939</td><td>73.503</td><td>0.800</td><td> 0.031</td><td>0.753</td><td>3.083</td><td>12</td></tr>\n",
       "\t<tr><td>Germany                 </td><td>7.155</td><td>10.873</td><td>0.903</td><td>72.500</td><td>0.875</td><td> 0.011</td><td>0.460</td><td>2.824</td><td>13</td></tr>\n",
       "\t<tr><td>Canada                  </td><td>7.103</td><td>10.776</td><td>0.926</td><td>73.800</td><td>0.915</td><td> 0.089</td><td>0.415</td><td>2.585</td><td>14</td></tr>\n",
       "\t<tr><td>Ireland                 </td><td>7.085</td><td>11.342</td><td>0.947</td><td>72.400</td><td>0.879</td><td> 0.077</td><td>0.363</td><td>2.384</td><td>15</td></tr>\n",
       "\t<tr><td>Costa Rica              </td><td>7.069</td><td> 9.880</td><td>0.891</td><td>71.400</td><td>0.934</td><td>-0.126</td><td>0.809</td><td>3.387</td><td>16</td></tr>\n",
       "\t<tr><td>United Kingdom          </td><td>7.064</td><td>10.707</td><td>0.934</td><td>72.500</td><td>0.859</td><td> 0.233</td><td>0.459</td><td>2.596</td><td>17</td></tr>\n",
       "\t<tr><td>Czech Republic          </td><td>6.965</td><td>10.556</td><td>0.947</td><td>70.807</td><td>0.858</td><td>-0.208</td><td>0.868</td><td>3.124</td><td>18</td></tr>\n",
       "\t<tr><td>United States           </td><td>6.951</td><td>11.023</td><td>0.920</td><td>68.200</td><td>0.837</td><td> 0.098</td><td>0.698</td><td>2.807</td><td>19</td></tr>\n",
       "\t<tr><td>Belgium                 </td><td>6.834</td><td>10.823</td><td>0.906</td><td>72.199</td><td>0.783</td><td>-0.153</td><td>0.646</td><td>2.862</td><td>20</td></tr>\n",
       "\t<tr><td>France                  </td><td>6.690</td><td>10.704</td><td>0.942</td><td>74.000</td><td>0.822</td><td>-0.147</td><td>0.571</td><td>2.521</td><td>21</td></tr>\n",
       "\t<tr><td>Bahrain                 </td><td>6.647</td><td>10.669</td><td>0.862</td><td>69.495</td><td>0.925</td><td> 0.089</td><td>0.722</td><td>2.631</td><td>22</td></tr>\n",
       "\t<tr><td>Malta                   </td><td>6.602</td><td>10.674</td><td>0.931</td><td>72.200</td><td>0.927</td><td> 0.133</td><td>0.653</td><td>2.268</td><td>23</td></tr>\n",
       "\t<tr><td>Taiwan Province of China</td><td>6.584</td><td>10.871</td><td>0.898</td><td>69.600</td><td>0.784</td><td>-0.070</td><td>0.721</td><td>2.687</td><td>24</td></tr>\n",
       "\t<tr><td>United Arab Emirates    </td><td>6.561</td><td>11.085</td><td>0.844</td><td>67.333</td><td>0.932</td><td> 0.074</td><td>0.589</td><td>2.422</td><td>25</td></tr>\n",
       "\t<tr><td>Saudi Arabia            </td><td>6.494</td><td>10.743</td><td>0.891</td><td>66.603</td><td>0.877</td><td>-0.149</td><td>0.684</td><td>2.668</td><td>26</td></tr>\n",
       "\t<tr><td>Spain                   </td><td>6.491</td><td>10.571</td><td>0.932</td><td>74.700</td><td>0.761</td><td>-0.081</td><td>0.745</td><td>2.513</td><td>27</td></tr>\n",
       "\t<tr><td>Italy                   </td><td>6.483</td><td>10.623</td><td>0.880</td><td>73.800</td><td>0.693</td><td>-0.084</td><td>0.866</td><td>2.794</td><td>28</td></tr>\n",
       "\t<tr><td>Slovenia                </td><td>6.461</td><td>10.529</td><td>0.948</td><td>71.400</td><td>0.949</td><td>-0.101</td><td>0.806</td><td>2.388</td><td>29</td></tr>\n",
       "\t<tr><td>Guatemala               </td><td>6.435</td><td> 9.053</td><td>0.813</td><td>64.958</td><td>0.906</td><td>-0.038</td><td>0.775</td><td>3.375</td><td>30</td></tr>\n",
       "\t<tr><td>...</td><td>...</td><td>...</td><td>...</td><td>...</td><td>...</td><td>...</td><td>...</td><td>...</td><td>...</td></tr>\n",
       "\t<tr><td>Liberia                </td><td>4.625</td><td>7.288</td><td>0.720</td><td>56.498</td><td>0.735</td><td> 0.050</td><td>0.850</td><td>2.857</td><td>120</td></tr>\n",
       "\t<tr><td>Kenya                  </td><td>4.607</td><td>8.361</td><td>0.688</td><td>60.704</td><td>0.779</td><td> 0.287</td><td>0.825</td><td>2.180</td><td>121</td></tr>\n",
       "\t<tr><td>Tunisia                </td><td>4.596</td><td>9.266</td><td>0.691</td><td>67.201</td><td>0.656</td><td>-0.201</td><td>0.870</td><td>2.138</td><td>122</td></tr>\n",
       "\t<tr><td>Lebanon                </td><td>4.584</td><td>9.626</td><td>0.848</td><td>67.355</td><td>0.525</td><td>-0.073</td><td>0.898</td><td>1.736</td><td>123</td></tr>\n",
       "\t<tr><td>Namibia                </td><td>4.574</td><td>9.161</td><td>0.818</td><td>56.799</td><td>0.719</td><td>-0.149</td><td>0.847</td><td>2.068</td><td>124</td></tr>\n",
       "\t<tr><td>Palestinian Territories</td><td>4.517</td><td>8.485</td><td>0.826</td><td>62.250</td><td>0.653</td><td>-0.163</td><td>0.821</td><td>2.131</td><td>125</td></tr>\n",
       "\t<tr><td>Myanmar                </td><td>4.426</td><td>8.541</td><td>0.779</td><td>59.302</td><td>0.876</td><td> 0.509</td><td>0.660</td><td>1.407</td><td>126</td></tr>\n",
       "\t<tr><td>Jordan                 </td><td>4.395</td><td>9.182</td><td>0.767</td><td>67.000</td><td>0.755</td><td>-0.167</td><td>0.705</td><td>1.553</td><td>127</td></tr>\n",
       "\t<tr><td>Chad                   </td><td>4.355</td><td>7.364</td><td>0.619</td><td>48.478</td><td>0.579</td><td> 0.041</td><td>0.807</td><td>3.209</td><td>128</td></tr>\n",
       "\t<tr><td>Sri Lanka              </td><td>4.325</td><td>9.470</td><td>0.827</td><td>67.299</td><td>0.841</td><td> 0.079</td><td>0.863</td><td>1.075</td><td>129</td></tr>\n",
       "\t<tr><td>Swaziland              </td><td>4.308</td><td>9.065</td><td>0.770</td><td>50.833</td><td>0.647</td><td>-0.185</td><td>0.708</td><td>2.155</td><td>130</td></tr>\n",
       "\t<tr><td>Comoros                </td><td>4.289</td><td>8.031</td><td>0.626</td><td>57.349</td><td>0.548</td><td> 0.082</td><td>0.781</td><td>2.610</td><td>131</td></tr>\n",
       "\t<tr><td>Egypt                  </td><td>4.283</td><td>9.367</td><td>0.750</td><td>61.998</td><td>0.749</td><td>-0.182</td><td>0.795</td><td>1.648</td><td>132</td></tr>\n",
       "\t<tr><td>Ethiopia               </td><td>4.275</td><td>7.694</td><td>0.764</td><td>59.000</td><td>0.752</td><td> 0.082</td><td>0.761</td><td>2.089</td><td>133</td></tr>\n",
       "\t<tr><td>Mauritania             </td><td>4.227</td><td>8.542</td><td>0.795</td><td>57.161</td><td>0.561</td><td>-0.106</td><td>0.731</td><td>2.069</td><td>134</td></tr>\n",
       "\t<tr><td>Madagascar             </td><td>4.208</td><td>7.396</td><td>0.686</td><td>59.305</td><td>0.552</td><td>-0.005</td><td>0.803</td><td>2.620</td><td>135</td></tr>\n",
       "\t<tr><td>Togo                   </td><td>4.107</td><td>7.362</td><td>0.569</td><td>54.914</td><td>0.619</td><td> 0.032</td><td>0.772</td><td>2.806</td><td>136</td></tr>\n",
       "\t<tr><td>Zambia                 </td><td>4.073</td><td>8.145</td><td>0.708</td><td>55.809</td><td>0.782</td><td> 0.061</td><td>0.823</td><td>1.975</td><td>137</td></tr>\n",
       "\t<tr><td>Sierra Leone           </td><td>3.849</td><td>7.434</td><td>0.630</td><td>51.651</td><td>0.717</td><td> 0.084</td><td>0.866</td><td>2.396</td><td>138</td></tr>\n",
       "\t<tr><td>India                  </td><td>3.819</td><td>8.755</td><td>0.603</td><td>60.633</td><td>0.893</td><td> 0.089</td><td>0.774</td><td>1.405</td><td>139</td></tr>\n",
       "\t<tr><td>Burundi                </td><td>3.775</td><td>6.635</td><td>0.490</td><td>53.400</td><td>0.626</td><td>-0.024</td><td>0.607</td><td>2.876</td><td>140</td></tr>\n",
       "\t<tr><td>Yemen                  </td><td>3.658</td><td>7.578</td><td>0.832</td><td>57.122</td><td>0.602</td><td>-0.147</td><td>0.800</td><td>1.776</td><td>141</td></tr>\n",
       "\t<tr><td>Tanzania               </td><td>3.623</td><td>7.876</td><td>0.702</td><td>57.999</td><td>0.833</td><td> 0.183</td><td>0.577</td><td>1.263</td><td>142</td></tr>\n",
       "\t<tr><td>Haiti                  </td><td>3.615</td><td>7.477</td><td>0.540</td><td>55.700</td><td>0.593</td><td> 0.422</td><td>0.721</td><td>2.060</td><td>143</td></tr>\n",
       "\t<tr><td>Malawi                 </td><td>3.600</td><td>6.958</td><td>0.537</td><td>57.948</td><td>0.780</td><td> 0.038</td><td>0.729</td><td>2.190</td><td>144</td></tr>\n",
       "\t<tr><td>Lesotho                </td><td>3.512</td><td>7.926</td><td>0.787</td><td>48.700</td><td>0.715</td><td>-0.131</td><td>0.915</td><td>1.800</td><td>145</td></tr>\n",
       "\t<tr><td>Botswana               </td><td>3.467</td><td>9.782</td><td>0.784</td><td>59.269</td><td>0.824</td><td>-0.246</td><td>0.801</td><td>0.648</td><td>146</td></tr>\n",
       "\t<tr><td>Rwanda                 </td><td>3.415</td><td>7.676</td><td>0.552</td><td>61.400</td><td>0.897</td><td> 0.061</td><td>0.167</td><td>1.095</td><td>147</td></tr>\n",
       "\t<tr><td>Zimbabwe               </td><td>3.145</td><td>7.943</td><td>0.750</td><td>56.201</td><td>0.677</td><td>-0.047</td><td>0.821</td><td>1.205</td><td>148</td></tr>\n",
       "\t<tr><td>Afghanistan            </td><td>2.523</td><td>7.695</td><td>0.463</td><td>52.493</td><td>0.382</td><td>-0.102</td><td>0.924</td><td>1.895</td><td>149</td></tr>\n",
       "</tbody>\n",
       "</table>\n"
      ],
      "text/latex": [
       "A data.frame: 149 × 10\n",
       "\\begin{tabular}{llllllllll}\n",
       " Country & Score & GDP & Family & Health & Freedom & Generosity & Corruption & Dystopia.residual & Rank\\\\\n",
       " <chr> & <dbl> & <dbl> & <dbl> & <dbl> & <dbl> & <dbl> & <dbl> & <dbl> & <int>\\\\\n",
       "\\hline\n",
       "\t Finland                  & 7.842 & 10.775 & 0.954 & 72.000 & 0.949 & -0.098 & 0.186 & 3.253 &  1\\\\\n",
       "\t Denmark                  & 7.620 & 10.933 & 0.954 & 72.700 & 0.946 &  0.030 & 0.179 & 2.868 &  2\\\\\n",
       "\t Switzerland              & 7.571 & 11.117 & 0.942 & 74.400 & 0.919 &  0.025 & 0.292 & 2.839 &  3\\\\\n",
       "\t Iceland                  & 7.554 & 10.878 & 0.983 & 73.000 & 0.955 &  0.160 & 0.673 & 2.967 &  4\\\\\n",
       "\t Netherlands              & 7.464 & 10.932 & 0.942 & 72.400 & 0.913 &  0.175 & 0.338 & 2.798 &  5\\\\\n",
       "\t Norway                   & 7.392 & 11.053 & 0.954 & 73.300 & 0.960 &  0.093 & 0.270 & 2.580 &  6\\\\\n",
       "\t Sweden                   & 7.363 & 10.867 & 0.934 & 72.700 & 0.945 &  0.086 & 0.237 & 2.683 &  7\\\\\n",
       "\t Luxembourg               & 7.324 & 11.647 & 0.908 & 72.600 & 0.907 & -0.034 & 0.386 & 2.653 &  8\\\\\n",
       "\t New Zealand              & 7.277 & 10.643 & 0.948 & 73.400 & 0.929 &  0.134 & 0.242 & 2.612 &  9\\\\\n",
       "\t Austria                  & 7.268 & 10.906 & 0.934 & 73.300 & 0.908 &  0.042 & 0.481 & 2.784 & 10\\\\\n",
       "\t Australia                & 7.183 & 10.796 & 0.940 & 73.900 & 0.914 &  0.159 & 0.442 & 2.598 & 11\\\\\n",
       "\t Israel                   & 7.157 & 10.575 & 0.939 & 73.503 & 0.800 &  0.031 & 0.753 & 3.083 & 12\\\\\n",
       "\t Germany                  & 7.155 & 10.873 & 0.903 & 72.500 & 0.875 &  0.011 & 0.460 & 2.824 & 13\\\\\n",
       "\t Canada                   & 7.103 & 10.776 & 0.926 & 73.800 & 0.915 &  0.089 & 0.415 & 2.585 & 14\\\\\n",
       "\t Ireland                  & 7.085 & 11.342 & 0.947 & 72.400 & 0.879 &  0.077 & 0.363 & 2.384 & 15\\\\\n",
       "\t Costa Rica               & 7.069 &  9.880 & 0.891 & 71.400 & 0.934 & -0.126 & 0.809 & 3.387 & 16\\\\\n",
       "\t United Kingdom           & 7.064 & 10.707 & 0.934 & 72.500 & 0.859 &  0.233 & 0.459 & 2.596 & 17\\\\\n",
       "\t Czech Republic           & 6.965 & 10.556 & 0.947 & 70.807 & 0.858 & -0.208 & 0.868 & 3.124 & 18\\\\\n",
       "\t United States            & 6.951 & 11.023 & 0.920 & 68.200 & 0.837 &  0.098 & 0.698 & 2.807 & 19\\\\\n",
       "\t Belgium                  & 6.834 & 10.823 & 0.906 & 72.199 & 0.783 & -0.153 & 0.646 & 2.862 & 20\\\\\n",
       "\t France                   & 6.690 & 10.704 & 0.942 & 74.000 & 0.822 & -0.147 & 0.571 & 2.521 & 21\\\\\n",
       "\t Bahrain                  & 6.647 & 10.669 & 0.862 & 69.495 & 0.925 &  0.089 & 0.722 & 2.631 & 22\\\\\n",
       "\t Malta                    & 6.602 & 10.674 & 0.931 & 72.200 & 0.927 &  0.133 & 0.653 & 2.268 & 23\\\\\n",
       "\t Taiwan Province of China & 6.584 & 10.871 & 0.898 & 69.600 & 0.784 & -0.070 & 0.721 & 2.687 & 24\\\\\n",
       "\t United Arab Emirates     & 6.561 & 11.085 & 0.844 & 67.333 & 0.932 &  0.074 & 0.589 & 2.422 & 25\\\\\n",
       "\t Saudi Arabia             & 6.494 & 10.743 & 0.891 & 66.603 & 0.877 & -0.149 & 0.684 & 2.668 & 26\\\\\n",
       "\t Spain                    & 6.491 & 10.571 & 0.932 & 74.700 & 0.761 & -0.081 & 0.745 & 2.513 & 27\\\\\n",
       "\t Italy                    & 6.483 & 10.623 & 0.880 & 73.800 & 0.693 & -0.084 & 0.866 & 2.794 & 28\\\\\n",
       "\t Slovenia                 & 6.461 & 10.529 & 0.948 & 71.400 & 0.949 & -0.101 & 0.806 & 2.388 & 29\\\\\n",
       "\t Guatemala                & 6.435 &  9.053 & 0.813 & 64.958 & 0.906 & -0.038 & 0.775 & 3.375 & 30\\\\\n",
       "\t ... & ... & ... & ... & ... & ... & ... & ... & ... & ...\\\\\n",
       "\t Liberia                 & 4.625 & 7.288 & 0.720 & 56.498 & 0.735 &  0.050 & 0.850 & 2.857 & 120\\\\\n",
       "\t Kenya                   & 4.607 & 8.361 & 0.688 & 60.704 & 0.779 &  0.287 & 0.825 & 2.180 & 121\\\\\n",
       "\t Tunisia                 & 4.596 & 9.266 & 0.691 & 67.201 & 0.656 & -0.201 & 0.870 & 2.138 & 122\\\\\n",
       "\t Lebanon                 & 4.584 & 9.626 & 0.848 & 67.355 & 0.525 & -0.073 & 0.898 & 1.736 & 123\\\\\n",
       "\t Namibia                 & 4.574 & 9.161 & 0.818 & 56.799 & 0.719 & -0.149 & 0.847 & 2.068 & 124\\\\\n",
       "\t Palestinian Territories & 4.517 & 8.485 & 0.826 & 62.250 & 0.653 & -0.163 & 0.821 & 2.131 & 125\\\\\n",
       "\t Myanmar                 & 4.426 & 8.541 & 0.779 & 59.302 & 0.876 &  0.509 & 0.660 & 1.407 & 126\\\\\n",
       "\t Jordan                  & 4.395 & 9.182 & 0.767 & 67.000 & 0.755 & -0.167 & 0.705 & 1.553 & 127\\\\\n",
       "\t Chad                    & 4.355 & 7.364 & 0.619 & 48.478 & 0.579 &  0.041 & 0.807 & 3.209 & 128\\\\\n",
       "\t Sri Lanka               & 4.325 & 9.470 & 0.827 & 67.299 & 0.841 &  0.079 & 0.863 & 1.075 & 129\\\\\n",
       "\t Swaziland               & 4.308 & 9.065 & 0.770 & 50.833 & 0.647 & -0.185 & 0.708 & 2.155 & 130\\\\\n",
       "\t Comoros                 & 4.289 & 8.031 & 0.626 & 57.349 & 0.548 &  0.082 & 0.781 & 2.610 & 131\\\\\n",
       "\t Egypt                   & 4.283 & 9.367 & 0.750 & 61.998 & 0.749 & -0.182 & 0.795 & 1.648 & 132\\\\\n",
       "\t Ethiopia                & 4.275 & 7.694 & 0.764 & 59.000 & 0.752 &  0.082 & 0.761 & 2.089 & 133\\\\\n",
       "\t Mauritania              & 4.227 & 8.542 & 0.795 & 57.161 & 0.561 & -0.106 & 0.731 & 2.069 & 134\\\\\n",
       "\t Madagascar              & 4.208 & 7.396 & 0.686 & 59.305 & 0.552 & -0.005 & 0.803 & 2.620 & 135\\\\\n",
       "\t Togo                    & 4.107 & 7.362 & 0.569 & 54.914 & 0.619 &  0.032 & 0.772 & 2.806 & 136\\\\\n",
       "\t Zambia                  & 4.073 & 8.145 & 0.708 & 55.809 & 0.782 &  0.061 & 0.823 & 1.975 & 137\\\\\n",
       "\t Sierra Leone            & 3.849 & 7.434 & 0.630 & 51.651 & 0.717 &  0.084 & 0.866 & 2.396 & 138\\\\\n",
       "\t India                   & 3.819 & 8.755 & 0.603 & 60.633 & 0.893 &  0.089 & 0.774 & 1.405 & 139\\\\\n",
       "\t Burundi                 & 3.775 & 6.635 & 0.490 & 53.400 & 0.626 & -0.024 & 0.607 & 2.876 & 140\\\\\n",
       "\t Yemen                   & 3.658 & 7.578 & 0.832 & 57.122 & 0.602 & -0.147 & 0.800 & 1.776 & 141\\\\\n",
       "\t Tanzania                & 3.623 & 7.876 & 0.702 & 57.999 & 0.833 &  0.183 & 0.577 & 1.263 & 142\\\\\n",
       "\t Haiti                   & 3.615 & 7.477 & 0.540 & 55.700 & 0.593 &  0.422 & 0.721 & 2.060 & 143\\\\\n",
       "\t Malawi                  & 3.600 & 6.958 & 0.537 & 57.948 & 0.780 &  0.038 & 0.729 & 2.190 & 144\\\\\n",
       "\t Lesotho                 & 3.512 & 7.926 & 0.787 & 48.700 & 0.715 & -0.131 & 0.915 & 1.800 & 145\\\\\n",
       "\t Botswana                & 3.467 & 9.782 & 0.784 & 59.269 & 0.824 & -0.246 & 0.801 & 0.648 & 146\\\\\n",
       "\t Rwanda                  & 3.415 & 7.676 & 0.552 & 61.400 & 0.897 &  0.061 & 0.167 & 1.095 & 147\\\\\n",
       "\t Zimbabwe                & 3.145 & 7.943 & 0.750 & 56.201 & 0.677 & -0.047 & 0.821 & 1.205 & 148\\\\\n",
       "\t Afghanistan             & 2.523 & 7.695 & 0.463 & 52.493 & 0.382 & -0.102 & 0.924 & 1.895 & 149\\\\\n",
       "\\end{tabular}\n"
      ],
      "text/markdown": [
       "\n",
       "A data.frame: 149 × 10\n",
       "\n",
       "| Country &lt;chr&gt; | Score &lt;dbl&gt; | GDP &lt;dbl&gt; | Family &lt;dbl&gt; | Health &lt;dbl&gt; | Freedom &lt;dbl&gt; | Generosity &lt;dbl&gt; | Corruption &lt;dbl&gt; | Dystopia.residual &lt;dbl&gt; | Rank &lt;int&gt; |\n",
       "|---|---|---|---|---|---|---|---|---|---|\n",
       "| Finland                  | 7.842 | 10.775 | 0.954 | 72.000 | 0.949 | -0.098 | 0.186 | 3.253 |  1 |\n",
       "| Denmark                  | 7.620 | 10.933 | 0.954 | 72.700 | 0.946 |  0.030 | 0.179 | 2.868 |  2 |\n",
       "| Switzerland              | 7.571 | 11.117 | 0.942 | 74.400 | 0.919 |  0.025 | 0.292 | 2.839 |  3 |\n",
       "| Iceland                  | 7.554 | 10.878 | 0.983 | 73.000 | 0.955 |  0.160 | 0.673 | 2.967 |  4 |\n",
       "| Netherlands              | 7.464 | 10.932 | 0.942 | 72.400 | 0.913 |  0.175 | 0.338 | 2.798 |  5 |\n",
       "| Norway                   | 7.392 | 11.053 | 0.954 | 73.300 | 0.960 |  0.093 | 0.270 | 2.580 |  6 |\n",
       "| Sweden                   | 7.363 | 10.867 | 0.934 | 72.700 | 0.945 |  0.086 | 0.237 | 2.683 |  7 |\n",
       "| Luxembourg               | 7.324 | 11.647 | 0.908 | 72.600 | 0.907 | -0.034 | 0.386 | 2.653 |  8 |\n",
       "| New Zealand              | 7.277 | 10.643 | 0.948 | 73.400 | 0.929 |  0.134 | 0.242 | 2.612 |  9 |\n",
       "| Austria                  | 7.268 | 10.906 | 0.934 | 73.300 | 0.908 |  0.042 | 0.481 | 2.784 | 10 |\n",
       "| Australia                | 7.183 | 10.796 | 0.940 | 73.900 | 0.914 |  0.159 | 0.442 | 2.598 | 11 |\n",
       "| Israel                   | 7.157 | 10.575 | 0.939 | 73.503 | 0.800 |  0.031 | 0.753 | 3.083 | 12 |\n",
       "| Germany                  | 7.155 | 10.873 | 0.903 | 72.500 | 0.875 |  0.011 | 0.460 | 2.824 | 13 |\n",
       "| Canada                   | 7.103 | 10.776 | 0.926 | 73.800 | 0.915 |  0.089 | 0.415 | 2.585 | 14 |\n",
       "| Ireland                  | 7.085 | 11.342 | 0.947 | 72.400 | 0.879 |  0.077 | 0.363 | 2.384 | 15 |\n",
       "| Costa Rica               | 7.069 |  9.880 | 0.891 | 71.400 | 0.934 | -0.126 | 0.809 | 3.387 | 16 |\n",
       "| United Kingdom           | 7.064 | 10.707 | 0.934 | 72.500 | 0.859 |  0.233 | 0.459 | 2.596 | 17 |\n",
       "| Czech Republic           | 6.965 | 10.556 | 0.947 | 70.807 | 0.858 | -0.208 | 0.868 | 3.124 | 18 |\n",
       "| United States            | 6.951 | 11.023 | 0.920 | 68.200 | 0.837 |  0.098 | 0.698 | 2.807 | 19 |\n",
       "| Belgium                  | 6.834 | 10.823 | 0.906 | 72.199 | 0.783 | -0.153 | 0.646 | 2.862 | 20 |\n",
       "| France                   | 6.690 | 10.704 | 0.942 | 74.000 | 0.822 | -0.147 | 0.571 | 2.521 | 21 |\n",
       "| Bahrain                  | 6.647 | 10.669 | 0.862 | 69.495 | 0.925 |  0.089 | 0.722 | 2.631 | 22 |\n",
       "| Malta                    | 6.602 | 10.674 | 0.931 | 72.200 | 0.927 |  0.133 | 0.653 | 2.268 | 23 |\n",
       "| Taiwan Province of China | 6.584 | 10.871 | 0.898 | 69.600 | 0.784 | -0.070 | 0.721 | 2.687 | 24 |\n",
       "| United Arab Emirates     | 6.561 | 11.085 | 0.844 | 67.333 | 0.932 |  0.074 | 0.589 | 2.422 | 25 |\n",
       "| Saudi Arabia             | 6.494 | 10.743 | 0.891 | 66.603 | 0.877 | -0.149 | 0.684 | 2.668 | 26 |\n",
       "| Spain                    | 6.491 | 10.571 | 0.932 | 74.700 | 0.761 | -0.081 | 0.745 | 2.513 | 27 |\n",
       "| Italy                    | 6.483 | 10.623 | 0.880 | 73.800 | 0.693 | -0.084 | 0.866 | 2.794 | 28 |\n",
       "| Slovenia                 | 6.461 | 10.529 | 0.948 | 71.400 | 0.949 | -0.101 | 0.806 | 2.388 | 29 |\n",
       "| Guatemala                | 6.435 |  9.053 | 0.813 | 64.958 | 0.906 | -0.038 | 0.775 | 3.375 | 30 |\n",
       "| ... | ... | ... | ... | ... | ... | ... | ... | ... | ... |\n",
       "| Liberia                 | 4.625 | 7.288 | 0.720 | 56.498 | 0.735 |  0.050 | 0.850 | 2.857 | 120 |\n",
       "| Kenya                   | 4.607 | 8.361 | 0.688 | 60.704 | 0.779 |  0.287 | 0.825 | 2.180 | 121 |\n",
       "| Tunisia                 | 4.596 | 9.266 | 0.691 | 67.201 | 0.656 | -0.201 | 0.870 | 2.138 | 122 |\n",
       "| Lebanon                 | 4.584 | 9.626 | 0.848 | 67.355 | 0.525 | -0.073 | 0.898 | 1.736 | 123 |\n",
       "| Namibia                 | 4.574 | 9.161 | 0.818 | 56.799 | 0.719 | -0.149 | 0.847 | 2.068 | 124 |\n",
       "| Palestinian Territories | 4.517 | 8.485 | 0.826 | 62.250 | 0.653 | -0.163 | 0.821 | 2.131 | 125 |\n",
       "| Myanmar                 | 4.426 | 8.541 | 0.779 | 59.302 | 0.876 |  0.509 | 0.660 | 1.407 | 126 |\n",
       "| Jordan                  | 4.395 | 9.182 | 0.767 | 67.000 | 0.755 | -0.167 | 0.705 | 1.553 | 127 |\n",
       "| Chad                    | 4.355 | 7.364 | 0.619 | 48.478 | 0.579 |  0.041 | 0.807 | 3.209 | 128 |\n",
       "| Sri Lanka               | 4.325 | 9.470 | 0.827 | 67.299 | 0.841 |  0.079 | 0.863 | 1.075 | 129 |\n",
       "| Swaziland               | 4.308 | 9.065 | 0.770 | 50.833 | 0.647 | -0.185 | 0.708 | 2.155 | 130 |\n",
       "| Comoros                 | 4.289 | 8.031 | 0.626 | 57.349 | 0.548 |  0.082 | 0.781 | 2.610 | 131 |\n",
       "| Egypt                   | 4.283 | 9.367 | 0.750 | 61.998 | 0.749 | -0.182 | 0.795 | 1.648 | 132 |\n",
       "| Ethiopia                | 4.275 | 7.694 | 0.764 | 59.000 | 0.752 |  0.082 | 0.761 | 2.089 | 133 |\n",
       "| Mauritania              | 4.227 | 8.542 | 0.795 | 57.161 | 0.561 | -0.106 | 0.731 | 2.069 | 134 |\n",
       "| Madagascar              | 4.208 | 7.396 | 0.686 | 59.305 | 0.552 | -0.005 | 0.803 | 2.620 | 135 |\n",
       "| Togo                    | 4.107 | 7.362 | 0.569 | 54.914 | 0.619 |  0.032 | 0.772 | 2.806 | 136 |\n",
       "| Zambia                  | 4.073 | 8.145 | 0.708 | 55.809 | 0.782 |  0.061 | 0.823 | 1.975 | 137 |\n",
       "| Sierra Leone            | 3.849 | 7.434 | 0.630 | 51.651 | 0.717 |  0.084 | 0.866 | 2.396 | 138 |\n",
       "| India                   | 3.819 | 8.755 | 0.603 | 60.633 | 0.893 |  0.089 | 0.774 | 1.405 | 139 |\n",
       "| Burundi                 | 3.775 | 6.635 | 0.490 | 53.400 | 0.626 | -0.024 | 0.607 | 2.876 | 140 |\n",
       "| Yemen                   | 3.658 | 7.578 | 0.832 | 57.122 | 0.602 | -0.147 | 0.800 | 1.776 | 141 |\n",
       "| Tanzania                | 3.623 | 7.876 | 0.702 | 57.999 | 0.833 |  0.183 | 0.577 | 1.263 | 142 |\n",
       "| Haiti                   | 3.615 | 7.477 | 0.540 | 55.700 | 0.593 |  0.422 | 0.721 | 2.060 | 143 |\n",
       "| Malawi                  | 3.600 | 6.958 | 0.537 | 57.948 | 0.780 |  0.038 | 0.729 | 2.190 | 144 |\n",
       "| Lesotho                 | 3.512 | 7.926 | 0.787 | 48.700 | 0.715 | -0.131 | 0.915 | 1.800 | 145 |\n",
       "| Botswana                | 3.467 | 9.782 | 0.784 | 59.269 | 0.824 | -0.246 | 0.801 | 0.648 | 146 |\n",
       "| Rwanda                  | 3.415 | 7.676 | 0.552 | 61.400 | 0.897 |  0.061 | 0.167 | 1.095 | 147 |\n",
       "| Zimbabwe                | 3.145 | 7.943 | 0.750 | 56.201 | 0.677 | -0.047 | 0.821 | 1.205 | 148 |\n",
       "| Afghanistan             | 2.523 | 7.695 | 0.463 | 52.493 | 0.382 | -0.102 | 0.924 | 1.895 | 149 |\n",
       "\n"
      ],
      "text/plain": [
       "    Country                  Score GDP    Family Health Freedom Generosity\n",
       "1   Finland                  7.842 10.775 0.954  72.000 0.949   -0.098    \n",
       "2   Denmark                  7.620 10.933 0.954  72.700 0.946    0.030    \n",
       "3   Switzerland              7.571 11.117 0.942  74.400 0.919    0.025    \n",
       "4   Iceland                  7.554 10.878 0.983  73.000 0.955    0.160    \n",
       "5   Netherlands              7.464 10.932 0.942  72.400 0.913    0.175    \n",
       "6   Norway                   7.392 11.053 0.954  73.300 0.960    0.093    \n",
       "7   Sweden                   7.363 10.867 0.934  72.700 0.945    0.086    \n",
       "8   Luxembourg               7.324 11.647 0.908  72.600 0.907   -0.034    \n",
       "9   New Zealand              7.277 10.643 0.948  73.400 0.929    0.134    \n",
       "10  Austria                  7.268 10.906 0.934  73.300 0.908    0.042    \n",
       "11  Australia                7.183 10.796 0.940  73.900 0.914    0.159    \n",
       "12  Israel                   7.157 10.575 0.939  73.503 0.800    0.031    \n",
       "13  Germany                  7.155 10.873 0.903  72.500 0.875    0.011    \n",
       "14  Canada                   7.103 10.776 0.926  73.800 0.915    0.089    \n",
       "15  Ireland                  7.085 11.342 0.947  72.400 0.879    0.077    \n",
       "16  Costa Rica               7.069  9.880 0.891  71.400 0.934   -0.126    \n",
       "17  United Kingdom           7.064 10.707 0.934  72.500 0.859    0.233    \n",
       "18  Czech Republic           6.965 10.556 0.947  70.807 0.858   -0.208    \n",
       "19  United States            6.951 11.023 0.920  68.200 0.837    0.098    \n",
       "20  Belgium                  6.834 10.823 0.906  72.199 0.783   -0.153    \n",
       "21  France                   6.690 10.704 0.942  74.000 0.822   -0.147    \n",
       "22  Bahrain                  6.647 10.669 0.862  69.495 0.925    0.089    \n",
       "23  Malta                    6.602 10.674 0.931  72.200 0.927    0.133    \n",
       "24  Taiwan Province of China 6.584 10.871 0.898  69.600 0.784   -0.070    \n",
       "25  United Arab Emirates     6.561 11.085 0.844  67.333 0.932    0.074    \n",
       "26  Saudi Arabia             6.494 10.743 0.891  66.603 0.877   -0.149    \n",
       "27  Spain                    6.491 10.571 0.932  74.700 0.761   -0.081    \n",
       "28  Italy                    6.483 10.623 0.880  73.800 0.693   -0.084    \n",
       "29  Slovenia                 6.461 10.529 0.948  71.400 0.949   -0.101    \n",
       "30  Guatemala                6.435  9.053 0.813  64.958 0.906   -0.038    \n",
       "... ...                      ...   ...    ...    ...    ...     ...       \n",
       "120 Liberia                  4.625 7.288  0.720  56.498 0.735    0.050    \n",
       "121 Kenya                    4.607 8.361  0.688  60.704 0.779    0.287    \n",
       "122 Tunisia                  4.596 9.266  0.691  67.201 0.656   -0.201    \n",
       "123 Lebanon                  4.584 9.626  0.848  67.355 0.525   -0.073    \n",
       "124 Namibia                  4.574 9.161  0.818  56.799 0.719   -0.149    \n",
       "125 Palestinian Territories  4.517 8.485  0.826  62.250 0.653   -0.163    \n",
       "126 Myanmar                  4.426 8.541  0.779  59.302 0.876    0.509    \n",
       "127 Jordan                   4.395 9.182  0.767  67.000 0.755   -0.167    \n",
       "128 Chad                     4.355 7.364  0.619  48.478 0.579    0.041    \n",
       "129 Sri Lanka                4.325 9.470  0.827  67.299 0.841    0.079    \n",
       "130 Swaziland                4.308 9.065  0.770  50.833 0.647   -0.185    \n",
       "131 Comoros                  4.289 8.031  0.626  57.349 0.548    0.082    \n",
       "132 Egypt                    4.283 9.367  0.750  61.998 0.749   -0.182    \n",
       "133 Ethiopia                 4.275 7.694  0.764  59.000 0.752    0.082    \n",
       "134 Mauritania               4.227 8.542  0.795  57.161 0.561   -0.106    \n",
       "135 Madagascar               4.208 7.396  0.686  59.305 0.552   -0.005    \n",
       "136 Togo                     4.107 7.362  0.569  54.914 0.619    0.032    \n",
       "137 Zambia                   4.073 8.145  0.708  55.809 0.782    0.061    \n",
       "138 Sierra Leone             3.849 7.434  0.630  51.651 0.717    0.084    \n",
       "139 India                    3.819 8.755  0.603  60.633 0.893    0.089    \n",
       "140 Burundi                  3.775 6.635  0.490  53.400 0.626   -0.024    \n",
       "141 Yemen                    3.658 7.578  0.832  57.122 0.602   -0.147    \n",
       "142 Tanzania                 3.623 7.876  0.702  57.999 0.833    0.183    \n",
       "143 Haiti                    3.615 7.477  0.540  55.700 0.593    0.422    \n",
       "144 Malawi                   3.600 6.958  0.537  57.948 0.780    0.038    \n",
       "145 Lesotho                  3.512 7.926  0.787  48.700 0.715   -0.131    \n",
       "146 Botswana                 3.467 9.782  0.784  59.269 0.824   -0.246    \n",
       "147 Rwanda                   3.415 7.676  0.552  61.400 0.897    0.061    \n",
       "148 Zimbabwe                 3.145 7.943  0.750  56.201 0.677   -0.047    \n",
       "149 Afghanistan              2.523 7.695  0.463  52.493 0.382   -0.102    \n",
       "    Corruption Dystopia.residual Rank\n",
       "1   0.186      3.253              1  \n",
       "2   0.179      2.868              2  \n",
       "3   0.292      2.839              3  \n",
       "4   0.673      2.967              4  \n",
       "5   0.338      2.798              5  \n",
       "6   0.270      2.580              6  \n",
       "7   0.237      2.683              7  \n",
       "8   0.386      2.653              8  \n",
       "9   0.242      2.612              9  \n",
       "10  0.481      2.784             10  \n",
       "11  0.442      2.598             11  \n",
       "12  0.753      3.083             12  \n",
       "13  0.460      2.824             13  \n",
       "14  0.415      2.585             14  \n",
       "15  0.363      2.384             15  \n",
       "16  0.809      3.387             16  \n",
       "17  0.459      2.596             17  \n",
       "18  0.868      3.124             18  \n",
       "19  0.698      2.807             19  \n",
       "20  0.646      2.862             20  \n",
       "21  0.571      2.521             21  \n",
       "22  0.722      2.631             22  \n",
       "23  0.653      2.268             23  \n",
       "24  0.721      2.687             24  \n",
       "25  0.589      2.422             25  \n",
       "26  0.684      2.668             26  \n",
       "27  0.745      2.513             27  \n",
       "28  0.866      2.794             28  \n",
       "29  0.806      2.388             29  \n",
       "30  0.775      3.375             30  \n",
       "... ...        ...               ... \n",
       "120 0.850      2.857             120 \n",
       "121 0.825      2.180             121 \n",
       "122 0.870      2.138             122 \n",
       "123 0.898      1.736             123 \n",
       "124 0.847      2.068             124 \n",
       "125 0.821      2.131             125 \n",
       "126 0.660      1.407             126 \n",
       "127 0.705      1.553             127 \n",
       "128 0.807      3.209             128 \n",
       "129 0.863      1.075             129 \n",
       "130 0.708      2.155             130 \n",
       "131 0.781      2.610             131 \n",
       "132 0.795      1.648             132 \n",
       "133 0.761      2.089             133 \n",
       "134 0.731      2.069             134 \n",
       "135 0.803      2.620             135 \n",
       "136 0.772      2.806             136 \n",
       "137 0.823      1.975             137 \n",
       "138 0.866      2.396             138 \n",
       "139 0.774      1.405             139 \n",
       "140 0.607      2.876             140 \n",
       "141 0.800      1.776             141 \n",
       "142 0.577      1.263             142 \n",
       "143 0.721      2.060             143 \n",
       "144 0.729      2.190             144 \n",
       "145 0.915      1.800             145 \n",
       "146 0.801      0.648             146 \n",
       "147 0.167      1.095             147 \n",
       "148 0.821      1.205             148 \n",
       "149 0.924      1.895             149 "
      ]
     },
     "metadata": {},
     "output_type": "display_data"
    }
   ],
   "source": [
    "#Adding country ranks in the dataset according to their scores\n",
    "happ <- happ %>% mutate(Rank = row_number())\n",
    "happ"
   ]
  },
  {
   "cell_type": "markdown",
   "metadata": {},
   "source": [
    "<b> Correlation matrix </b> <br>\n",
    "To find out which factors correlate the most with the happiness quotient"
   ]
  },
  {
   "cell_type": "code",
   "execution_count": 9,
   "metadata": {
    "scrolled": true
   },
   "outputs": [
    {
     "name": "stdout",
     "output_type": "stream",
     "text": [
      "'data.frame':\t149 obs. of  10 variables:\n",
      " $ Country          : chr  \"Finland\" \"Denmark\" \"Switzerland\" \"Iceland\" ...\n",
      " $ Score            : num  7.84 7.62 7.57 7.55 7.46 ...\n",
      " $ GDP              : num  10.8 10.9 11.1 10.9 10.9 ...\n",
      " $ Family           : num  0.954 0.954 0.942 0.983 0.942 0.954 0.934 0.908 0.948 0.934 ...\n",
      " $ Health           : num  72 72.7 74.4 73 72.4 73.3 72.7 72.6 73.4 73.3 ...\n",
      " $ Freedom          : num  0.949 0.946 0.919 0.955 0.913 0.96 0.945 0.907 0.929 0.908 ...\n",
      " $ Generosity       : num  -0.098 0.03 0.025 0.16 0.175 0.093 0.086 -0.034 0.134 0.042 ...\n",
      " $ Corruption       : num  0.186 0.179 0.292 0.673 0.338 0.27 0.237 0.386 0.242 0.481 ...\n",
      " $ Dystopia.residual: num  3.25 2.87 2.84 2.97 2.8 ...\n",
      " $ Rank             : int  1 2 3 4 5 6 7 8 9 10 ...\n",
      "                        Score         GDP      Family     Health    Freedom\n",
      "Score              1.00000000  0.78975970  0.75688765  0.7680995  0.6077531\n",
      "GDP                0.78975970  1.00000000  0.78529868  0.8594606  0.4323235\n",
      "Family             0.75688765  0.78529868  1.00000000  0.7232561  0.4829298\n",
      "Health             0.76809946  0.85946062  0.72325613  1.0000000  0.4614939\n",
      "Freedom            0.60775307  0.43232349  0.48292977  0.4614939  1.0000000\n",
      "Generosity        -0.01779928 -0.19928640 -0.11494585 -0.1617503  0.1694374\n",
      "Corruption        -0.42114000 -0.34233742 -0.20320698 -0.3643735 -0.4013630\n",
      "Dystopia.residual  0.49200990 -0.04111918  0.00668051 -0.0234329  0.1002423\n",
      "Rank              -0.98426526 -0.79698747 -0.75102401 -0.7759416 -0.6064113\n",
      "                   Generosity  Corruption Dystopia.residual        Rank\n",
      "Score             -0.01779928 -0.42114000        0.49200990 -0.98426526\n",
      "GDP               -0.19928640 -0.34233742       -0.04111918 -0.79698747\n",
      "Family            -0.11494585 -0.20320698        0.00668051 -0.75102401\n",
      "Health            -0.16175028 -0.36437353       -0.02343290 -0.77594156\n",
      "Freedom            0.16943737 -0.40136297        0.10024227 -0.60641135\n",
      "Generosity         1.00000000 -0.16396173       -0.02721188  0.03966234\n",
      "Corruption        -0.16396173  1.00000000        0.00447841  0.40065425\n",
      "Dystopia.residual -0.02721188  0.00447841        1.00000000 -0.46354759\n",
      "Rank               0.03966234  0.40065425       -0.46354759  1.00000000\n"
     ]
    },
    {
     "ename": "ERROR",
     "evalue": "Error in cor(happ): 'x' must be numeric\n",
     "output_type": "error",
     "traceback": [
      "Error in cor(happ): 'x' must be numeric\nTraceback:\n",
      "1. cor(happ)",
      "2. stop(\"'x' must be numeric\")"
     ]
    }
   ],
   "source": [
    "library(corrgram) \n",
    "library(corrplot)\n",
    "\n",
    "library(rpart) \n",
    "str(happ)\n",
    "\n",
    "library(ggplot2) \n",
    "library(ggthemes) \n",
    "num.cols <- sapply(happ,is.numeric) \n",
    "cor.data <- cor(happ[,num.cols]) \n",
    "print(cor.data)\n",
    "\n",
    "#correlation matrix\n",
    "cor <- cor(happ)\n",
    "\n",
    "str(happ)\n",
    "colnames(happ)\n",
    "head(happ) \n",
    "summary(happ)\n",
    "print(corrplot(cor.data, method = 'color')) "
   ]
  },
  {
   "cell_type": "code",
   "execution_count": null,
   "metadata": {},
   "outputs": [],
   "source": [
    "library(corrgram) \n",
    "library(corrplot)\n",
    "\n",
    "print(corrplot(cor.data, method = 'color')) \n",
    "ggsave(\"corr.png\")"
   ]
  },
  {
   "cell_type": "markdown",
   "metadata": {},
   "source": [
    "Hence, happiness most strongly correlates with the attributes of GDP, Health, Social Support(Family) and Freedom."
   ]
  },
  {
   "cell_type": "code",
   "execution_count": 10,
   "metadata": {},
   "outputs": [
    {
     "name": "stdout",
     "output_type": "stream",
     "text": [
      "'data.frame':\t149 obs. of  11 variables:\n",
      " $ Country          : chr  \"Finland\" \"Denmark\" \"Switzerland\" \"Iceland\" ...\n",
      " $ Continent        : Factor w/ 5 levels \"Africa\",\"Asia\",..: 3 3 3 3 3 3 3 3 1 3 ...\n",
      " $ Score            : num  7.84 7.62 7.57 7.55 7.46 ...\n",
      " $ GDP              : num  10.8 10.9 11.1 10.9 10.9 ...\n",
      " $ Family           : num  0.954 0.954 0.942 0.983 0.942 0.954 0.934 0.908 0.948 0.934 ...\n",
      " $ Health           : num  72 72.7 74.4 73 72.4 73.3 72.7 72.6 73.4 73.3 ...\n",
      " $ Freedom          : num  0.949 0.946 0.919 0.955 0.913 0.96 0.945 0.907 0.929 0.908 ...\n",
      " $ Generosity       : num  -0.098 0.03 0.025 0.16 0.175 0.093 0.086 -0.034 0.134 0.042 ...\n",
      " $ Corruption       : num  0.186 0.179 0.292 0.673 0.338 0.27 0.237 0.386 0.242 0.481 ...\n",
      " $ Dystopia.residual: num  3.25 2.87 2.84 2.97 2.8 ...\n",
      " $ Rank             : int  1 2 3 4 5 6 7 8 9 10 ...\n"
     ]
    }
   ],
   "source": [
    "# Creating a new column for continents\n",
    "\n",
    "happ$Continent <- NA\n",
    "\n",
    "happ$Continent[which(happ$Country %in% c(\"Israel\", \"United Arab Emirates\", \"Singapore\", \"Thailand\", \"Taiwan Province of China\",\n",
    "                                   \"Qatar\", \"Saudi Arabia\", \"Kuwait\", \"Bahrain\", \"Malaysia\", \"Uzbekistan\", \"Japan\",\n",
    "                                   \"South Korea\", \"Turkmenistan\", \"Kazakhstan\", \"Turkey\", \"Hong Kong S.A.R., China\", \"Philippines\",\n",
    "                                   \"Jordan\", \"China\", \"Pakistan\", \"Indonesia\", \"Azerbaijan\", \"Lebanon\", \"Vietnam\",\n",
    "                                   \"Tajikistan\", \"Bhutan\", \"Kyrgyzstan\", \"Nepal\", \"Mongolia\", \"Palestinian Territories\",\n",
    "                                   \"Iran\", \"Bangladesh\", \"Myanmar\", \"Iraq\", \"Sri Lanka\", \"Armenia\", \"India\", \"Georgia\",\n",
    "                                   \"Cambodia\", \"Afghanistan\", \"Yemen\", \"Syria\"))] <- \"Asia\"\n",
    "happ$Continent[which(happ$Country %in% c(\"Norway\", \"Denmark\", \"Iceland\", \"Switzerland\", \"Finland\",\n",
    "                                   \"Netherlands\", \"Sweden\", \"Austria\", \"Ireland\", \"Germany\",\n",
    "                                   \"Belgium\", \"Luxembourg\", \"United Kingdom\", \"Czech Republic\",\n",
    "                                   \"Malta\", \"France\", \"Spain\", \"Slovakia\", \"Poland\", \"Italy\",\n",
    "                                   \"Russia\", \"Lithuania\", \"Latvia\", \"Moldova\", \"Romania\",\n",
    "                                   \"Slovenia\", \"North Cyprus\", \"Cyprus\", \"Estonia\", \"Belarus\",\n",
    "                                   \"Serbia\", \"Hungary\", \"Croatia\", \"Kosovo\", \"Montenegro\",\n",
    "                                   \"Greece\", \"Portugal\", \"Bosnia and Herzegovina\", \"Macedonia\",\n",
    "                                   \"Bulgaria\", \"Albania\", \"Ukraine\"))] <- \"Europe\"\n",
    "happ$Continent[which(happ$Country %in% c(\"Canada\", \"Costa Rica\", \"United States\", \"Mexico\",  \n",
    "                                   \"Panama\",\"Trinidad and Tobago\", \"El Salvador\", \"Belize\", \"Guatemala\",\n",
    "                                   \"Jamaica\", \"Nicaragua\", \"Dominican Republic\", \"Honduras\",\n",
    "                                   \"Haiti\"))] <- \"North America\"\n",
    "happ$Continent[which(happ$Country %in% c(\"Chile\", \"Brazil\", \"Argentina\", \"Uruguay\",\n",
    "                                   \"Colombia\", \"Ecuador\", \"Bolivia\", \"Peru\",\n",
    "                                   \"Paraguay\", \"Venezuela\"))] <- \"South America\"\n",
    "#happ$Continent[which(happ$Country %in% c(\"New Zealand\", \"Australia\"))] <- \"Australia\"\n",
    "happ$Continent[which(is.na(happ$Continent))] <- \"Africa\"\n",
    "\n",
    "\n",
    "# Moving the continent column's position in the dataset to the second column\n",
    "\n",
    "happ <- happ %>% select(Country,Continent, everything())\n",
    "\n",
    "# Changing Continent column to factor\n",
    "\n",
    "happ$Continent <- as.factor(happ$Continent)\n",
    "\n",
    "str(happ)"
   ]
  },
  {
   "cell_type": "code",
   "execution_count": 11,
   "metadata": {
    "scrolled": true
   },
   "outputs": [
    {
     "data": {
      "text/html": [
       "<table class=\"dataframe\">\n",
       "<caption>A data.frame: 6 × 11</caption>\n",
       "<thead>\n",
       "\t<tr><th></th><th scope=col>Country</th><th scope=col>Continent</th><th scope=col>Score</th><th scope=col>GDP</th><th scope=col>Family</th><th scope=col>Health</th><th scope=col>Freedom</th><th scope=col>Generosity</th><th scope=col>Corruption</th><th scope=col>Dystopia.residual</th><th scope=col>Rank</th></tr>\n",
       "\t<tr><th></th><th scope=col>&lt;chr&gt;</th><th scope=col>&lt;fct&gt;</th><th scope=col>&lt;dbl&gt;</th><th scope=col>&lt;dbl&gt;</th><th scope=col>&lt;dbl&gt;</th><th scope=col>&lt;dbl&gt;</th><th scope=col>&lt;dbl&gt;</th><th scope=col>&lt;dbl&gt;</th><th scope=col>&lt;dbl&gt;</th><th scope=col>&lt;dbl&gt;</th><th scope=col>&lt;int&gt;</th></tr>\n",
       "</thead>\n",
       "<tbody>\n",
       "\t<tr><th scope=row>1</th><td>Finland    </td><td>Europe</td><td>7.842</td><td>10.775</td><td>0.954</td><td>72.0</td><td>0.949</td><td>-0.098</td><td>0.186</td><td>3.253</td><td>1</td></tr>\n",
       "\t<tr><th scope=row>2</th><td>Denmark    </td><td>Europe</td><td>7.620</td><td>10.933</td><td>0.954</td><td>72.7</td><td>0.946</td><td> 0.030</td><td>0.179</td><td>2.868</td><td>2</td></tr>\n",
       "\t<tr><th scope=row>3</th><td>Switzerland</td><td>Europe</td><td>7.571</td><td>11.117</td><td>0.942</td><td>74.4</td><td>0.919</td><td> 0.025</td><td>0.292</td><td>2.839</td><td>3</td></tr>\n",
       "\t<tr><th scope=row>4</th><td>Iceland    </td><td>Europe</td><td>7.554</td><td>10.878</td><td>0.983</td><td>73.0</td><td>0.955</td><td> 0.160</td><td>0.673</td><td>2.967</td><td>4</td></tr>\n",
       "\t<tr><th scope=row>5</th><td>Netherlands</td><td>Europe</td><td>7.464</td><td>10.932</td><td>0.942</td><td>72.4</td><td>0.913</td><td> 0.175</td><td>0.338</td><td>2.798</td><td>5</td></tr>\n",
       "\t<tr><th scope=row>6</th><td>Norway     </td><td>Europe</td><td>7.392</td><td>11.053</td><td>0.954</td><td>73.3</td><td>0.960</td><td> 0.093</td><td>0.270</td><td>2.580</td><td>6</td></tr>\n",
       "</tbody>\n",
       "</table>\n"
      ],
      "text/latex": [
       "A data.frame: 6 × 11\n",
       "\\begin{tabular}{r|lllllllllll}\n",
       "  & Country & Continent & Score & GDP & Family & Health & Freedom & Generosity & Corruption & Dystopia.residual & Rank\\\\\n",
       "  & <chr> & <fct> & <dbl> & <dbl> & <dbl> & <dbl> & <dbl> & <dbl> & <dbl> & <dbl> & <int>\\\\\n",
       "\\hline\n",
       "\t1 & Finland     & Europe & 7.842 & 10.775 & 0.954 & 72.0 & 0.949 & -0.098 & 0.186 & 3.253 & 1\\\\\n",
       "\t2 & Denmark     & Europe & 7.620 & 10.933 & 0.954 & 72.7 & 0.946 &  0.030 & 0.179 & 2.868 & 2\\\\\n",
       "\t3 & Switzerland & Europe & 7.571 & 11.117 & 0.942 & 74.4 & 0.919 &  0.025 & 0.292 & 2.839 & 3\\\\\n",
       "\t4 & Iceland     & Europe & 7.554 & 10.878 & 0.983 & 73.0 & 0.955 &  0.160 & 0.673 & 2.967 & 4\\\\\n",
       "\t5 & Netherlands & Europe & 7.464 & 10.932 & 0.942 & 72.4 & 0.913 &  0.175 & 0.338 & 2.798 & 5\\\\\n",
       "\t6 & Norway      & Europe & 7.392 & 11.053 & 0.954 & 73.3 & 0.960 &  0.093 & 0.270 & 2.580 & 6\\\\\n",
       "\\end{tabular}\n"
      ],
      "text/markdown": [
       "\n",
       "A data.frame: 6 × 11\n",
       "\n",
       "| <!--/--> | Country &lt;chr&gt; | Continent &lt;fct&gt; | Score &lt;dbl&gt; | GDP &lt;dbl&gt; | Family &lt;dbl&gt; | Health &lt;dbl&gt; | Freedom &lt;dbl&gt; | Generosity &lt;dbl&gt; | Corruption &lt;dbl&gt; | Dystopia.residual &lt;dbl&gt; | Rank &lt;int&gt; |\n",
       "|---|---|---|---|---|---|---|---|---|---|---|---|\n",
       "| 1 | Finland     | Europe | 7.842 | 10.775 | 0.954 | 72.0 | 0.949 | -0.098 | 0.186 | 3.253 | 1 |\n",
       "| 2 | Denmark     | Europe | 7.620 | 10.933 | 0.954 | 72.7 | 0.946 |  0.030 | 0.179 | 2.868 | 2 |\n",
       "| 3 | Switzerland | Europe | 7.571 | 11.117 | 0.942 | 74.4 | 0.919 |  0.025 | 0.292 | 2.839 | 3 |\n",
       "| 4 | Iceland     | Europe | 7.554 | 10.878 | 0.983 | 73.0 | 0.955 |  0.160 | 0.673 | 2.967 | 4 |\n",
       "| 5 | Netherlands | Europe | 7.464 | 10.932 | 0.942 | 72.4 | 0.913 |  0.175 | 0.338 | 2.798 | 5 |\n",
       "| 6 | Norway      | Europe | 7.392 | 11.053 | 0.954 | 73.3 | 0.960 |  0.093 | 0.270 | 2.580 | 6 |\n",
       "\n"
      ],
      "text/plain": [
       "  Country     Continent Score GDP    Family Health Freedom Generosity\n",
       "1 Finland     Europe    7.842 10.775 0.954  72.0   0.949   -0.098    \n",
       "2 Denmark     Europe    7.620 10.933 0.954  72.7   0.946    0.030    \n",
       "3 Switzerland Europe    7.571 11.117 0.942  74.4   0.919    0.025    \n",
       "4 Iceland     Europe    7.554 10.878 0.983  73.0   0.955    0.160    \n",
       "5 Netherlands Europe    7.464 10.932 0.942  72.4   0.913    0.175    \n",
       "6 Norway      Europe    7.392 11.053 0.954  73.3   0.960    0.093    \n",
       "  Corruption Dystopia.residual Rank\n",
       "1 0.186      3.253             1   \n",
       "2 0.179      2.868             2   \n",
       "3 0.292      2.839             3   \n",
       "4 0.673      2.967             4   \n",
       "5 0.338      2.798             5   \n",
       "6 0.270      2.580             6   "
      ]
     },
     "metadata": {},
     "output_type": "display_data"
    }
   ],
   "source": [
    "head(happ)"
   ]
  },
  {
   "cell_type": "markdown",
   "metadata": {},
   "source": [
    "<b> Finding the average value of attributes per continent </b>"
   ]
  },
  {
   "cell_type": "code",
   "execution_count": 12,
   "metadata": {},
   "outputs": [
    {
     "name": "stderr",
     "output_type": "stream",
     "text": [
      "Warning message:\n",
      "\"`funs()` was deprecated in dplyr 0.8.0.\n",
      "Please use a list of either functions or lambdas: \n",
      "\n",
      "  # Simple named list: \n",
      "  list(mean = mean, median = median)\n",
      "\n",
      "  # Auto named with `tibble::lst()`: \n",
      "  tibble::lst(mean, median)\n",
      "\n",
      "  # Using lambdas\n",
      "  list(~ mean(., trim = .2), ~ median(., na.rm = TRUE))\n",
      "\u001b[90mThis warning is displayed once every 8 hours.\u001b[39m\n",
      "\u001b[90mCall `lifecycle::last_warnings()` to see where this warning was generated.\u001b[39m\"\n",
      "Warning message in melt(happ.Continent):\n",
      "\"The melt generic in data.table has been passed a tbl_df and will attempt to redirect to the relevant reshape2 method; please note that reshape2 is deprecated, and this redirection is now deprecated as well. To continue using melt methods from reshape2 while both libraries are attached, e.g. melt.list, you can prepend the namespace like reshape2::melt(happ.Continent). In the next version, this warning will become an error.\"\n",
      "Using Continent as id variables\n",
      "\n",
      "Saving 6.67 x 6.67 in image\n",
      "\n"
     ]
    },
    {
     "data": {
      "image/png": "[encoded data removed]",
      "text/plain": [
       "plot without title"
      ]
     },
     "metadata": {
      "image/png": {
       "height": 900,
       "width": 900
      }
     },
     "output_type": "display_data"
    }
   ],
   "source": [
    "options(repr.plot.width=15, repr.plot.height=15)\n",
    "happ.Continent <- happ %>%\n",
    "                          select(-3) %>%\n",
    "                          group_by(Continent) %>%\n",
    "                          summarise_at(vars(-Country), funs(mean(., na.rm=TRUE)))\n",
    "\n",
    "happ.Continent.melt <- melt(happ.Continent)\n",
    "\n",
    "# Faceting\n",
    "ggplot(happ.Continent.melt, aes(y=value, x=Continent, color=Continent, fill=Continent)) + \n",
    "  geom_bar( stat=\"identity\") +    \n",
    "  facet_wrap(~variable) + theme_bw() +\n",
    "  theme(axis.text.x = element_text(angle = 90, hjust = 1)) +\n",
    "  labs(title = \"Average value of happiness variables for different continents\", \n",
    "       y = \"Average value\") \n",
    "ggsave(\"avgcont.png\")"
   ]
  },
  {
   "cell_type": "markdown",
   "metadata": {},
   "source": [
    "<b> Finding how attributes correlate to happiness in the continent of Asia. </b>"
   ]
  },
  {
   "cell_type": "code",
   "execution_count": null,
   "metadata": {
    "scrolled": true
   },
   "outputs": [],
   "source": [
    "#Checking happiness matrix for Asia\n",
    "options(repr.plot.width=10, repr.plot.height=8)\n",
    "corrgram(happ %>% select(-3) %>% filter(Continent == \"Asia\"), order=TRUE,\n",
    "         upper.panel=panel.cor, main=\"Happiness Matrix for Asia\")\n",
    "ggsave(\"asiacorr.png\")"
   ]
  },
  {
   "cell_type": "markdown",
   "metadata": {},
   "source": [
    "<b> Happiness score distribution across different continents using a scatter plot </b>"
   ]
  },
  {
   "cell_type": "code",
   "execution_count": null,
   "metadata": {},
   "outputs": [],
   "source": [
    "options(repr.plot.width=10, repr.plot.height=8)\n",
    "gg1 <- ggplot(happ,\n",
    "              aes(x=Continent,\n",
    "                  y=Score,\n",
    "                  color=Continent))+\n",
    "  geom_point() + theme_bw() +\n",
    "  theme(axis.title = element_text(family = \"Helvetica\", size = (8)))\n",
    "gg1\n",
    "ggsave(\"happcont.png\")"
   ]
  },
  {
   "cell_type": "markdown",
   "metadata": {},
   "source": [
    "<b> Prediction </b> <br>\n",
    "Splitting dataset to training and testing datasets and using Linear Regression to predict the dependent variable for a country (Happiness Score)"
   ]
  },
  {
   "cell_type": "code",
   "execution_count": 18,
   "metadata": {},
   "outputs": [],
   "source": [
    "library(caTools)\n",
    "set.seed(123)\n",
    "dataset <- happ[3:10] #relevant columns into training\n",
    "split = sample.split(dataset$Score, SplitRatio = 0.7) #splitting\n",
    "training_set = subset(dataset, split == TRUE) #training set\n",
    "test_set = subset(dataset, split == FALSE) #test set"
   ]
  },
  {
   "cell_type": "code",
   "execution_count": 32,
   "metadata": {},
   "outputs": [
    {
     "data": {
      "text/plain": [
       "\n",
       "Call:\n",
       "lm(formula = Score ~ ., data = training_set)\n",
       "\n",
       "Residuals:\n",
       "       Min         1Q     Median         3Q        Max \n",
       "-0.0019526 -0.0005332 -0.0001061  0.0005323  0.0020082 \n",
       "\n",
       "Coefficients:\n",
       "                    Estimate Std. Error t value Pr(>|t|)    \n",
       "(Intercept)       -4.563e+00  1.203e-03   -3792   <2e-16 ***\n",
       "GDP                3.494e-01  1.557e-04    2244   <2e-16 ***\n",
       "Family             2.252e+00  1.232e-03    1828   <2e-16 ***\n",
       "Health             3.147e-02  2.359e-05    1334   <2e-16 ***\n",
       "Freedom            1.219e+00  9.658e-04    1262   <2e-16 ***\n",
       "Generosity         6.518e-01  5.931e-04    1099   <2e-16 ***\n",
       "Corruption        -6.386e-01  5.500e-04   -1161   <2e-16 ***\n",
       "Dystopia.residual  9.999e-01  1.530e-04    6535   <2e-16 ***\n",
       "---\n",
       "Signif. codes:  0 '***' 0.001 '**' 0.01 '*' 0.05 '.' 0.1 ' ' 1\n",
       "\n",
       "Residual standard error: 0.0008327 on 96 degrees of freedom\n",
       "Multiple R-squared:      1,\tAdjusted R-squared:      1 \n",
       "F-statistic: 2.448e+07 on 7 and 96 DF,  p-value: < 2.2e-16\n"
      ]
     },
     "metadata": {},
     "output_type": "display_data"
    }
   ],
   "source": [
    "regressor_lm = lm(formula = Score ~ .,\n",
    "               data = training_set)\n",
    "\n",
    "summary(regressor_lm) "
   ]
  },
  {
   "cell_type": "markdown",
   "metadata": {},
   "source": [
    "An adjusted R-squared of 1 is obtained. The Multiple Linear Regression predicts happiness scores with an accuracy of 100%."
   ]
  },
  {
   "cell_type": "code",
   "execution_count": 34,
   "metadata": {},
   "outputs": [
    {
     "name": "stderr",
     "output_type": "stream",
     "text": [
      "Warning message in grid.Call(C_stringMetric, as.graphicsAnnot(x$label)):\n",
      "\"font family not found in Windows font database\"\n",
      "Warning message in grid.Call(C_stringMetric, as.graphicsAnnot(x$label)):\n",
      "\"font family not found in Windows font database\"\n",
      "Warning message in grid.Call(C_textBounds, as.graphicsAnnot(x$label), x$x, x$y, :\n",
      "\"font family not found in Windows font database\"\n",
      "Warning message in grid.Call(C_textBounds, as.graphicsAnnot(x$label), x$x, x$y, :\n",
      "\"font family not found in Windows font database\"\n",
      "Warning message in grid.Call(C_textBounds, as.graphicsAnnot(x$label), x$x, x$y, :\n",
      "\"font family not found in Windows font database\"\n",
      "Warning message in grid.Call(C_textBounds, as.graphicsAnnot(x$label), x$x, x$y, :\n",
      "\"font family not found in Windows font database\"\n",
      "Warning message in grid.Call(C_textBounds, as.graphicsAnnot(x$label), x$x, x$y, :\n",
      "\"font family not found in Windows font database\"\n",
      "Warning message in grid.Call(C_textBounds, as.graphicsAnnot(x$label), x$x, x$y, :\n",
      "\"font family not found in Windows font database\"\n",
      "Warning message in grid.Call.graphics(C_text, as.graphicsAnnot(x$label), x$x, x$y, :\n",
      "\"font family not found in Windows font database\"\n",
      "Warning message in grid.Call(C_textBounds, as.graphicsAnnot(x$label), x$x, x$y, :\n",
      "\"font family not found in Windows font database\"\n",
      "Saving 6.67 x 6.67 in image\n",
      "\n",
      "Warning message in grid.Call(C_textBounds, as.graphicsAnnot(x$label), x$x, x$y, :\n",
      "\"font family not found in Windows font database\"\n",
      "Warning message in grid.Call(C_textBounds, as.graphicsAnnot(x$label), x$x, x$y, :\n",
      "\"font family not found in Windows font database\"\n",
      "Warning message in grid.Call(C_textBounds, as.graphicsAnnot(x$label), x$x, x$y, :\n",
      "\"font family not found in Windows font database\"\n",
      "Warning message in grid.Call(C_textBounds, as.graphicsAnnot(x$label), x$x, x$y, :\n",
      "\"font family not found in Windows font database\"\n",
      "Warning message in grid.Call(C_textBounds, as.graphicsAnnot(x$label), x$x, x$y, :\n",
      "\"font family not found in Windows font database\"\n",
      "Warning message in grid.Call(C_textBounds, as.graphicsAnnot(x$label), x$x, x$y, :\n",
      "\"font family not found in Windows font database\"\n",
      "Warning message in grid.Call.graphics(C_text, as.graphicsAnnot(x$label), x$x, x$y, :\n",
      "\"font family not found in Windows font database\"\n",
      "Warning message in grid.Call(C_textBounds, as.graphicsAnnot(x$label), x$x, x$y, :\n",
      "\"font family not found in Windows font database\"\n"
     ]
    },
    {
     "data": {
      "image/png": "[encoded data removed]",
      "text/plain": [
       "plot without title"
      ]
     },
     "metadata": {
      "image/png": {
       "height": 900,
       "width": 900
      }
     },
     "output_type": "display_data"
    }
   ],
   "source": [
    "y_pred_lm = predict(regressor_lm, newdata = test_set)\n",
    "\n",
    "Pred_Actual_lm <- as.data.frame(cbind(Prediction = y_pred_lm, Actual = test_set$Score))\n",
    "\n",
    "gg.lm <- ggplot(Pred_Actual_lm, aes(Actual, Prediction )) +\n",
    "  geom_point() + theme_bw() + geom_abline() +\n",
    "  labs(title = \"Multiple Linear Regression\", x = \"Actual happiness score\",\n",
    "       y = \"Predicted happiness score\") +\n",
    "  theme(plot.title = element_text(family = \"Helvetica\", face = \"bold\", size = (15)), \n",
    "        axis.title = element_text(family = \"Helvetica\", size = (10))) \n",
    "\n",
    "gg.lm\n",
    "ggsave(\"model.png\")"
   ]
  },
  {
   "cell_type": "markdown",
   "metadata": {},
   "source": [
    "As expected, the above graph shows the accuracy of our model."
   ]
  },
  {
   "cell_type": "code",
   "execution_count": null,
   "metadata": {},
   "outputs": [],
   "source": [
    "MSE.lm <- sum((test_set$Happiness.Score - y_pred_lm)^2)/nrow(test_set)\n",
    "print(paste(\"Mean Squared Error (Multiple Linear Regression):\", MSE.lm))"
   ]
  },
  {
   "cell_type": "markdown",
   "metadata": {},
   "source": [
    "<b> Providing a test input to the model to predict a happiness score </b>"
   ]
  },
  {
   "cell_type": "code",
   "execution_count": null,
   "metadata": {},
   "outputs": [],
   "source": [
    "test1 <- data.frame(GDP = 10.555,\n",
    "                  Family = 0.867,\n",
    "                  Health = 71.02,\n",
    "                  Freedom = 0.923,\n",
    "                  Generosity = 0.021,\n",
    "                  Corruption = 0.723,\n",
    "                  Dystopia.residual = 2.463)\n",
    "print(paste(\"Happiness Score: \", round(predict(regressor_lm, test1), 2)))"
   ]
  },
  {
   "cell_type": "markdown",
   "metadata": {},
   "source": [
    "On providing the above test inputs, the model predicts this set's Happiness Score to be 6.45 which would put this sample country somewhere in the top 30 happiest countries in the current scenario. "
   ]
  },
  {
   "cell_type": "markdown",
   "metadata": {},
   "source": [
    "<b> Checking the trend of each attribute basis continent </b>"
   ]
  },
  {
   "cell_type": "code",
   "execution_count": null,
   "metadata": {},
   "outputs": [],
   "source": [
    "options(repr.plot.width=12, repr.plot.height=12)\n",
    "\n",
    "ggplot(data = happ, mapping=aes(x = Rank, y = GDP, color=Score)) +\n",
    "    geom_line()+facet_wrap(facets =  vars(Continent))"
   ]
  },
  {
   "cell_type": "code",
   "execution_count": null,
   "metadata": {},
   "outputs": [],
   "source": [
    "ggplot(data = happ, mapping=aes(x = Rank, y = Family, color=Score)) +\n",
    "    geom_line()+facet_wrap(facets =  vars(Continent))"
   ]
  },
  {
   "cell_type": "code",
   "execution_count": null,
   "metadata": {},
   "outputs": [],
   "source": [
    "ggplot(data = happ, mapping=aes(x = Rank, y = Health, color=Score)) +\n",
    "    geom_line()+facet_wrap(facets =  vars(Continent)) + ggtitle(\"Health index over the continents\")\n",
    "ggsave(\"health.png\")"
   ]
  },
  {
   "cell_type": "code",
   "execution_count": null,
   "metadata": {},
   "outputs": [],
   "source": [
    "ggplot(data = happ, mapping=aes(x = Rank, y = Freedom, color=Score)) +\n",
    "    geom_line()+facet_wrap(facets =  vars(Continent))"
   ]
  },
  {
   "cell_type": "code",
   "execution_count": null,
   "metadata": {},
   "outputs": [],
   "source": [
    "ggplot(data = happ, mapping=aes(x = Rank, y = Generosity, color=Score)) +\n",
    "    geom_line()+facet_wrap(facets =  vars(Continent))"
   ]
  },
  {
   "cell_type": "code",
   "execution_count": null,
   "metadata": {},
   "outputs": [],
   "source": [
    "ggplot(data = happ, mapping=aes(x = Rank, y = Corruption, color=Score)) +\n",
    "    geom_line()+facet_wrap(facets =  vars(Continent))"
   ]
  },
  {
   "cell_type": "code",
   "execution_count": null,
   "metadata": {},
   "outputs": [],
   "source": [
    "ggplot(data = happ, mapping=aes(x = Rank, y = Dystopia.residual, color=Score)) +\n",
    "    geom_line()+facet_wrap(facets =  vars(Continent))"
   ]
  },
  {
   "cell_type": "markdown",
   "metadata": {},
   "source": [
    "<b> Checking the top 10 and bottom 10 countries on the World Happiness Report for 2021 </b>"
   ]
  },
  {
   "cell_type": "code",
   "execution_count": null,
   "metadata": {
    "scrolled": true
   },
   "outputs": [],
   "source": [
    "options(repr.plot.width=8, repr.plot.height=6)\n",
    "\n",
    "ggplot(happ[1:10,], aes(x = reorder(Country, Score), y=Score, fill = Country)) +  ggtitle(\"Top 10 happiest countries in 2021\", subtitle = \"9 of the happiest countries are in Europe\") + geom_bar(stat=\"identity\", width=0.7) + theme(plot.title = element_text(size=20)) + coord_flip()\n",
    "ggsave(\"top10.png\")"
   ]
  },
  {
   "cell_type": "code",
   "execution_count": null,
   "metadata": {},
   "outputs": [],
   "source": [
    "ggplot(happ[140:149,], aes(x = reorder(Country, -Score), y=Score, fill = Country)) + ggtitle(\"Top 10 saddest countries in 2021\") + geom_bar(stat=\"identity\", width=0.7) + theme(plot.title = element_text(size=20)) + coord_flip()\n",
    "ggsave(\"bottom10.png\")"
   ]
  },
  {
   "cell_type": "code",
   "execution_count": null,
   "metadata": {},
   "outputs": [],
   "source": [
    "happ_all <- read.csv(\"world-happiness-report.csv\") #importing the dataset containing happiness scores from previous years country-wise"
   ]
  },
  {
   "cell_type": "code",
   "execution_count": null,
   "metadata": {},
   "outputs": [],
   "source": [
    "dim(happ_all)"
   ]
  },
  {
   "cell_type": "code",
   "execution_count": null,
   "metadata": {},
   "outputs": [],
   "source": [
    "happ_copy <- read.csv(\"world-happiness-report-2021.csv\")"
   ]
  },
  {
   "cell_type": "code",
   "execution_count": null,
   "metadata": {},
   "outputs": [],
   "source": [
    "country_region_dict = happ_copy %>% select(country = ï..Country.name, region = Regional.indicator) %>% unique()\n",
    "\n",
    "df_happy_increase <- happ_all %>% \n",
    "    filter(year >= 2018) %>%\n",
    "    left_join(country_region_dict, by = c('ï..Country.name' = 'country')) %>%\n",
    "    select(country = ï..Country.name, year, ladder = Life.Ladder)  %>%\n",
    "    pivot_wider(names_from = 'year', names_prefix = 'year', values_from = 'ladder') %>%\n",
    "    mutate(increase_in_2019 = ifelse(year2019>year2018, 1, 0),\n",
    "          increase_in_2020 = ifelse(year2020>year2019,1,0))\n",
    "\n",
    "df_increase_in_2019 <- df_happy_increase %>% summarize(pct = mean(increase_in_2019, na.rm = TRUE))\n",
    "df_increase_in_2020 <- df_happy_increase %>% summarize(pct = mean(increase_in_2020, na.rm = TRUE))"
   ]
  },
  {
   "cell_type": "markdown",
   "metadata": {},
   "source": [
    "<b> Comparing the increase in Happiness coefficients Pre-Pandemic and Amidst-Pandemic </b>"
   ]
  },
  {
   "cell_type": "code",
   "execution_count": null,
   "metadata": {},
   "outputs": [],
   "source": [
    "library(ggpubr)\n",
    "donut_plot <- function(df, title = '', subtitle = '', caption = '') {\n",
    "ggplot(df) +\n",
    "    geom_rect(aes(ymax = 1, ymin = 0, xmax = 2, xmin=1.2, fill = \"base\"))  +\n",
    "    geom_rect(aes(ymax = pct, ymin = 0, xmax = 2.2, xmin = 1.2, fill = 'main')) +\n",
    "    geom_text(x = 0, y = 0, label = paste0(round(df$pct*100,0),'%'), size = 16) + \n",
    "    coord_polar(theta = 'y') +\n",
    "    xlim(c(0,2.2)) + \n",
    "    scale_fill_manual(values = c(\"#e3e2e1\", \"#7FB185\")) +\n",
    "    labs(title = title, subtitle = subtitle, caption = caption) +\n",
    "    theme_void() + \n",
    "    theme(plot.title = element_text(size=22, face=\"bold\"),\n",
    "          plot.subtitle = element_text(size = 20, hjust = 0.5),\n",
    "          plot.caption = element_text(size = 15),\n",
    "          legend.position = 'None')}\n",
    "\n",
    "p1 <- donut_plot(df_increase_in_2019, title = 'Percent of countries with increased happiness\\n Pre-Covid(2018 - 2019) and Amidst-Covid(2019-2020)\\n', subtitle = '2018 -> 2019')\n",
    "p2 <- donut_plot(df_increase_in_2020, title = '\\n', subtitle = '2019 -> 2020')\n",
    "figure <- ggarrange(p1, p2, ncol = 2, nrow = 1)\n",
    "figure\n",
    "ggsave(\"covidcompare.png\")"
   ]
  },
  {
   "cell_type": "code",
   "execution_count": null,
   "metadata": {},
   "outputs": [],
   "source": [
    "df_cor <- happ_copy %>% \n",
    "    select(corruption = Perceptions.of.corruption,\n",
    "           generosity = Generosity,\n",
    "           freedom = Freedom.to.make.life.choices, \n",
    "           life_expectancy = Healthy.life.expectancy, \n",
    "           social_support = Social.support,\n",
    "           GDP_per_capita = Logged.GDP.per.capita, \n",
    "           happiness = Ladder.score\n",
    "           )"
   ]
  },
  {
   "cell_type": "code",
   "execution_count": null,
   "metadata": {},
   "outputs": [],
   "source": [
    "library(rwa)\n",
    "predictors = colnames(df_cor)[1:6]\n",
    "outcome = 'happiness'\n",
    "rwa <- rwa(df_cor,\n",
    "    outcome = outcome,\n",
    "    predictors = predictors,\n",
    "    applysigns = FALSE) \n",
    "\n",
    "rsquare <- rwa$rsquare\n",
    "(relative_weight <- rwa$result)\n",
    "n <- rwa$n"
   ]
  },
  {
   "cell_type": "code",
   "execution_count": null,
   "metadata": {
    "scrolled": true
   },
   "outputs": [],
   "source": [
    "ggplot(relative_weight, aes(x = reorder(Variables, Rescaled.RelWeight), y=Rescaled.RelWeight, fill = Variables)) +  ggtitle(\"Top important factors affecting the \\n happiness index in 2021\", subtitle = \"1. GDP 2. Social Support 3. Health\") + geom_bar(stat=\"identity\", width=0.7) + theme(plot.title = element_text(size=20), plot.subtitle = element_text(size=15)) + coord_flip()\n",
    "ggsave(\"topfactors.png\")"
   ]
  },
  {
   "cell_type": "code",
   "execution_count": null,
   "metadata": {},
   "outputs": [],
   "source": [
    "head(happ_all)"
   ]
  },
  {
   "cell_type": "markdown",
   "metadata": {},
   "source": [
    "<b> Performing some visualizations on data from India </b>"
   ]
  },
  {
   "cell_type": "code",
   "execution_count": null,
   "metadata": {},
   "outputs": [],
   "source": [
    "happ_ind=happ_all[happ_all$ï..Country.name == \"India\", ]  \n",
    "happ_ind"
   ]
  },
  {
   "cell_type": "code",
   "execution_count": null,
   "metadata": {},
   "outputs": [],
   "source": [
    "ggplot(data = happ_ind, mapping=aes(x = year, y = Life.Ladder, color=Life.Ladder)) + geom_line() + ggtitle(\"Happiness Score of India over the last 15 years\") + theme(plot.title = element_text(size=20))\n",
    "ggsave(\"indiahappy.png\")"
   ]
  },
  {
   "cell_type": "code",
   "execution_count": null,
   "metadata": {},
   "outputs": [],
   "source": [
    "ggplot(data = happ_ind, mapping=aes(x = year, y = Log.GDP.per.capita, color=Log.GDP.per.capita)) + geom_line() + ggtitle(\"GDP Score of India over the last 15 years\") + theme(plot.title = element_text(size=20))\n",
    "ggsave(\"indiagdp.png\")"
   ]
  },
  {
   "cell_type": "code",
   "execution_count": null,
   "metadata": {},
   "outputs": [],
   "source": [
    "ggplot(data = happ_ind, mapping=aes(x = year, y = Perceptions.of.corruption, color=Perceptions.of.corruption)) + geom_line() + ggtitle(\"Perceptions of Corruption in India over the last 15 years\") + theme(plot.title = element_text(size=20))"
   ]
  },
  {
   "cell_type": "code",
   "execution_count": null,
   "metadata": {},
   "outputs": [],
   "source": [
    "ggplot(data = happ_ind, mapping=aes(x = year, y = Healthy.life.expectancy.at.birth, color=Healthy.life.expectancy.at.birth)) + geom_line() + ggtitle(\"Health infrastructure in India over the last 15 years\") + theme(plot.title = element_text(size=20))\n",
    "ggsave(\"indiahealth.png\")"
   ]
  },
  {
   "cell_type": "code",
   "execution_count": null,
   "metadata": {},
   "outputs": [],
   "source": [
    "view(happ)"
   ]
  },
  {
   "cell_type": "code",
   "execution_count": null,
   "metadata": {},
   "outputs": [],
   "source": [
    "view(happ_all)"
   ]
  },
  {
   "cell_type": "code",
   "execution_count": null,
   "metadata": {},
   "outputs": [],
   "source": [
    "mean(happ$Ladder.score)"
   ]
  },
  {
   "cell_type": "code",
   "execution_count": null,
   "metadata": {},
   "outputs": [],
   "source": [
    "median(happ$Healthy.life.expectancy)"
   ]
  },
  {
   "cell_type": "code",
   "execution_count": null,
   "metadata": {},
   "outputs": [],
   "source": [
    "sd(happ$Logged.GDP.per.capita)"
   ]
  },
  {
   "cell_type": "code",
   "execution_count": null,
   "metadata": {},
   "outputs": [],
   "source": [
    "head(happ_all)"
   ]
  },
  {
   "cell_type": "code",
   "execution_count": null,
   "metadata": {},
   "outputs": [],
   "source": [
    "max(happ_all$Life.Ladder)"
   ]
  },
  {
   "cell_type": "code",
   "execution_count": null,
   "metadata": {},
   "outputs": [],
   "source": [
    "min_country=happ_all[happ_all$Life.Ladder == min(happ_all$Life.Ladder), ]  \n",
    "min_country"
   ]
  },
  {
   "cell_type": "code",
   "execution_count": null,
   "metadata": {},
   "outputs": [],
   "source": [
    "max_country=happ_all[happ_all$Life.Ladder == max(happ_all$Life.Ladder), ]  \n",
    "max_country"
   ]
  },
  {
   "cell_type": "code",
   "execution_count": 30,
   "metadata": {},
   "outputs": [
    {
     "data": {
      "text/plain": [
       "\n",
       "Call:\n",
       "svm(formula = Score ~ ., data = dataset, type = \"eps-regression\", \n",
       "    kernel = \"radial\")\n",
       "\n",
       "\n",
       "Parameters:\n",
       "   SVM-Type:  eps-regression \n",
       " SVM-Kernel:  radial \n",
       "       cost:  1 \n",
       "      gamma:  0.1428571 \n",
       "    epsilon:  0.1 \n",
       "\n",
       "\n",
       "Number of Support Vectors:  55\n",
       "\n",
       "\n",
       "\n",
       "\n"
      ]
     },
     "metadata": {},
     "output_type": "display_data"
    }
   ],
   "source": [
    "library(e1071)\n",
    "regressor_svr = svm(formula = Score ~ .,\n",
    "                data = dataset,\n",
    "                type = 'eps-regression',\n",
    "                kernel = 'radial')\n",
    "summary(regressor_svr)"
   ]
  },
  {
   "cell_type": "code",
   "execution_count": 36,
   "metadata": {},
   "outputs": [
    {
     "name": "stderr",
     "output_type": "stream",
     "text": [
      "Warning message in grid.Call(C_textBounds, as.graphicsAnnot(x$label), x$x, x$y, :\n",
      "\"font family not found in Windows font database\"\n",
      "Warning message in grid.Call(C_textBounds, as.graphicsAnnot(x$label), x$x, x$y, :\n",
      "\"font family not found in Windows font database\"\n",
      "Warning message in grid.Call(C_textBounds, as.graphicsAnnot(x$label), x$x, x$y, :\n",
      "\"font family not found in Windows font database\"\n",
      "Warning message in grid.Call(C_textBounds, as.graphicsAnnot(x$label), x$x, x$y, :\n",
      "\"font family not found in Windows font database\"\n",
      "Warning message in grid.Call(C_textBounds, as.graphicsAnnot(x$label), x$x, x$y, :\n",
      "\"font family not found in Windows font database\"\n",
      "Warning message in grid.Call(C_textBounds, as.graphicsAnnot(x$label), x$x, x$y, :\n",
      "\"font family not found in Windows font database\"\n",
      "Warning message in grid.Call.graphics(C_text, as.graphicsAnnot(x$label), x$x, x$y, :\n",
      "\"font family not found in Windows font database\"\n",
      "Warning message in grid.Call(C_textBounds, as.graphicsAnnot(x$label), x$x, x$y, :\n",
      "\"font family not found in Windows font database\"\n",
      "Saving 6.67 x 6.67 in image\n",
      "\n",
      "Warning message in grid.Call(C_textBounds, as.graphicsAnnot(x$label), x$x, x$y, :\n",
      "\"font family not found in Windows font database\"\n",
      "Warning message in grid.Call(C_textBounds, as.graphicsAnnot(x$label), x$x, x$y, :\n",
      "\"font family not found in Windows font database\"\n",
      "Warning message in grid.Call(C_textBounds, as.graphicsAnnot(x$label), x$x, x$y, :\n",
      "\"font family not found in Windows font database\"\n",
      "Warning message in grid.Call(C_textBounds, as.graphicsAnnot(x$label), x$x, x$y, :\n",
      "\"font family not found in Windows font database\"\n",
      "Warning message in grid.Call(C_textBounds, as.graphicsAnnot(x$label), x$x, x$y, :\n",
      "\"font family not found in Windows font database\"\n",
      "Warning message in grid.Call(C_textBounds, as.graphicsAnnot(x$label), x$x, x$y, :\n",
      "\"font family not found in Windows font database\"\n",
      "Warning message in grid.Call.graphics(C_text, as.graphicsAnnot(x$label), x$x, x$y, :\n",
      "\"font family not found in Windows font database\"\n",
      "Warning message in grid.Call(C_textBounds, as.graphicsAnnot(x$label), x$x, x$y, :\n",
      "\"font family not found in Windows font database\"\n"
     ]
    },
    {
     "data": {
      "image/png": "[encoded data removed]",
      "text/plain": [
       "plot without title"
      ]
     },
     "metadata": {
      "image/png": {
       "height": 900,
       "width": 900
      }
     },
     "output_type": "display_data"
    }
   ],
   "source": [
    "y_pred_svr = predict(regressor_svr,  newdata = test_set)\n",
    "\n",
    "Pred_Actual_svr <- as.data.frame(cbind(Prediction = y_pred_svr, Actual = test_set$Score))\n",
    "\n",
    "\n",
    "Pred_Actual_lm.versus.svr <- cbind(Prediction.lm = y_pred_lm, Prediction.svr = y_pred_svr, Actual = test_set$Score)\n",
    "\n",
    "gg.svr <- ggplot(Pred_Actual_svr, aes(Actual, Prediction)) +\n",
    "  geom_point() + theme_bw() + geom_abline() +\n",
    "  labs(title = \"SVR\", x = \"Actual happiness score\",\n",
    "       y = \"Predicted happiness score\") +\n",
    "  theme(plot.title = element_text(family = \"Helvetica\", face = \"bold\", size = (15)), \n",
    "        axis.title = element_text(family = \"Helvetica\", size = (10)))\n",
    "gg.svr\n",
    "ggsave(\"svrmodel.png\")"
   ]
  },
  {
   "cell_type": "code",
   "execution_count": 38,
   "metadata": {},
   "outputs": [
    {
     "name": "stdout",
     "output_type": "stream",
     "text": [
      "Call:\n",
      "rpart(formula = Score ~ ., data = dataset, control = rpart.control(minsplit = 10))\n",
      "  n= 149 \n",
      "\n",
      "          CP nsplit rel error    xerror       xstd\n",
      "1 0.50721060      0 1.0000000 1.0101114 0.10544011\n",
      "2 0.14571618      1 0.4927894 0.6157971 0.05505040\n",
      "3 0.07771100      2 0.3470732 0.4384032 0.04151696\n",
      "4 0.05496191      3 0.2693622 0.3876167 0.04027925\n",
      "5 0.04847301      4 0.2144003 0.3622854 0.03929269\n",
      "6 0.02546646      5 0.1659273 0.2878238 0.03649581\n",
      "7 0.01444021      6 0.1404608 0.2626825 0.03105171\n",
      "8 0.01424894      7 0.1260206 0.2549639 0.02929547\n",
      "9 0.01000000      8 0.1117717 0.2538658 0.02818508\n",
      "\n",
      "Variable importance\n",
      "              GDP            Health            Family           Freedom \n",
      "               27                22                19                10 \n",
      "       Corruption Dystopia.residual        Generosity \n",
      "                9                 8                 4 \n",
      "\n",
      "Node number 1: 149 observations,    complexity param=0.5072106\n",
      "  mean=5.532839, MSE=1.145571 \n",
      "  left son=2 (91 obs) right son=3 (58 obs)\n",
      "  Primary splits:\n",
      "      GDP               < 9.856   to the left,  improve=0.5072106, (0 missing)\n",
      "      Family            < 0.8615  to the left,  improve=0.4924233, (0 missing)\n",
      "      Health            < 67.2995 to the left,  improve=0.4899874, (0 missing)\n",
      "      Dystopia.residual < 2.2075  to the left,  improve=0.3224869, (0 missing)\n",
      "      Freedom           < 0.7825  to the left,  improve=0.2656577, (0 missing)\n",
      "  Surrogate splits:\n",
      "      Health     < 68.149  to the left,  agree=0.872, adj=0.672, (0 split)\n",
      "      Family     < 0.878   to the left,  agree=0.846, adj=0.603, (0 split)\n",
      "      Corruption < 0.654   to the right, agree=0.718, adj=0.276, (0 split)\n",
      "      Freedom    < 0.9065  to the left,  agree=0.698, adj=0.224, (0 split)\n",
      "      Generosity < -0.252  to the right, agree=0.624, adj=0.034, (0 split)\n",
      "\n",
      "Node number 2: 91 observations,    complexity param=0.1457162\n",
      "  mean=4.924286, MSE=0.637727 \n",
      "  left son=4 (44 obs) right son=5 (47 obs)\n",
      "  Primary splits:\n",
      "      Health            < 61.999  to the left,  improve=0.4285881, (0 missing)\n",
      "      Family            < 0.797   to the left,  improve=0.3589446, (0 missing)\n",
      "      GDP               < 8.059   to the left,  improve=0.3464340, (0 missing)\n",
      "      Dystopia.residual < 2.1905  to the left,  improve=0.2976079, (0 missing)\n",
      "      Freedom           < 0.784   to the left,  improve=0.1917278, (0 missing)\n",
      "  Surrogate splits:\n",
      "      Family     < 0.797   to the left,  agree=0.857, adj=0.705, (0 split)\n",
      "      GDP        < 8.6     to the left,  agree=0.835, adj=0.659, (0 split)\n",
      "      Freedom    < 0.75    to the left,  agree=0.736, adj=0.455, (0 split)\n",
      "      Generosity < -0.0695 to the right, agree=0.637, adj=0.250, (0 split)\n",
      "      Corruption < 0.8555  to the left,  agree=0.604, adj=0.182, (0 split)\n",
      "\n",
      "Node number 3: 58 observations,    complexity param=0.077711\n",
      "  mean=6.487638, MSE=0.4496749 \n",
      "  left son=6 (29 obs) right son=7 (29 obs)\n",
      "  Primary splits:\n",
      "      Dystopia.residual < 2.579   to the left,  improve=0.5085859, (0 missing)\n",
      "      Freedom           < 0.9015  to the left,  improve=0.4039614, (0 missing)\n",
      "      GDP               < 10.633  to the left,  improve=0.3997945, (0 missing)\n",
      "      Corruption        < 0.504   to the right, improve=0.3833382, (0 missing)\n",
      "      Family            < 0.933   to the left,  improve=0.3236853, (0 missing)\n",
      "  Surrogate splits:\n",
      "      GDP        < 10.617  to the left,  agree=0.707, adj=0.414, (0 split)\n",
      "      Corruption < 0.7245  to the right, agree=0.690, adj=0.379, (0 split)\n",
      "      Freedom    < 0.8955  to the left,  agree=0.672, adj=0.345, (0 split)\n",
      "      Family     < 0.933   to the left,  agree=0.655, adj=0.310, (0 split)\n",
      "      Generosity < -0.002  to the left,  agree=0.655, adj=0.310, (0 split)\n",
      "\n",
      "Node number 4: 44 observations,    complexity param=0.05496191\n",
      "  mean=4.383955, MSE=0.4211752 \n",
      "  left son=8 (12 obs) right son=9 (32 obs)\n",
      "  Primary splits:\n",
      "      Dystopia.residual < 2.064   to the left,  improve=0.5062380, (0 missing)\n",
      "      Family            < 0.633   to the left,  improve=0.2224289, (0 missing)\n",
      "      Freedom           < 0.686   to the left,  improve=0.1900058, (0 missing)\n",
      "      GDP               < 8.059   to the left,  improve=0.1865890, (0 missing)\n",
      "      Generosity        < -0.085  to the left,  improve=0.1237308, (0 missing)\n",
      "  Surrogate splits:\n",
      "      Freedom    < 0.8155  to the right, agree=0.795, adj=0.250, (0 split)\n",
      "      Health     < 60.608  to the right, agree=0.773, adj=0.167, (0 split)\n",
      "      Corruption < 0.592   to the left,  agree=0.773, adj=0.167, (0 split)\n",
      "      Generosity < -0.1185 to the left,  agree=0.750, adj=0.083, (0 split)\n",
      "\n",
      "Node number 5: 47 observations,    complexity param=0.04847301\n",
      "  mean=5.430128, MSE=0.311258 \n",
      "  left son=10 (22 obs) right son=11 (25 obs)\n",
      "  Primary splits:\n",
      "      Dystopia.residual < 2.278   to the left,  improve=0.5655749, (0 missing)\n",
      "      Freedom           < 0.776   to the left,  improve=0.2589117, (0 missing)\n",
      "      Family            < 0.8075  to the left,  improve=0.2196913, (0 missing)\n",
      "      Generosity        < -0.1585 to the left,  improve=0.2052383, (0 missing)\n",
      "      Health            < 67.378  to the left,  improve=0.1033932, (0 missing)\n",
      "  Surrogate splits:\n",
      "      Freedom    < 0.763   to the left,  agree=0.702, adj=0.364, (0 split)\n",
      "      GDP        < 9.464   to the right, agree=0.681, adj=0.318, (0 split)\n",
      "      Generosity < -0.1585 to the left,  agree=0.681, adj=0.318, (0 split)\n",
      "      Family     < 0.8115  to the left,  agree=0.660, adj=0.273, (0 split)\n",
      "      Health     < 68.8995 to the right, agree=0.596, adj=0.136, (0 split)\n",
      "\n",
      "Node number 6: 29 observations,    complexity param=0.01444021\n",
      "  mean=6.009414, MSE=0.2137254 \n",
      "  left son=12 (12 obs) right son=13 (17 obs)\n",
      "  Primary splits:\n",
      "      Dystopia.residual < 2.265   to the left,  improve=0.3976747, (0 missing)\n",
      "      GDP               < 10.297  to the left,  improve=0.3376992, (0 missing)\n",
      "      Freedom           < 0.809   to the left,  improve=0.3081262, (0 missing)\n",
      "      Family            < 0.9315  to the left,  improve=0.2723684, (0 missing)\n",
      "      Corruption        < 0.7605  to the right, improve=0.2120768, (0 missing)\n",
      "  Surrogate splits:\n",
      "      Family     < 0.89    to the left,  agree=0.724, adj=0.333, (0 split)\n",
      "      Health     < 74.9    to the right, agree=0.690, adj=0.250, (0 split)\n",
      "      Freedom    < 0.736   to the left,  agree=0.690, adj=0.250, (0 split)\n",
      "      Corruption < 0.549   to the left,  agree=0.655, adj=0.167, (0 split)\n",
      "      GDP        < 10.2595 to the left,  agree=0.621, adj=0.083, (0 split)\n",
      "\n",
      "Node number 7: 29 observations,    complexity param=0.02546646\n",
      "  mean=6.965862, MSE=0.2282277 \n",
      "  left son=14 (10 obs) right son=15 (19 obs)\n",
      "  Primary splits:\n",
      "      Health     < 70.4035 to the left,  improve=0.6567661, (0 missing)\n",
      "      Freedom    < 0.9015  to the left,  improve=0.5544445, (0 missing)\n",
      "      Corruption < 0.5355  to the right, improve=0.5414381, (0 missing)\n",
      "      GDP        < 10.5275 to the left,  improve=0.4657685, (0 missing)\n",
      "      Generosity < -0.039  to the left,  improve=0.4533731, (0 missing)\n",
      "  Surrogate splits:\n",
      "      GDP        < 10.5275 to the left,  agree=0.828, adj=0.5, (0 split)\n",
      "      Corruption < 0.6785  to the right, agree=0.828, adj=0.5, (0 split)\n",
      "      Family     < 0.9005  to the left,  agree=0.793, adj=0.4, (0 split)\n",
      "      Freedom    < 0.8515  to the left,  agree=0.759, adj=0.3, (0 split)\n",
      "      Generosity < -0.039  to the left,  agree=0.759, adj=0.3, (0 split)\n",
      "\n",
      "Node number 8: 12 observations\n",
      "  mean=3.629917, MSE=0.2367037 \n",
      "\n",
      "Node number 9: 32 observations,    complexity param=0.01424894\n",
      "  mean=4.666719, MSE=0.1971815 \n",
      "  left son=18 (7 obs) right son=19 (25 obs)\n",
      "  Primary splits:\n",
      "      Family            < 0.633   to the left,  improve=0.38545590, (0 missing)\n",
      "      GDP               < 7.5555  to the left,  improve=0.31989840, (0 missing)\n",
      "      Freedom           < 0.628   to the left,  improve=0.30030320, (0 missing)\n",
      "      Dystopia.residual < 2.933   to the left,  improve=0.29314410, (0 missing)\n",
      "      Generosity        < 0.0895  to the left,  improve=0.08014269, (0 missing)\n",
      "  Surrogate splits:\n",
      "      GDP        < 7.028   to the left,  agree=0.844, adj=0.286, (0 split)\n",
      "      Freedom    < 0.628   to the left,  agree=0.844, adj=0.286, (0 split)\n",
      "      Corruption < 0.6725  to the left,  agree=0.812, adj=0.143, (0 split)\n",
      "\n",
      "Node number 10: 22 observations\n",
      "  mean=4.982864, MSE=0.1229663 \n",
      "\n",
      "Node number 11: 25 observations\n",
      "  mean=5.82372, MSE=0.146 \n",
      "\n",
      "Node number 12: 12 observations\n",
      "  mean=5.662417, MSE=0.1504831 \n",
      "\n",
      "Node number 13: 17 observations\n",
      "  mean=6.254353, MSE=0.1133787 \n",
      "\n",
      "Node number 14: 10 observations\n",
      "  mean=6.4322, MSE=0.05501536 \n",
      "\n",
      "Node number 15: 19 observations\n",
      "  mean=7.246737, MSE=0.09060925 \n",
      "\n",
      "Node number 18: 7 observations\n",
      "  mean=4.145714, MSE=0.1996882 \n",
      "\n",
      "Node number 19: 25 observations\n",
      "  mean=4.8126, MSE=0.09919352 \n",
      "\n"
     ]
    }
   ],
   "source": [
    "library(rpart)\n",
    "regressor_dt = rpart(formula = Score ~ .,\n",
    "                  data = dataset,\n",
    "                  control = rpart.control(minsplit = 10))\n",
    "summary(regressor_dt)"
   ]
  },
  {
   "cell_type": "code",
   "execution_count": 39,
   "metadata": {},
   "outputs": [
    {
     "name": "stderr",
     "output_type": "stream",
     "text": [
      "Warning message:\n",
      "\"package 'rpart.plot' is in use and will not be installed\"\n"
     ]
    }
   ],
   "source": [
    "install.packages(\"rpart.plot\")\n",
    "library(rpart.plot)"
   ]
  },
  {
   "cell_type": "code",
   "execution_count": 45,
   "metadata": {},
   "outputs": [
    {
     "name": "stderr",
     "output_type": "stream",
     "text": [
      "Saving 6.67 x 6.67 in image\n",
      "\n",
      "Warning message in grid.Call(C_textBounds, as.graphicsAnnot(x$label), x$x, x$y, :\n",
      "\"font family not found in Windows font database\"\n",
      "Warning message in grid.Call(C_textBounds, as.graphicsAnnot(x$label), x$x, x$y, :\n",
      "\"font family not found in Windows font database\"\n",
      "Warning message in grid.Call(C_textBounds, as.graphicsAnnot(x$label), x$x, x$y, :\n",
      "\"font family not found in Windows font database\"\n",
      "Warning message in grid.Call(C_textBounds, as.graphicsAnnot(x$label), x$x, x$y, :\n",
      "\"font family not found in Windows font database\"\n",
      "Warning message in grid.Call(C_textBounds, as.graphicsAnnot(x$label), x$x, x$y, :\n",
      "\"font family not found in Windows font database\"\n",
      "Warning message in grid.Call(C_textBounds, as.graphicsAnnot(x$label), x$x, x$y, :\n",
      "\"font family not found in Windows font database\"\n",
      "Warning message in grid.Call.graphics(C_text, as.graphicsAnnot(x$label), x$x, x$y, :\n",
      "\"font family not found in Windows font database\"\n",
      "Warning message in grid.Call(C_textBounds, as.graphicsAnnot(x$label), x$x, x$y, :\n",
      "\"font family not found in Windows font database\"\n"
     ]
    },
    {
     "data": {
      "image/png": "[encoded data removed]",
      "text/plain": [
       "plot without title"
      ]
     },
     "metadata": {
      "image/png": {
       "height": 900,
       "width": 900
      }
     },
     "output_type": "display_data"
    }
   ],
   "source": [
    "library(rpart.plot)\n",
    "prp(regressor_dt)\n",
    "ggsave(\"dtree.png\")"
   ]
  },
  {
   "cell_type": "code",
   "execution_count": 44,
   "metadata": {},
   "outputs": [
    {
     "name": "stderr",
     "output_type": "stream",
     "text": [
      "Warning message in grid.Call(C_textBounds, as.graphicsAnnot(x$label), x$x, x$y, :\n",
      "\"font family not found in Windows font database\"\n",
      "Warning message in grid.Call(C_textBounds, as.graphicsAnnot(x$label), x$x, x$y, :\n",
      "\"font family not found in Windows font database\"\n",
      "Warning message in grid.Call(C_textBounds, as.graphicsAnnot(x$label), x$x, x$y, :\n",
      "\"font family not found in Windows font database\"\n",
      "Warning message in grid.Call(C_textBounds, as.graphicsAnnot(x$label), x$x, x$y, :\n",
      "\"font family not found in Windows font database\"\n",
      "Warning message in grid.Call(C_textBounds, as.graphicsAnnot(x$label), x$x, x$y, :\n",
      "\"font family not found in Windows font database\"\n",
      "Warning message in grid.Call(C_textBounds, as.graphicsAnnot(x$label), x$x, x$y, :\n",
      "\"font family not found in Windows font database\"\n",
      "Warning message in grid.Call.graphics(C_text, as.graphicsAnnot(x$label), x$x, x$y, :\n",
      "\"font family not found in Windows font database\"\n",
      "Warning message in grid.Call(C_textBounds, as.graphicsAnnot(x$label), x$x, x$y, :\n",
      "\"font family not found in Windows font database\"\n",
      "Saving 6.67 x 6.67 in image\n",
      "\n",
      "Warning message in grid.Call(C_textBounds, as.graphicsAnnot(x$label), x$x, x$y, :\n",
      "\"font family not found in Windows font database\"\n",
      "Warning message in grid.Call(C_textBounds, as.graphicsAnnot(x$label), x$x, x$y, :\n",
      "\"font family not found in Windows font database\"\n",
      "Warning message in grid.Call(C_textBounds, as.graphicsAnnot(x$label), x$x, x$y, :\n",
      "\"font family not found in Windows font database\"\n",
      "Warning message in grid.Call(C_textBounds, as.graphicsAnnot(x$label), x$x, x$y, :\n",
      "\"font family not found in Windows font database\"\n",
      "Warning message in grid.Call(C_textBounds, as.graphicsAnnot(x$label), x$x, x$y, :\n",
      "\"font family not found in Windows font database\"\n",
      "Warning message in grid.Call(C_textBounds, as.graphicsAnnot(x$label), x$x, x$y, :\n",
      "\"font family not found in Windows font database\"\n",
      "Warning message in grid.Call.graphics(C_text, as.graphicsAnnot(x$label), x$x, x$y, :\n",
      "\"font family not found in Windows font database\"\n",
      "Warning message in grid.Call(C_textBounds, as.graphicsAnnot(x$label), x$x, x$y, :\n",
      "\"font family not found in Windows font database\"\n"
     ]
    },
    {
     "data": {
      "image/png": "[encoded data removed]",
      "text/plain": [
       "plot without title"
      ]
     },
     "metadata": {
      "image/png": {
       "height": 900,
       "width": 900
      }
     },
     "output_type": "display_data"
    }
   ],
   "source": [
    "y_pred_dt = predict(regressor_dt, newdata = test_set)\n",
    "\n",
    "Pred_Actual_dt <- as.data.frame(cbind(Prediction = y_pred_dt, Actual = test_set$Score))\n",
    "\n",
    "\n",
    "gg.dt <- ggplot(Pred_Actual_dt, aes(Actual, Prediction )) +\n",
    "  geom_point() + theme_bw() + geom_abline() +\n",
    "  labs(title = \"Decision Tree Regression\", x = \"Actual happiness score\",\n",
    "       y = \"Predicted happiness score\") +\n",
    "  theme(plot.title = element_text(family = \"Helvetica\", face = \"bold\", size = (15)), \n",
    "        axis.title = element_text(family = \"Helvetica\", size = (10)))\n",
    "gg.dt\n",
    "ggsave(\"dtmodel.png\")"
   ]
  },
  {
   "cell_type": "code",
   "execution_count": 29,
   "metadata": {},
   "outputs": [
    {
     "data": {
      "text/html": [
       "<table class=\"dataframe\">\n",
       "<caption>A data.frame: 6 × 11</caption>\n",
       "<thead>\n",
       "\t<tr><th></th><th scope=col>Country</th><th scope=col>Continent</th><th scope=col>Score</th><th scope=col>GDP</th><th scope=col>Family</th><th scope=col>Health</th><th scope=col>Freedom</th><th scope=col>Generosity</th><th scope=col>Corruption</th><th scope=col>Dystopia.residual</th><th scope=col>Rank</th></tr>\n",
       "\t<tr><th></th><th scope=col>&lt;chr&gt;</th><th scope=col>&lt;fct&gt;</th><th scope=col>&lt;dbl&gt;</th><th scope=col>&lt;dbl&gt;</th><th scope=col>&lt;dbl&gt;</th><th scope=col>&lt;dbl&gt;</th><th scope=col>&lt;dbl&gt;</th><th scope=col>&lt;dbl&gt;</th><th scope=col>&lt;dbl&gt;</th><th scope=col>&lt;dbl&gt;</th><th scope=col>&lt;int&gt;</th></tr>\n",
       "</thead>\n",
       "<tbody>\n",
       "\t<tr><th scope=row>1</th><td>Finland    </td><td>Europe</td><td>7.842</td><td>10.775</td><td>0.954</td><td>72.0</td><td>0.949</td><td>-0.098</td><td>0.186</td><td>3.253</td><td>1</td></tr>\n",
       "\t<tr><th scope=row>2</th><td>Denmark    </td><td>Europe</td><td>7.620</td><td>10.933</td><td>0.954</td><td>72.7</td><td>0.946</td><td> 0.030</td><td>0.179</td><td>2.868</td><td>2</td></tr>\n",
       "\t<tr><th scope=row>3</th><td>Switzerland</td><td>Europe</td><td>7.571</td><td>11.117</td><td>0.942</td><td>74.4</td><td>0.919</td><td> 0.025</td><td>0.292</td><td>2.839</td><td>3</td></tr>\n",
       "\t<tr><th scope=row>4</th><td>Iceland    </td><td>Europe</td><td>7.554</td><td>10.878</td><td>0.983</td><td>73.0</td><td>0.955</td><td> 0.160</td><td>0.673</td><td>2.967</td><td>4</td></tr>\n",
       "\t<tr><th scope=row>5</th><td>Netherlands</td><td>Europe</td><td>7.464</td><td>10.932</td><td>0.942</td><td>72.4</td><td>0.913</td><td> 0.175</td><td>0.338</td><td>2.798</td><td>5</td></tr>\n",
       "\t<tr><th scope=row>6</th><td>Norway     </td><td>Europe</td><td>7.392</td><td>11.053</td><td>0.954</td><td>73.3</td><td>0.960</td><td> 0.093</td><td>0.270</td><td>2.580</td><td>6</td></tr>\n",
       "</tbody>\n",
       "</table>\n"
      ],
      "text/latex": [
       "A data.frame: 6 × 11\n",
       "\\begin{tabular}{r|lllllllllll}\n",
       "  & Country & Continent & Score & GDP & Family & Health & Freedom & Generosity & Corruption & Dystopia.residual & Rank\\\\\n",
       "  & <chr> & <fct> & <dbl> & <dbl> & <dbl> & <dbl> & <dbl> & <dbl> & <dbl> & <dbl> & <int>\\\\\n",
       "\\hline\n",
       "\t1 & Finland     & Europe & 7.842 & 10.775 & 0.954 & 72.0 & 0.949 & -0.098 & 0.186 & 3.253 & 1\\\\\n",
       "\t2 & Denmark     & Europe & 7.620 & 10.933 & 0.954 & 72.7 & 0.946 &  0.030 & 0.179 & 2.868 & 2\\\\\n",
       "\t3 & Switzerland & Europe & 7.571 & 11.117 & 0.942 & 74.4 & 0.919 &  0.025 & 0.292 & 2.839 & 3\\\\\n",
       "\t4 & Iceland     & Europe & 7.554 & 10.878 & 0.983 & 73.0 & 0.955 &  0.160 & 0.673 & 2.967 & 4\\\\\n",
       "\t5 & Netherlands & Europe & 7.464 & 10.932 & 0.942 & 72.4 & 0.913 &  0.175 & 0.338 & 2.798 & 5\\\\\n",
       "\t6 & Norway      & Europe & 7.392 & 11.053 & 0.954 & 73.3 & 0.960 &  0.093 & 0.270 & 2.580 & 6\\\\\n",
       "\\end{tabular}\n"
      ],
      "text/markdown": [
       "\n",
       "A data.frame: 6 × 11\n",
       "\n",
       "| <!--/--> | Country &lt;chr&gt; | Continent &lt;fct&gt; | Score &lt;dbl&gt; | GDP &lt;dbl&gt; | Family &lt;dbl&gt; | Health &lt;dbl&gt; | Freedom &lt;dbl&gt; | Generosity &lt;dbl&gt; | Corruption &lt;dbl&gt; | Dystopia.residual &lt;dbl&gt; | Rank &lt;int&gt; |\n",
       "|---|---|---|---|---|---|---|---|---|---|---|---|\n",
       "| 1 | Finland     | Europe | 7.842 | 10.775 | 0.954 | 72.0 | 0.949 | -0.098 | 0.186 | 3.253 | 1 |\n",
       "| 2 | Denmark     | Europe | 7.620 | 10.933 | 0.954 | 72.7 | 0.946 |  0.030 | 0.179 | 2.868 | 2 |\n",
       "| 3 | Switzerland | Europe | 7.571 | 11.117 | 0.942 | 74.4 | 0.919 |  0.025 | 0.292 | 2.839 | 3 |\n",
       "| 4 | Iceland     | Europe | 7.554 | 10.878 | 0.983 | 73.0 | 0.955 |  0.160 | 0.673 | 2.967 | 4 |\n",
       "| 5 | Netherlands | Europe | 7.464 | 10.932 | 0.942 | 72.4 | 0.913 |  0.175 | 0.338 | 2.798 | 5 |\n",
       "| 6 | Norway      | Europe | 7.392 | 11.053 | 0.954 | 73.3 | 0.960 |  0.093 | 0.270 | 2.580 | 6 |\n",
       "\n"
      ],
      "text/plain": [
       "  Country     Continent Score GDP    Family Health Freedom Generosity\n",
       "1 Finland     Europe    7.842 10.775 0.954  72.0   0.949   -0.098    \n",
       "2 Denmark     Europe    7.620 10.933 0.954  72.7   0.946    0.030    \n",
       "3 Switzerland Europe    7.571 11.117 0.942  74.4   0.919    0.025    \n",
       "4 Iceland     Europe    7.554 10.878 0.983  73.0   0.955    0.160    \n",
       "5 Netherlands Europe    7.464 10.932 0.942  72.4   0.913    0.175    \n",
       "6 Norway      Europe    7.392 11.053 0.954  73.3   0.960    0.093    \n",
       "  Corruption Dystopia.residual Rank\n",
       "1 0.186      3.253             1   \n",
       "2 0.179      2.868             2   \n",
       "3 0.292      2.839             3   \n",
       "4 0.673      2.967             4   \n",
       "5 0.338      2.798             5   \n",
       "6 0.270      2.580             6   "
      ]
     },
     "metadata": {},
     "output_type": "display_data"
    }
   ],
   "source": [
    "head(happ)"
   ]
  },
  {
   "cell_type": "code",
   "execution_count": 53,
   "metadata": {},
   "outputs": [
    {
     "name": "stderr",
     "output_type": "stream",
     "text": [
      "Warning message in grid.Call(C_textBounds, as.graphicsAnnot(x$label), x$x, x$y, :\n",
      "\"font family not found in Windows font database\"\n",
      "Warning message in grid.Call(C_textBounds, as.graphicsAnnot(x$label), x$x, x$y, :\n",
      "\"font family not found in Windows font database\"\n",
      "Warning message in grid.Call(C_textBounds, as.graphicsAnnot(x$label), x$x, x$y, :\n",
      "\"font family not found in Windows font database\"\n",
      "Warning message in grid.Call(C_textBounds, as.graphicsAnnot(x$label), x$x, x$y, :\n",
      "\"font family not found in Windows font database\"\n",
      "Warning message in grid.Call(C_textBounds, as.graphicsAnnot(x$label), x$x, x$y, :\n",
      "\"font family not found in Windows font database\"\n",
      "Warning message in grid.Call(C_textBounds, as.graphicsAnnot(x$label), x$x, x$y, :\n",
      "\"font family not found in Windows font database\"\n",
      "Warning message in grid.Call.graphics(C_text, as.graphicsAnnot(x$label), x$x, x$y, :\n",
      "\"font family not found in Windows font database\"\n",
      "Warning message in grid.Call(C_textBounds, as.graphicsAnnot(x$label), x$x, x$y, :\n",
      "\"font family not found in Windows font database\"\n",
      "Warning message in grid.Call(C_textBounds, as.graphicsAnnot(x$label), x$x, x$y, :\n",
      "\"font family not found in Windows font database\"\n",
      "Warning message in grid.Call(C_textBounds, as.graphicsAnnot(x$label), x$x, x$y, :\n",
      "\"font family not found in Windows font database\"\n",
      "Warning message in grid.Call(C_textBounds, as.graphicsAnnot(x$label), x$x, x$y, :\n",
      "\"font family not found in Windows font database\"\n",
      "Warning message in grid.Call(C_textBounds, as.graphicsAnnot(x$label), x$x, x$y, :\n",
      "\"font family not found in Windows font database\"\n",
      "Warning message in grid.Call(C_textBounds, as.graphicsAnnot(x$label), x$x, x$y, :\n",
      "\"font family not found in Windows font database\"\n",
      "Warning message in grid.Call(C_textBounds, as.graphicsAnnot(x$label), x$x, x$y, :\n",
      "\"font family not found in Windows font database\"\n",
      "Warning message in grid.Call.graphics(C_text, as.graphicsAnnot(x$label), x$x, x$y, :\n",
      "\"font family not found in Windows font database\"\n",
      "Warning message in grid.Call(C_textBounds, as.graphicsAnnot(x$label), x$x, x$y, :\n",
      "\"font family not found in Windows font database\"\n",
      "Warning message in grid.Call(C_textBounds, as.graphicsAnnot(x$label), x$x, x$y, :\n",
      "\"font family not found in Windows font database\"\n",
      "Warning message in grid.Call(C_textBounds, as.graphicsAnnot(x$label), x$x, x$y, :\n",
      "\"font family not found in Windows font database\"\n",
      "Warning message in grid.Call(C_textBounds, as.graphicsAnnot(x$label), x$x, x$y, :\n",
      "\"font family not found in Windows font database\"\n",
      "Warning message in grid.Call(C_textBounds, as.graphicsAnnot(x$label), x$x, x$y, :\n",
      "\"font family not found in Windows font database\"\n",
      "Warning message in grid.Call(C_textBounds, as.graphicsAnnot(x$label), x$x, x$y, :\n",
      "\"font family not found in Windows font database\"\n",
      "Warning message in grid.Call(C_textBounds, as.graphicsAnnot(x$label), x$x, x$y, :\n",
      "\"font family not found in Windows font database\"\n",
      "Warning message in grid.Call.graphics(C_text, as.graphicsAnnot(x$label), x$x, x$y, :\n",
      "\"font family not found in Windows font database\"\n",
      "Warning message in grid.Call(C_textBounds, as.graphicsAnnot(x$label), x$x, x$y, :\n",
      "\"font family not found in Windows font database\"\n",
      "Saving 6.67 x 6.67 in image\n",
      "\n",
      "Warning message in grid.Call(C_textBounds, as.graphicsAnnot(x$label), x$x, x$y, :\n",
      "\"font family not found in Windows font database\"\n",
      "Warning message in grid.Call(C_textBounds, as.graphicsAnnot(x$label), x$x, x$y, :\n",
      "\"font family not found in Windows font database\"\n",
      "Warning message in grid.Call(C_textBounds, as.graphicsAnnot(x$label), x$x, x$y, :\n",
      "\"font family not found in Windows font database\"\n",
      "Warning message in grid.Call(C_textBounds, as.graphicsAnnot(x$label), x$x, x$y, :\n",
      "\"font family not found in Windows font database\"\n",
      "Warning message in grid.Call(C_textBounds, as.graphicsAnnot(x$label), x$x, x$y, :\n",
      "\"font family not found in Windows font database\"\n",
      "Warning message in grid.Call(C_textBounds, as.graphicsAnnot(x$label), x$x, x$y, :\n",
      "\"font family not found in Windows font database\"\n",
      "Warning message in grid.Call.graphics(C_text, as.graphicsAnnot(x$label), x$x, x$y, :\n",
      "\"font family not found in Windows font database\"\n",
      "Warning message in grid.Call(C_textBounds, as.graphicsAnnot(x$label), x$x, x$y, :\n",
      "\"font family not found in Windows font database\"\n",
      "Warning message in grid.Call(C_textBounds, as.graphicsAnnot(x$label), x$x, x$y, :\n",
      "\"font family not found in Windows font database\"\n",
      "Warning message in grid.Call(C_textBounds, as.graphicsAnnot(x$label), x$x, x$y, :\n",
      "\"font family not found in Windows font database\"\n",
      "Warning message in grid.Call(C_textBounds, as.graphicsAnnot(x$label), x$x, x$y, :\n",
      "\"font family not found in Windows font database\"\n",
      "Warning message in grid.Call(C_textBounds, as.graphicsAnnot(x$label), x$x, x$y, :\n",
      "\"font family not found in Windows font database\"\n",
      "Warning message in grid.Call(C_textBounds, as.graphicsAnnot(x$label), x$x, x$y, :\n",
      "\"font family not found in Windows font database\"\n",
      "Warning message in grid.Call(C_textBounds, as.graphicsAnnot(x$label), x$x, x$y, :\n",
      "\"font family not found in Windows font database\"\n",
      "Warning message in grid.Call.graphics(C_text, as.graphicsAnnot(x$label), x$x, x$y, :\n",
      "\"font family not found in Windows font database\"\n",
      "Warning message in grid.Call(C_textBounds, as.graphicsAnnot(x$label), x$x, x$y, :\n",
      "\"font family not found in Windows font database\"\n",
      "Warning message in grid.Call(C_textBounds, as.graphicsAnnot(x$label), x$x, x$y, :\n",
      "\"font family not found in Windows font database\"\n",
      "Warning message in grid.Call(C_textBounds, as.graphicsAnnot(x$label), x$x, x$y, :\n",
      "\"font family not found in Windows font database\"\n",
      "Warning message in grid.Call(C_textBounds, as.graphicsAnnot(x$label), x$x, x$y, :\n",
      "\"font family not found in Windows font database\"\n",
      "Warning message in grid.Call(C_textBounds, as.graphicsAnnot(x$label), x$x, x$y, :\n",
      "\"font family not found in Windows font database\"\n",
      "Warning message in grid.Call(C_textBounds, as.graphicsAnnot(x$label), x$x, x$y, :\n",
      "\"font family not found in Windows font database\"\n",
      "Warning message in grid.Call(C_textBounds, as.graphicsAnnot(x$label), x$x, x$y, :\n",
      "\"font family not found in Windows font database\"\n",
      "Warning message in grid.Call.graphics(C_text, as.graphicsAnnot(x$label), x$x, x$y, :\n",
      "\"font family not found in Windows font database\"\n",
      "Warning message in grid.Call(C_textBounds, as.graphicsAnnot(x$label), x$x, x$y, :\n",
      "\"font family not found in Windows font database\"\n"
     ]
    },
    {
     "data": {
      "image/png": "[encoded data removed]",
      "text/plain": [
       "plot without title"
      ]
     },
     "metadata": {
      "image/png": {
       "height": 900,
       "width": 900
      }
     },
     "output_type": "display_data"
    }
   ],
   "source": [
    "library(ggpubr)\n",
    "ggarrange(gg.lm, gg.svr, gg.dt, ncol = 2, nrow = 2)\n",
    "ggsave(\"compare.png\")"
   ]
  },
  {
   "cell_type": "code",
   "execution_count": 50,
   "metadata": {},
   "outputs": [
    {
     "name": "stderr",
     "output_type": "stream",
     "text": [
      "Installing package into 'C:/Users/tulik/Documents/R/win-library/4.0'\n",
      "(as 'lib' is unspecified)\n",
      "\n",
      "Warning message:\n",
      "\"package 'ggarrange' is not available (for R version 4.0.0)\"\n"
     ]
    },
    {
     "ename": "ERROR",
     "evalue": "Error in library(\"ggarrange\"): there is no package called 'ggarrange'\n",
     "output_type": "error",
     "traceback": [
      "Error in library(\"ggarrange\"): there is no package called 'ggarrange'\nTraceback:\n",
      "1. library(\"ggarrange\")"
     ]
    }
   ],
   "source": [
    "install.packages(\"ggarrange\")\n",
    "library(\"ggarrange\")"
   ]
  },
  {
   "cell_type": "code",
   "execution_count": null,
   "metadata": {},
   "outputs": [],
   "source": []
  }
 ],
 "metadata": {
  "kernelspec": {
   "display_name": "R",
   "language": "R",
   "name": "ir"
  },
  "language_info": {
   "codemirror_mode": "r",
   "file_extension": ".r",
   "mimetype": "text/x-r-source",
   "name": "R",
   "pygments_lexer": "r",
   "version": "4.0.0"
  }
 },
 "nbformat": 4,
 "nbformat_minor": 4
}
