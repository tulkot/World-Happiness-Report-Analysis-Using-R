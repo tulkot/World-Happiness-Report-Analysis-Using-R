{
 "cells": [
  {
   "cell_type": "markdown",
   "metadata": {},
   "source": [
    "# World Happiness Report Analysis and Prediction\n",
    "\n",
    "Analysed the world happiness dataset and created a prediction model using Multiple Linear Regression using the World Happiness Report of the last 15 years. <br> \n",
    "Dataset Source: The World Happiness Report"
   ]
  },
  {
   "cell_type": "markdown",
   "metadata": {},
   "source": [
    "The World Happiness Report is a publication from the United Nations that contains articles and rankings of national happiness, based on respondent ratings of their own lives, which the report also correlates with various life factors."
   ]
  },
  {
   "cell_type": "code",
   "execution_count": 5,
   "metadata": {},
   "outputs": [
    {
     "name": "stderr",
     "output_type": "stream",
     "text": [
      "Warning message:\n",
      "\"package 'plyr' was built under R version 4.0.5\"\n",
      "\n",
      "Attaching package: 'plyr'\n",
      "\n",
      "\n",
      "The following object is masked from 'package:corrgram':\n",
      "\n",
      "    baseball\n",
      "\n",
      "\n",
      "Warning message:\n",
      "\"package 'dplyr' was built under R version 4.0.5\"\n",
      "\n",
      "Attaching package: 'dplyr'\n",
      "\n",
      "\n",
      "The following objects are masked from 'package:plyr':\n",
      "\n",
      "    arrange, count, desc, failwith, id, mutate, rename, summarise,\n",
      "    summarize\n",
      "\n",
      "\n",
      "The following objects are masked from 'package:stats':\n",
      "\n",
      "    filter, lag\n",
      "\n",
      "\n",
      "The following objects are masked from 'package:base':\n",
      "\n",
      "    intersect, setdiff, setequal, union\n",
      "\n",
      "\n"
     ]
    }
   ],
   "source": [
    "#importing libraries\n",
    "library(plyr)\n",
    "library(dplyr)\n",
    "library(tidyverse)\n",
    "library(caTools)\n",
    "library(ggplot2)\n",
    "library(ggthemes)\n",
    "#library(reshape2)\n",
    "#library(data.table)\n",
    "library(rwa)\n",
    "library(ggpubr)\n",
    "library(tidyr)\n",
    "library(corrgram)       \n",
    "library(corrplot)"
   ]
  },
  {
   "cell_type": "code",
   "execution_count": 6,
   "metadata": {},
   "outputs": [
    {
     "name": "stdout",
     "output_type": "stream",
     "text": [
      "'data.frame':\t1949 obs. of  11 variables:\n",
      " $ ï..Country.name                 : chr  \"Afghanistan\" \"Afghanistan\" \"Afghanistan\" \"Afghanistan\" ...\n",
      " $ year                            : int  2008 2009 2010 2011 2012 2013 2014 2015 2016 2017 ...\n",
      " $ Life.Ladder                     : num  3.72 4.4 4.76 3.83 3.78 ...\n",
      " $ Log.GDP.per.capita              : num  7.37 7.54 7.65 7.62 7.71 ...\n",
      " $ Social.support                  : num  0.451 0.552 0.539 0.521 0.521 0.484 0.526 0.529 0.559 0.491 ...\n",
      " $ Healthy.life.expectancy.at.birth: num  50.8 51.2 51.6 51.9 52.2 ...\n",
      " $ Freedom.to.make.life.choices    : num  0.718 0.679 0.6 0.496 0.531 0.578 0.509 0.389 0.523 0.427 ...\n",
      " $ Generosity                      : num  0.168 0.19 0.121 0.162 0.236 0.061 0.104 0.08 0.042 -0.121 ...\n",
      " $ Perceptions.of.corruption       : num  0.882 0.85 0.707 0.731 0.776 0.823 0.871 0.881 0.793 0.954 ...\n",
      " $ Positive.affect                 : num  0.518 0.584 0.618 0.611 0.71 0.621 0.532 0.554 0.565 0.496 ...\n",
      " $ Negative.affect                 : num  0.258 0.237 0.275 0.267 0.268 0.273 0.375 0.339 0.348 0.371 ...\n"
     ]
    }
   ],
   "source": [
    "#Loading dataset\n",
    "happ_all <- read.csv(\"world-happiness-report.csv\")\n",
    "str(happ_all)"
   ]
  },
  {
   "cell_type": "code",
   "execution_count": 7,
   "metadata": {},
   "outputs": [
    {
     "data": {
      "text/html": [
       "<style>\n",
       ".list-inline {list-style: none; margin:0; padding: 0}\n",
       ".list-inline>li {display: inline-block}\n",
       ".list-inline>li:not(:last-child)::after {content: \"\\00b7\"; padding: 0 .5ex}\n",
       "</style>\n",
       "<ol class=list-inline><li>1949</li><li>11</li></ol>\n"
      ],
      "text/latex": [
       "\\begin{enumerate*}\n",
       "\\item 1949\n",
       "\\item 11\n",
       "\\end{enumerate*}\n"
      ],
      "text/markdown": [
       "1. 1949\n",
       "2. 11\n",
       "\n",
       "\n"
      ],
      "text/plain": [
       "[1] 1949   11"
      ]
     },
     "metadata": {},
     "output_type": "display_data"
    }
   ],
   "source": [
    "dim(happ_all)"
   ]
  },
  {
   "cell_type": "code",
   "execution_count": 8,
   "metadata": {},
   "outputs": [],
   "source": [
    "#Renaming columns for convenience\n",
    "happ_all <- happ_all %>% rename(c(\"Country\" = \"ï..Country.name\" ,\n",
    "                      \"Score\" = \"Life.Ladder\",\n",
    "                      \"GDP\" = \"Log.GDP.per.capita\", \n",
    "                      \"Family\" = \"Social.support\",\n",
    "                      \"Health\" = \"Healthy.life.expectancy.at.birth\", \n",
    "                      \"Freedom\" = \"Freedom.to.make.life.choices\",\n",
    "                      \"Corruption\" = \"Perceptions.of.corruption\"))\n"
   ]
  },
  {
   "cell_type": "code",
   "execution_count": 9,
   "metadata": {},
   "outputs": [
    {
     "data": {
      "text/html": [
       "<table class=\"dataframe\">\n",
       "<caption>A data.frame: 6 × 11</caption>\n",
       "<thead>\n",
       "\t<tr><th></th><th scope=col>Country</th><th scope=col>year</th><th scope=col>Score</th><th scope=col>GDP</th><th scope=col>Family</th><th scope=col>Health</th><th scope=col>Freedom</th><th scope=col>Generosity</th><th scope=col>Corruption</th><th scope=col>Positive.affect</th><th scope=col>Negative.affect</th></tr>\n",
       "\t<tr><th></th><th scope=col>&lt;chr&gt;</th><th scope=col>&lt;int&gt;</th><th scope=col>&lt;dbl&gt;</th><th scope=col>&lt;dbl&gt;</th><th scope=col>&lt;dbl&gt;</th><th scope=col>&lt;dbl&gt;</th><th scope=col>&lt;dbl&gt;</th><th scope=col>&lt;dbl&gt;</th><th scope=col>&lt;dbl&gt;</th><th scope=col>&lt;dbl&gt;</th><th scope=col>&lt;dbl&gt;</th></tr>\n",
       "</thead>\n",
       "<tbody>\n",
       "\t<tr><th scope=row>1</th><td>Afghanistan</td><td>2008</td><td>3.724</td><td>7.370</td><td>0.451</td><td>50.80</td><td>0.718</td><td>0.168</td><td>0.882</td><td>0.518</td><td>0.258</td></tr>\n",
       "\t<tr><th scope=row>2</th><td>Afghanistan</td><td>2009</td><td>4.402</td><td>7.540</td><td>0.552</td><td>51.20</td><td>0.679</td><td>0.190</td><td>0.850</td><td>0.584</td><td>0.237</td></tr>\n",
       "\t<tr><th scope=row>3</th><td>Afghanistan</td><td>2010</td><td>4.758</td><td>7.647</td><td>0.539</td><td>51.60</td><td>0.600</td><td>0.121</td><td>0.707</td><td>0.618</td><td>0.275</td></tr>\n",
       "\t<tr><th scope=row>4</th><td>Afghanistan</td><td>2011</td><td>3.832</td><td>7.620</td><td>0.521</td><td>51.92</td><td>0.496</td><td>0.162</td><td>0.731</td><td>0.611</td><td>0.267</td></tr>\n",
       "\t<tr><th scope=row>5</th><td>Afghanistan</td><td>2012</td><td>3.783</td><td>7.705</td><td>0.521</td><td>52.24</td><td>0.531</td><td>0.236</td><td>0.776</td><td>0.710</td><td>0.268</td></tr>\n",
       "\t<tr><th scope=row>6</th><td>Afghanistan</td><td>2013</td><td>3.572</td><td>7.725</td><td>0.484</td><td>52.56</td><td>0.578</td><td>0.061</td><td>0.823</td><td>0.621</td><td>0.273</td></tr>\n",
       "</tbody>\n",
       "</table>\n"
      ],
      "text/latex": [
       "A data.frame: 6 × 11\n",
       "\\begin{tabular}{r|lllllllllll}\n",
       "  & Country & year & Score & GDP & Family & Health & Freedom & Generosity & Corruption & Positive.affect & Negative.affect\\\\\n",
       "  & <chr> & <int> & <dbl> & <dbl> & <dbl> & <dbl> & <dbl> & <dbl> & <dbl> & <dbl> & <dbl>\\\\\n",
       "\\hline\n",
       "\t1 & Afghanistan & 2008 & 3.724 & 7.370 & 0.451 & 50.80 & 0.718 & 0.168 & 0.882 & 0.518 & 0.258\\\\\n",
       "\t2 & Afghanistan & 2009 & 4.402 & 7.540 & 0.552 & 51.20 & 0.679 & 0.190 & 0.850 & 0.584 & 0.237\\\\\n",
       "\t3 & Afghanistan & 2010 & 4.758 & 7.647 & 0.539 & 51.60 & 0.600 & 0.121 & 0.707 & 0.618 & 0.275\\\\\n",
       "\t4 & Afghanistan & 2011 & 3.832 & 7.620 & 0.521 & 51.92 & 0.496 & 0.162 & 0.731 & 0.611 & 0.267\\\\\n",
       "\t5 & Afghanistan & 2012 & 3.783 & 7.705 & 0.521 & 52.24 & 0.531 & 0.236 & 0.776 & 0.710 & 0.268\\\\\n",
       "\t6 & Afghanistan & 2013 & 3.572 & 7.725 & 0.484 & 52.56 & 0.578 & 0.061 & 0.823 & 0.621 & 0.273\\\\\n",
       "\\end{tabular}\n"
      ],
      "text/markdown": [
       "\n",
       "A data.frame: 6 × 11\n",
       "\n",
       "| <!--/--> | Country &lt;chr&gt; | year &lt;int&gt; | Score &lt;dbl&gt; | GDP &lt;dbl&gt; | Family &lt;dbl&gt; | Health &lt;dbl&gt; | Freedom &lt;dbl&gt; | Generosity &lt;dbl&gt; | Corruption &lt;dbl&gt; | Positive.affect &lt;dbl&gt; | Negative.affect &lt;dbl&gt; |\n",
       "|---|---|---|---|---|---|---|---|---|---|---|---|\n",
       "| 1 | Afghanistan | 2008 | 3.724 | 7.370 | 0.451 | 50.80 | 0.718 | 0.168 | 0.882 | 0.518 | 0.258 |\n",
       "| 2 | Afghanistan | 2009 | 4.402 | 7.540 | 0.552 | 51.20 | 0.679 | 0.190 | 0.850 | 0.584 | 0.237 |\n",
       "| 3 | Afghanistan | 2010 | 4.758 | 7.647 | 0.539 | 51.60 | 0.600 | 0.121 | 0.707 | 0.618 | 0.275 |\n",
       "| 4 | Afghanistan | 2011 | 3.832 | 7.620 | 0.521 | 51.92 | 0.496 | 0.162 | 0.731 | 0.611 | 0.267 |\n",
       "| 5 | Afghanistan | 2012 | 3.783 | 7.705 | 0.521 | 52.24 | 0.531 | 0.236 | 0.776 | 0.710 | 0.268 |\n",
       "| 6 | Afghanistan | 2013 | 3.572 | 7.725 | 0.484 | 52.56 | 0.578 | 0.061 | 0.823 | 0.621 | 0.273 |\n",
       "\n"
      ],
      "text/plain": [
       "  Country     year Score GDP   Family Health Freedom Generosity Corruption\n",
       "1 Afghanistan 2008 3.724 7.370 0.451  50.80  0.718   0.168      0.882     \n",
       "2 Afghanistan 2009 4.402 7.540 0.552  51.20  0.679   0.190      0.850     \n",
       "3 Afghanistan 2010 4.758 7.647 0.539  51.60  0.600   0.121      0.707     \n",
       "4 Afghanistan 2011 3.832 7.620 0.521  51.92  0.496   0.162      0.731     \n",
       "5 Afghanistan 2012 3.783 7.705 0.521  52.24  0.531   0.236      0.776     \n",
       "6 Afghanistan 2013 3.572 7.725 0.484  52.56  0.578   0.061      0.823     \n",
       "  Positive.affect Negative.affect\n",
       "1 0.518           0.258          \n",
       "2 0.584           0.237          \n",
       "3 0.618           0.275          \n",
       "4 0.611           0.267          \n",
       "5 0.710           0.268          \n",
       "6 0.621           0.273          "
      ]
     },
     "metadata": {},
     "output_type": "display_data"
    }
   ],
   "source": [
    "head(happ_all)"
   ]
  },
  {
   "cell_type": "code",
   "execution_count": 10,
   "metadata": {},
   "outputs": [
    {
     "data": {
      "text/html": [
       "<table class=\"dataframe\">\n",
       "<caption>A data.frame: 95 × 11</caption>\n",
       "<thead>\n",
       "\t<tr><th></th><th scope=col>Country</th><th scope=col>year</th><th scope=col>Score</th><th scope=col>GDP</th><th scope=col>Family</th><th scope=col>Health</th><th scope=col>Freedom</th><th scope=col>Generosity</th><th scope=col>Corruption</th><th scope=col>Positive.affect</th><th scope=col>Negative.affect</th></tr>\n",
       "\t<tr><th></th><th scope=col>&lt;chr&gt;</th><th scope=col>&lt;int&gt;</th><th scope=col>&lt;dbl&gt;</th><th scope=col>&lt;dbl&gt;</th><th scope=col>&lt;dbl&gt;</th><th scope=col>&lt;dbl&gt;</th><th scope=col>&lt;dbl&gt;</th><th scope=col>&lt;dbl&gt;</th><th scope=col>&lt;dbl&gt;</th><th scope=col>&lt;dbl&gt;</th><th scope=col>&lt;dbl&gt;</th></tr>\n",
       "</thead>\n",
       "<tbody>\n",
       "\t<tr><th scope=row>25</th><td>Albania               </td><td>2020</td><td>5.365</td><td> 9.497</td><td>0.710</td><td>69.3</td><td>0.754</td><td> 0.007</td><td>0.891</td><td>0.679</td><td>0.265</td></tr>\n",
       "\t<tr><th scope=row>52</th><td>Argentina             </td><td>2020</td><td>5.901</td><td> 9.850</td><td>0.897</td><td>69.2</td><td>0.823</td><td>-0.122</td><td>0.816</td><td>0.764</td><td>0.342</td></tr>\n",
       "\t<tr><th scope=row>80</th><td>Australia             </td><td>2020</td><td>7.137</td><td>10.760</td><td>0.937</td><td>74.2</td><td>0.905</td><td> 0.210</td><td>0.491</td><td>0.769</td><td>0.205</td></tr>\n",
       "\t<tr><th scope=row>93</th><td>Austria               </td><td>2020</td><td>7.213</td><td>10.851</td><td>0.925</td><td>73.6</td><td>0.912</td><td> 0.011</td><td>0.464</td><td>0.769</td><td>0.206</td></tr>\n",
       "\t<tr><th scope=row>118</th><td>Bahrain               </td><td>2020</td><td>6.173</td><td>10.620</td><td>0.848</td><td>69.7</td><td>0.945</td><td> 0.132</td><td>   NA</td><td>0.790</td><td>0.297</td></tr>\n",
       "\t<tr><th scope=row>133</th><td>Bangladesh            </td><td>2020</td><td>5.280</td><td> 8.472</td><td>0.739</td><td>65.3</td><td>0.777</td><td>-0.009</td><td>0.742</td><td>0.582</td><td>0.332</td></tr>\n",
       "\t<tr><th scope=row>161</th><td>Belgium               </td><td>2020</td><td>6.839</td><td>10.771</td><td>0.904</td><td>72.4</td><td>0.767</td><td>-0.164</td><td>0.634</td><td>0.647</td><td>0.260</td></tr>\n",
       "\t<tr><th scope=row>175</th><td>Benin                 </td><td>2020</td><td>4.408</td><td> 8.102</td><td>0.507</td><td>55.1</td><td>0.783</td><td>-0.083</td><td>0.532</td><td>0.609</td><td>0.305</td></tr>\n",
       "\t<tr><th scope=row>193</th><td>Bolivia               </td><td>2020</td><td>5.559</td><td> 8.998</td><td>0.805</td><td>64.2</td><td>0.877</td><td>-0.054</td><td>0.868</td><td>0.790</td><td>0.382</td></tr>\n",
       "\t<tr><th scope=row>206</th><td>Bosnia and Herzegovina</td><td>2020</td><td>5.516</td><td> 9.583</td><td>0.899</td><td>68.4</td><td>0.740</td><td> 0.138</td><td>0.916</td><td>0.644</td><td>0.325</td></tr>\n",
       "\t<tr><th scope=row>233</th><td>Brazil                </td><td>2020</td><td>6.110</td><td> 9.522</td><td>0.831</td><td>66.8</td><td>0.786</td><td>-0.053</td><td>0.729</td><td>0.692</td><td>0.389</td></tr>\n",
       "\t<tr><th scope=row>245</th><td>Bulgaria              </td><td>2020</td><td>5.598</td><td> 9.991</td><td>0.916</td><td>67.2</td><td>0.818</td><td>-0.004</td><td>0.901</td><td>0.706</td><td>0.221</td></tr>\n",
       "\t<tr><th scope=row>278</th><td>Cambodia              </td><td>2020</td><td>4.377</td><td> 8.362</td><td>0.724</td><td>62.4</td><td>0.963</td><td> 0.052</td><td>0.863</td><td>0.878</td><td>0.390</td></tr>\n",
       "\t<tr><th scope=row>293</th><td>Cameroon              </td><td>2020</td><td>5.241</td><td> 8.175</td><td>0.720</td><td>54.3</td><td>0.675</td><td> 0.049</td><td>0.837</td><td>0.630</td><td>0.386</td></tr>\n",
       "\t<tr><th scope=row>308</th><td>Canada                </td><td>2020</td><td>7.025</td><td>10.730</td><td>0.931</td><td>74.0</td><td>0.887</td><td> 0.050</td><td>0.434</td><td>0.796</td><td>0.307</td></tr>\n",
       "\t<tr><th scope=row>342</th><td>Chile                 </td><td>2020</td><td>6.151</td><td>10.020</td><td>0.888</td><td>70.1</td><td>0.781</td><td> 0.033</td><td>0.812</td><td>0.815</td><td>0.336</td></tr>\n",
       "\t<tr><th scope=row>357</th><td>China                 </td><td>2020</td><td>5.771</td><td> 9.702</td><td>0.808</td><td>69.9</td><td>0.891</td><td>-0.103</td><td>   NA</td><td>0.789</td><td>0.245</td></tr>\n",
       "\t<tr><th scope=row>372</th><td>Colombia              </td><td>2020</td><td>5.709</td><td> 9.495</td><td>0.797</td><td>68.3</td><td>0.840</td><td>-0.085</td><td>0.808</td><td>0.795</td><td>0.340</td></tr>\n",
       "\t<tr><th scope=row>423</th><td>Croatia               </td><td>2020</td><td>6.508</td><td>10.166</td><td>0.923</td><td>71.4</td><td>0.837</td><td>-0.063</td><td>0.961</td><td>0.743</td><td>0.286</td></tr>\n",
       "\t<tr><th scope=row>437</th><td>Cyprus                </td><td>2020</td><td>6.260</td><td>    NA</td><td>0.806</td><td>74.1</td><td>0.763</td><td>    NA</td><td>0.816</td><td>0.759</td><td>0.284</td></tr>\n",
       "\t<tr><th scope=row>449</th><td>Czech Republic        </td><td>2020</td><td>6.897</td><td>10.530</td><td>0.964</td><td>71.3</td><td>0.906</td><td>-0.127</td><td>0.884</td><td>0.832</td><td>0.290</td></tr>\n",
       "\t<tr><th scope=row>464</th><td>Denmark               </td><td>2020</td><td>7.515</td><td>10.910</td><td>0.947</td><td>73.0</td><td>0.938</td><td> 0.052</td><td>0.214</td><td>0.818</td><td>0.227</td></tr>\n",
       "\t<tr><th scope=row>483</th><td>Dominican Republic    </td><td>2020</td><td>5.168</td><td> 9.802</td><td>0.806</td><td>66.4</td><td>0.835</td><td>-0.128</td><td>0.636</td><td>0.734</td><td>0.314</td></tr>\n",
       "\t<tr><th scope=row>498</th><td>Ecuador               </td><td>2020</td><td>5.354</td><td> 9.244</td><td>0.804</td><td>69.1</td><td>0.829</td><td>-0.157</td><td>0.855</td><td>0.790</td><td>0.416</td></tr>\n",
       "\t<tr><th scope=row>513</th><td>Egypt                 </td><td>2020</td><td>4.472</td><td> 9.383</td><td>0.673</td><td>62.3</td><td>0.770</td><td>-0.112</td><td>   NA</td><td>0.599</td><td>0.442</td></tr>\n",
       "\t<tr><th scope=row>528</th><td>El Salvador           </td><td>2020</td><td>5.462</td><td> 9.019</td><td>0.696</td><td>66.7</td><td>0.924</td><td>-0.126</td><td>0.583</td><td>0.839</td><td>0.329</td></tr>\n",
       "\t<tr><th scope=row>542</th><td>Estonia               </td><td>2020</td><td>6.453</td><td>10.459</td><td>0.958</td><td>69.0</td><td>0.954</td><td>-0.082</td><td>0.398</td><td>0.807</td><td>0.188</td></tr>\n",
       "\t<tr><th scope=row>551</th><td>Ethiopia              </td><td>2020</td><td>4.549</td><td> 7.711</td><td>0.823</td><td>59.5</td><td>0.769</td><td> 0.188</td><td>0.784</td><td>0.669</td><td>0.252</td></tr>\n",
       "\t<tr><th scope=row>564</th><td>Finland               </td><td>2020</td><td>7.889</td><td>10.750</td><td>0.962</td><td>72.1</td><td>0.962</td><td>-0.116</td><td>0.164</td><td>0.744</td><td>0.193</td></tr>\n",
       "\t<tr><th scope=row>579</th><td>France                </td><td>2020</td><td>6.714</td><td>10.643</td><td>0.947</td><td>74.2</td><td>0.823</td><td>-0.169</td><td>0.565</td><td>0.732</td><td>0.231</td></tr>\n",
       "\t<tr><th scope=row>...</th><td>...</td><td>...</td><td>...</td><td>...</td><td>...</td><td>...</td><td>...</td><td>...</td><td>...</td><td>...</td><td>...</td></tr>\n",
       "\t<tr><th scope=row>1300</th><td>North Macedonia         </td><td>2020</td><td>5.054</td><td> 9.690</td><td>0.750</td><td>65.56</td><td>0.787</td><td> 0.131</td><td>0.877</td><td>0.605</td><td>0.365</td></tr>\n",
       "\t<tr><th scope=row>1310</th><td>Norway                  </td><td>2020</td><td>7.290</td><td>11.042</td><td>0.956</td><td>73.40</td><td>0.965</td><td> 0.075</td><td>0.271</td><td>0.823</td><td>0.216</td></tr>\n",
       "\t<tr><th scope=row>1395</th><td>Philippines             </td><td>2020</td><td>5.080</td><td> 9.061</td><td>0.781</td><td>62.10</td><td>0.932</td><td>-0.116</td><td>0.744</td><td>0.804</td><td>0.327</td></tr>\n",
       "\t<tr><th scope=row>1409</th><td>Poland                  </td><td>2020</td><td>6.139</td><td>10.371</td><td>0.953</td><td>70.10</td><td>0.767</td><td>-0.007</td><td>0.787</td><td>0.760</td><td>0.329</td></tr>\n",
       "\t<tr><th scope=row>1422</th><td>Portugal                </td><td>2020</td><td>5.768</td><td>10.371</td><td>0.875</td><td>72.80</td><td>0.913</td><td>-0.238</td><td>0.867</td><td>0.648</td><td>0.383</td></tr>\n",
       "\t<tr><th scope=row>1455</th><td>Russia                  </td><td>2020</td><td>5.495</td><td>10.162</td><td>0.887</td><td>65.10</td><td>0.714</td><td>-0.071</td><td>0.823</td><td>0.645</td><td>0.190</td></tr>\n",
       "\t<tr><th scope=row>1482</th><td>Saudi Arabia            </td><td>2020</td><td>6.560</td><td>10.701</td><td>0.890</td><td>66.90</td><td>0.884</td><td>-0.111</td><td>   NA</td><td>0.754</td><td>0.251</td></tr>\n",
       "\t<tr><th scope=row>1509</th><td>Serbia                  </td><td>2020</td><td>6.042</td><td> 9.788</td><td>0.852</td><td>69.00</td><td>0.843</td><td> 0.149</td><td>0.824</td><td>0.603</td><td>0.358</td></tr>\n",
       "\t<tr><th scope=row>1546</th><td>Slovakia                </td><td>2020</td><td>6.519</td><td>10.332</td><td>0.954</td><td>69.50</td><td>0.762</td><td>-0.075</td><td>0.901</td><td>0.764</td><td>0.274</td></tr>\n",
       "\t<tr><th scope=row>1559</th><td>Slovenia                </td><td>2020</td><td>6.462</td><td>10.478</td><td>0.953</td><td>71.70</td><td>0.958</td><td>-0.081</td><td>0.797</td><td>0.610</td><td>0.314</td></tr>\n",
       "\t<tr><th scope=row>1581</th><td>South Africa            </td><td>2020</td><td>4.947</td><td> 9.332</td><td>0.891</td><td>57.30</td><td>0.757</td><td>-0.015</td><td>0.912</td><td>0.820</td><td>0.294</td></tr>\n",
       "\t<tr><th scope=row>1596</th><td>South Korea             </td><td>2020</td><td>5.793</td><td>10.648</td><td>0.808</td><td>74.20</td><td>0.711</td><td>-0.106</td><td>0.665</td><td>0.640</td><td>0.247</td></tr>\n",
       "\t<tr><th scope=row>1615</th><td>Spain                   </td><td>2020</td><td>6.502</td><td>10.488</td><td>0.935</td><td>75.00</td><td>0.783</td><td>-0.121</td><td>0.730</td><td>0.686</td><td>0.317</td></tr>\n",
       "\t<tr><th scope=row>1652</th><td>Sweden                  </td><td>2020</td><td>7.314</td><td>10.838</td><td>0.936</td><td>72.80</td><td>0.951</td><td> 0.091</td><td>0.203</td><td>0.766</td><td>0.222</td></tr>\n",
       "\t<tr><th scope=row>1662</th><td>Switzerland             </td><td>2020</td><td>7.508</td><td>11.081</td><td>0.946</td><td>74.70</td><td>0.917</td><td>-0.064</td><td>0.280</td><td>0.769</td><td>0.193</td></tr>\n",
       "\t<tr><th scope=row>1682</th><td>Taiwan Province of China</td><td>2020</td><td>6.751</td><td>    NA</td><td>0.901</td><td>   NA</td><td>0.799</td><td>    NA</td><td>0.711</td><td>0.845</td><td>0.083</td></tr>\n",
       "\t<tr><th scope=row>1697</th><td>Tajikistan              </td><td>2020</td><td>5.373</td><td> 8.080</td><td>0.790</td><td>64.70</td><td>   NA</td><td>-0.040</td><td>0.550</td><td>0.749</td><td>0.344</td></tr>\n",
       "\t<tr><th scope=row>1712</th><td>Tanzania                </td><td>2020</td><td>3.786</td><td> 7.881</td><td>0.740</td><td>58.50</td><td>0.830</td><td> 0.295</td><td>0.521</td><td>0.686</td><td>0.271</td></tr>\n",
       "\t<tr><th scope=row>1727</th><td>Thailand                </td><td>2020</td><td>5.885</td><td> 9.769</td><td>0.867</td><td>67.60</td><td>0.840</td><td> 0.273</td><td>0.918</td><td>0.783</td><td>0.326</td></tr>\n",
       "\t<tr><th scope=row>1753</th><td>Tunisia                 </td><td>2020</td><td>4.731</td><td> 9.231</td><td>0.719</td><td>67.50</td><td>0.668</td><td>-0.202</td><td>0.877</td><td>0.585</td><td>0.439</td></tr>\n",
       "\t<tr><th scope=row>1768</th><td>Turkey                  </td><td>2020</td><td>4.862</td><td>10.219</td><td>0.857</td><td>67.60</td><td>0.510</td><td>-0.111</td><td>0.774</td><td>0.384</td><td>0.440</td></tr>\n",
       "\t<tr><th scope=row>1793</th><td>Uganda                  </td><td>2020</td><td>4.641</td><td> 7.684</td><td>0.800</td><td>56.50</td><td>0.687</td><td> 0.147</td><td>0.878</td><td>0.699</td><td>0.425</td></tr>\n",
       "\t<tr><th scope=row>1808</th><td>Ukraine                 </td><td>2020</td><td>5.270</td><td> 9.428</td><td>0.885</td><td>65.20</td><td>0.784</td><td> 0.126</td><td>0.946</td><td>0.688</td><td>0.285</td></tr>\n",
       "\t<tr><th scope=row>1821</th><td>United Arab Emirates    </td><td>2020</td><td>6.458</td><td>11.053</td><td>0.827</td><td>67.50</td><td>0.942</td><td> 0.060</td><td>   NA</td><td>0.752</td><td>0.298</td></tr>\n",
       "\t<tr><th scope=row>1836</th><td>United Kingdom          </td><td>2020</td><td>6.798</td><td>10.626</td><td>0.929</td><td>72.70</td><td>0.885</td><td> 0.203</td><td>0.490</td><td>0.758</td><td>0.225</td></tr>\n",
       "\t<tr><th scope=row>1851</th><td>United States           </td><td>2020</td><td>7.028</td><td>11.001</td><td>0.937</td><td>68.10</td><td>0.850</td><td> 0.034</td><td>0.678</td><td>0.787</td><td>0.295</td></tr>\n",
       "\t<tr><th scope=row>1866</th><td>Uruguay                 </td><td>2020</td><td>6.310</td><td> 9.937</td><td>0.921</td><td>69.20</td><td>0.908</td><td>-0.084</td><td>0.491</td><td>0.807</td><td>0.265</td></tr>\n",
       "\t<tr><th scope=row>1894</th><td>Venezuela               </td><td>2020</td><td>4.574</td><td>    NA</td><td>0.805</td><td>66.90</td><td>0.612</td><td>    NA</td><td>0.811</td><td>0.722</td><td>0.396</td></tr>\n",
       "\t<tr><th scope=row>1934</th><td>Zambia                  </td><td>2020</td><td>4.838</td><td> 8.117</td><td>0.767</td><td>56.30</td><td>0.750</td><td> 0.056</td><td>0.810</td><td>0.691</td><td>0.345</td></tr>\n",
       "\t<tr><th scope=row>1949</th><td>Zimbabwe                </td><td>2020</td><td>3.160</td><td> 7.829</td><td>0.717</td><td>56.80</td><td>0.643</td><td>-0.009</td><td>0.789</td><td>0.703</td><td>0.346</td></tr>\n",
       "</tbody>\n",
       "</table>\n"
      ],
      "text/latex": [
       "A data.frame: 95 × 11\n",
       "\\begin{tabular}{r|lllllllllll}\n",
       "  & Country & year & Score & GDP & Family & Health & Freedom & Generosity & Corruption & Positive.affect & Negative.affect\\\\\n",
       "  & <chr> & <int> & <dbl> & <dbl> & <dbl> & <dbl> & <dbl> & <dbl> & <dbl> & <dbl> & <dbl>\\\\\n",
       "\\hline\n",
       "\t25 & Albania                & 2020 & 5.365 &  9.497 & 0.710 & 69.3 & 0.754 &  0.007 & 0.891 & 0.679 & 0.265\\\\\n",
       "\t52 & Argentina              & 2020 & 5.901 &  9.850 & 0.897 & 69.2 & 0.823 & -0.122 & 0.816 & 0.764 & 0.342\\\\\n",
       "\t80 & Australia              & 2020 & 7.137 & 10.760 & 0.937 & 74.2 & 0.905 &  0.210 & 0.491 & 0.769 & 0.205\\\\\n",
       "\t93 & Austria                & 2020 & 7.213 & 10.851 & 0.925 & 73.6 & 0.912 &  0.011 & 0.464 & 0.769 & 0.206\\\\\n",
       "\t118 & Bahrain                & 2020 & 6.173 & 10.620 & 0.848 & 69.7 & 0.945 &  0.132 &    NA & 0.790 & 0.297\\\\\n",
       "\t133 & Bangladesh             & 2020 & 5.280 &  8.472 & 0.739 & 65.3 & 0.777 & -0.009 & 0.742 & 0.582 & 0.332\\\\\n",
       "\t161 & Belgium                & 2020 & 6.839 & 10.771 & 0.904 & 72.4 & 0.767 & -0.164 & 0.634 & 0.647 & 0.260\\\\\n",
       "\t175 & Benin                  & 2020 & 4.408 &  8.102 & 0.507 & 55.1 & 0.783 & -0.083 & 0.532 & 0.609 & 0.305\\\\\n",
       "\t193 & Bolivia                & 2020 & 5.559 &  8.998 & 0.805 & 64.2 & 0.877 & -0.054 & 0.868 & 0.790 & 0.382\\\\\n",
       "\t206 & Bosnia and Herzegovina & 2020 & 5.516 &  9.583 & 0.899 & 68.4 & 0.740 &  0.138 & 0.916 & 0.644 & 0.325\\\\\n",
       "\t233 & Brazil                 & 2020 & 6.110 &  9.522 & 0.831 & 66.8 & 0.786 & -0.053 & 0.729 & 0.692 & 0.389\\\\\n",
       "\t245 & Bulgaria               & 2020 & 5.598 &  9.991 & 0.916 & 67.2 & 0.818 & -0.004 & 0.901 & 0.706 & 0.221\\\\\n",
       "\t278 & Cambodia               & 2020 & 4.377 &  8.362 & 0.724 & 62.4 & 0.963 &  0.052 & 0.863 & 0.878 & 0.390\\\\\n",
       "\t293 & Cameroon               & 2020 & 5.241 &  8.175 & 0.720 & 54.3 & 0.675 &  0.049 & 0.837 & 0.630 & 0.386\\\\\n",
       "\t308 & Canada                 & 2020 & 7.025 & 10.730 & 0.931 & 74.0 & 0.887 &  0.050 & 0.434 & 0.796 & 0.307\\\\\n",
       "\t342 & Chile                  & 2020 & 6.151 & 10.020 & 0.888 & 70.1 & 0.781 &  0.033 & 0.812 & 0.815 & 0.336\\\\\n",
       "\t357 & China                  & 2020 & 5.771 &  9.702 & 0.808 & 69.9 & 0.891 & -0.103 &    NA & 0.789 & 0.245\\\\\n",
       "\t372 & Colombia               & 2020 & 5.709 &  9.495 & 0.797 & 68.3 & 0.840 & -0.085 & 0.808 & 0.795 & 0.340\\\\\n",
       "\t423 & Croatia                & 2020 & 6.508 & 10.166 & 0.923 & 71.4 & 0.837 & -0.063 & 0.961 & 0.743 & 0.286\\\\\n",
       "\t437 & Cyprus                 & 2020 & 6.260 &     NA & 0.806 & 74.1 & 0.763 &     NA & 0.816 & 0.759 & 0.284\\\\\n",
       "\t449 & Czech Republic         & 2020 & 6.897 & 10.530 & 0.964 & 71.3 & 0.906 & -0.127 & 0.884 & 0.832 & 0.290\\\\\n",
       "\t464 & Denmark                & 2020 & 7.515 & 10.910 & 0.947 & 73.0 & 0.938 &  0.052 & 0.214 & 0.818 & 0.227\\\\\n",
       "\t483 & Dominican Republic     & 2020 & 5.168 &  9.802 & 0.806 & 66.4 & 0.835 & -0.128 & 0.636 & 0.734 & 0.314\\\\\n",
       "\t498 & Ecuador                & 2020 & 5.354 &  9.244 & 0.804 & 69.1 & 0.829 & -0.157 & 0.855 & 0.790 & 0.416\\\\\n",
       "\t513 & Egypt                  & 2020 & 4.472 &  9.383 & 0.673 & 62.3 & 0.770 & -0.112 &    NA & 0.599 & 0.442\\\\\n",
       "\t528 & El Salvador            & 2020 & 5.462 &  9.019 & 0.696 & 66.7 & 0.924 & -0.126 & 0.583 & 0.839 & 0.329\\\\\n",
       "\t542 & Estonia                & 2020 & 6.453 & 10.459 & 0.958 & 69.0 & 0.954 & -0.082 & 0.398 & 0.807 & 0.188\\\\\n",
       "\t551 & Ethiopia               & 2020 & 4.549 &  7.711 & 0.823 & 59.5 & 0.769 &  0.188 & 0.784 & 0.669 & 0.252\\\\\n",
       "\t564 & Finland                & 2020 & 7.889 & 10.750 & 0.962 & 72.1 & 0.962 & -0.116 & 0.164 & 0.744 & 0.193\\\\\n",
       "\t579 & France                 & 2020 & 6.714 & 10.643 & 0.947 & 74.2 & 0.823 & -0.169 & 0.565 & 0.732 & 0.231\\\\\n",
       "\t... & ... & ... & ... & ... & ... & ... & ... & ... & ... & ... & ...\\\\\n",
       "\t1300 & North Macedonia          & 2020 & 5.054 &  9.690 & 0.750 & 65.56 & 0.787 &  0.131 & 0.877 & 0.605 & 0.365\\\\\n",
       "\t1310 & Norway                   & 2020 & 7.290 & 11.042 & 0.956 & 73.40 & 0.965 &  0.075 & 0.271 & 0.823 & 0.216\\\\\n",
       "\t1395 & Philippines              & 2020 & 5.080 &  9.061 & 0.781 & 62.10 & 0.932 & -0.116 & 0.744 & 0.804 & 0.327\\\\\n",
       "\t1409 & Poland                   & 2020 & 6.139 & 10.371 & 0.953 & 70.10 & 0.767 & -0.007 & 0.787 & 0.760 & 0.329\\\\\n",
       "\t1422 & Portugal                 & 2020 & 5.768 & 10.371 & 0.875 & 72.80 & 0.913 & -0.238 & 0.867 & 0.648 & 0.383\\\\\n",
       "\t1455 & Russia                   & 2020 & 5.495 & 10.162 & 0.887 & 65.10 & 0.714 & -0.071 & 0.823 & 0.645 & 0.190\\\\\n",
       "\t1482 & Saudi Arabia             & 2020 & 6.560 & 10.701 & 0.890 & 66.90 & 0.884 & -0.111 &    NA & 0.754 & 0.251\\\\\n",
       "\t1509 & Serbia                   & 2020 & 6.042 &  9.788 & 0.852 & 69.00 & 0.843 &  0.149 & 0.824 & 0.603 & 0.358\\\\\n",
       "\t1546 & Slovakia                 & 2020 & 6.519 & 10.332 & 0.954 & 69.50 & 0.762 & -0.075 & 0.901 & 0.764 & 0.274\\\\\n",
       "\t1559 & Slovenia                 & 2020 & 6.462 & 10.478 & 0.953 & 71.70 & 0.958 & -0.081 & 0.797 & 0.610 & 0.314\\\\\n",
       "\t1581 & South Africa             & 2020 & 4.947 &  9.332 & 0.891 & 57.30 & 0.757 & -0.015 & 0.912 & 0.820 & 0.294\\\\\n",
       "\t1596 & South Korea              & 2020 & 5.793 & 10.648 & 0.808 & 74.20 & 0.711 & -0.106 & 0.665 & 0.640 & 0.247\\\\\n",
       "\t1615 & Spain                    & 2020 & 6.502 & 10.488 & 0.935 & 75.00 & 0.783 & -0.121 & 0.730 & 0.686 & 0.317\\\\\n",
       "\t1652 & Sweden                   & 2020 & 7.314 & 10.838 & 0.936 & 72.80 & 0.951 &  0.091 & 0.203 & 0.766 & 0.222\\\\\n",
       "\t1662 & Switzerland              & 2020 & 7.508 & 11.081 & 0.946 & 74.70 & 0.917 & -0.064 & 0.280 & 0.769 & 0.193\\\\\n",
       "\t1682 & Taiwan Province of China & 2020 & 6.751 &     NA & 0.901 &    NA & 0.799 &     NA & 0.711 & 0.845 & 0.083\\\\\n",
       "\t1697 & Tajikistan               & 2020 & 5.373 &  8.080 & 0.790 & 64.70 &    NA & -0.040 & 0.550 & 0.749 & 0.344\\\\\n",
       "\t1712 & Tanzania                 & 2020 & 3.786 &  7.881 & 0.740 & 58.50 & 0.830 &  0.295 & 0.521 & 0.686 & 0.271\\\\\n",
       "\t1727 & Thailand                 & 2020 & 5.885 &  9.769 & 0.867 & 67.60 & 0.840 &  0.273 & 0.918 & 0.783 & 0.326\\\\\n",
       "\t1753 & Tunisia                  & 2020 & 4.731 &  9.231 & 0.719 & 67.50 & 0.668 & -0.202 & 0.877 & 0.585 & 0.439\\\\\n",
       "\t1768 & Turkey                   & 2020 & 4.862 & 10.219 & 0.857 & 67.60 & 0.510 & -0.111 & 0.774 & 0.384 & 0.440\\\\\n",
       "\t1793 & Uganda                   & 2020 & 4.641 &  7.684 & 0.800 & 56.50 & 0.687 &  0.147 & 0.878 & 0.699 & 0.425\\\\\n",
       "\t1808 & Ukraine                  & 2020 & 5.270 &  9.428 & 0.885 & 65.20 & 0.784 &  0.126 & 0.946 & 0.688 & 0.285\\\\\n",
       "\t1821 & United Arab Emirates     & 2020 & 6.458 & 11.053 & 0.827 & 67.50 & 0.942 &  0.060 &    NA & 0.752 & 0.298\\\\\n",
       "\t1836 & United Kingdom           & 2020 & 6.798 & 10.626 & 0.929 & 72.70 & 0.885 &  0.203 & 0.490 & 0.758 & 0.225\\\\\n",
       "\t1851 & United States            & 2020 & 7.028 & 11.001 & 0.937 & 68.10 & 0.850 &  0.034 & 0.678 & 0.787 & 0.295\\\\\n",
       "\t1866 & Uruguay                  & 2020 & 6.310 &  9.937 & 0.921 & 69.20 & 0.908 & -0.084 & 0.491 & 0.807 & 0.265\\\\\n",
       "\t1894 & Venezuela                & 2020 & 4.574 &     NA & 0.805 & 66.90 & 0.612 &     NA & 0.811 & 0.722 & 0.396\\\\\n",
       "\t1934 & Zambia                   & 2020 & 4.838 &  8.117 & 0.767 & 56.30 & 0.750 &  0.056 & 0.810 & 0.691 & 0.345\\\\\n",
       "\t1949 & Zimbabwe                 & 2020 & 3.160 &  7.829 & 0.717 & 56.80 & 0.643 & -0.009 & 0.789 & 0.703 & 0.346\\\\\n",
       "\\end{tabular}\n"
      ],
      "text/markdown": [
       "\n",
       "A data.frame: 95 × 11\n",
       "\n",
       "| <!--/--> | Country &lt;chr&gt; | year &lt;int&gt; | Score &lt;dbl&gt; | GDP &lt;dbl&gt; | Family &lt;dbl&gt; | Health &lt;dbl&gt; | Freedom &lt;dbl&gt; | Generosity &lt;dbl&gt; | Corruption &lt;dbl&gt; | Positive.affect &lt;dbl&gt; | Negative.affect &lt;dbl&gt; |\n",
       "|---|---|---|---|---|---|---|---|---|---|---|---|\n",
       "| 25 | Albania                | 2020 | 5.365 |  9.497 | 0.710 | 69.3 | 0.754 |  0.007 | 0.891 | 0.679 | 0.265 |\n",
       "| 52 | Argentina              | 2020 | 5.901 |  9.850 | 0.897 | 69.2 | 0.823 | -0.122 | 0.816 | 0.764 | 0.342 |\n",
       "| 80 | Australia              | 2020 | 7.137 | 10.760 | 0.937 | 74.2 | 0.905 |  0.210 | 0.491 | 0.769 | 0.205 |\n",
       "| 93 | Austria                | 2020 | 7.213 | 10.851 | 0.925 | 73.6 | 0.912 |  0.011 | 0.464 | 0.769 | 0.206 |\n",
       "| 118 | Bahrain                | 2020 | 6.173 | 10.620 | 0.848 | 69.7 | 0.945 |  0.132 |    NA | 0.790 | 0.297 |\n",
       "| 133 | Bangladesh             | 2020 | 5.280 |  8.472 | 0.739 | 65.3 | 0.777 | -0.009 | 0.742 | 0.582 | 0.332 |\n",
       "| 161 | Belgium                | 2020 | 6.839 | 10.771 | 0.904 | 72.4 | 0.767 | -0.164 | 0.634 | 0.647 | 0.260 |\n",
       "| 175 | Benin                  | 2020 | 4.408 |  8.102 | 0.507 | 55.1 | 0.783 | -0.083 | 0.532 | 0.609 | 0.305 |\n",
       "| 193 | Bolivia                | 2020 | 5.559 |  8.998 | 0.805 | 64.2 | 0.877 | -0.054 | 0.868 | 0.790 | 0.382 |\n",
       "| 206 | Bosnia and Herzegovina | 2020 | 5.516 |  9.583 | 0.899 | 68.4 | 0.740 |  0.138 | 0.916 | 0.644 | 0.325 |\n",
       "| 233 | Brazil                 | 2020 | 6.110 |  9.522 | 0.831 | 66.8 | 0.786 | -0.053 | 0.729 | 0.692 | 0.389 |\n",
       "| 245 | Bulgaria               | 2020 | 5.598 |  9.991 | 0.916 | 67.2 | 0.818 | -0.004 | 0.901 | 0.706 | 0.221 |\n",
       "| 278 | Cambodia               | 2020 | 4.377 |  8.362 | 0.724 | 62.4 | 0.963 |  0.052 | 0.863 | 0.878 | 0.390 |\n",
       "| 293 | Cameroon               | 2020 | 5.241 |  8.175 | 0.720 | 54.3 | 0.675 |  0.049 | 0.837 | 0.630 | 0.386 |\n",
       "| 308 | Canada                 | 2020 | 7.025 | 10.730 | 0.931 | 74.0 | 0.887 |  0.050 | 0.434 | 0.796 | 0.307 |\n",
       "| 342 | Chile                  | 2020 | 6.151 | 10.020 | 0.888 | 70.1 | 0.781 |  0.033 | 0.812 | 0.815 | 0.336 |\n",
       "| 357 | China                  | 2020 | 5.771 |  9.702 | 0.808 | 69.9 | 0.891 | -0.103 |    NA | 0.789 | 0.245 |\n",
       "| 372 | Colombia               | 2020 | 5.709 |  9.495 | 0.797 | 68.3 | 0.840 | -0.085 | 0.808 | 0.795 | 0.340 |\n",
       "| 423 | Croatia                | 2020 | 6.508 | 10.166 | 0.923 | 71.4 | 0.837 | -0.063 | 0.961 | 0.743 | 0.286 |\n",
       "| 437 | Cyprus                 | 2020 | 6.260 |     NA | 0.806 | 74.1 | 0.763 |     NA | 0.816 | 0.759 | 0.284 |\n",
       "| 449 | Czech Republic         | 2020 | 6.897 | 10.530 | 0.964 | 71.3 | 0.906 | -0.127 | 0.884 | 0.832 | 0.290 |\n",
       "| 464 | Denmark                | 2020 | 7.515 | 10.910 | 0.947 | 73.0 | 0.938 |  0.052 | 0.214 | 0.818 | 0.227 |\n",
       "| 483 | Dominican Republic     | 2020 | 5.168 |  9.802 | 0.806 | 66.4 | 0.835 | -0.128 | 0.636 | 0.734 | 0.314 |\n",
       "| 498 | Ecuador                | 2020 | 5.354 |  9.244 | 0.804 | 69.1 | 0.829 | -0.157 | 0.855 | 0.790 | 0.416 |\n",
       "| 513 | Egypt                  | 2020 | 4.472 |  9.383 | 0.673 | 62.3 | 0.770 | -0.112 |    NA | 0.599 | 0.442 |\n",
       "| 528 | El Salvador            | 2020 | 5.462 |  9.019 | 0.696 | 66.7 | 0.924 | -0.126 | 0.583 | 0.839 | 0.329 |\n",
       "| 542 | Estonia                | 2020 | 6.453 | 10.459 | 0.958 | 69.0 | 0.954 | -0.082 | 0.398 | 0.807 | 0.188 |\n",
       "| 551 | Ethiopia               | 2020 | 4.549 |  7.711 | 0.823 | 59.5 | 0.769 |  0.188 | 0.784 | 0.669 | 0.252 |\n",
       "| 564 | Finland                | 2020 | 7.889 | 10.750 | 0.962 | 72.1 | 0.962 | -0.116 | 0.164 | 0.744 | 0.193 |\n",
       "| 579 | France                 | 2020 | 6.714 | 10.643 | 0.947 | 74.2 | 0.823 | -0.169 | 0.565 | 0.732 | 0.231 |\n",
       "| ... | ... | ... | ... | ... | ... | ... | ... | ... | ... | ... | ... |\n",
       "| 1300 | North Macedonia          | 2020 | 5.054 |  9.690 | 0.750 | 65.56 | 0.787 |  0.131 | 0.877 | 0.605 | 0.365 |\n",
       "| 1310 | Norway                   | 2020 | 7.290 | 11.042 | 0.956 | 73.40 | 0.965 |  0.075 | 0.271 | 0.823 | 0.216 |\n",
       "| 1395 | Philippines              | 2020 | 5.080 |  9.061 | 0.781 | 62.10 | 0.932 | -0.116 | 0.744 | 0.804 | 0.327 |\n",
       "| 1409 | Poland                   | 2020 | 6.139 | 10.371 | 0.953 | 70.10 | 0.767 | -0.007 | 0.787 | 0.760 | 0.329 |\n",
       "| 1422 | Portugal                 | 2020 | 5.768 | 10.371 | 0.875 | 72.80 | 0.913 | -0.238 | 0.867 | 0.648 | 0.383 |\n",
       "| 1455 | Russia                   | 2020 | 5.495 | 10.162 | 0.887 | 65.10 | 0.714 | -0.071 | 0.823 | 0.645 | 0.190 |\n",
       "| 1482 | Saudi Arabia             | 2020 | 6.560 | 10.701 | 0.890 | 66.90 | 0.884 | -0.111 |    NA | 0.754 | 0.251 |\n",
       "| 1509 | Serbia                   | 2020 | 6.042 |  9.788 | 0.852 | 69.00 | 0.843 |  0.149 | 0.824 | 0.603 | 0.358 |\n",
       "| 1546 | Slovakia                 | 2020 | 6.519 | 10.332 | 0.954 | 69.50 | 0.762 | -0.075 | 0.901 | 0.764 | 0.274 |\n",
       "| 1559 | Slovenia                 | 2020 | 6.462 | 10.478 | 0.953 | 71.70 | 0.958 | -0.081 | 0.797 | 0.610 | 0.314 |\n",
       "| 1581 | South Africa             | 2020 | 4.947 |  9.332 | 0.891 | 57.30 | 0.757 | -0.015 | 0.912 | 0.820 | 0.294 |\n",
       "| 1596 | South Korea              | 2020 | 5.793 | 10.648 | 0.808 | 74.20 | 0.711 | -0.106 | 0.665 | 0.640 | 0.247 |\n",
       "| 1615 | Spain                    | 2020 | 6.502 | 10.488 | 0.935 | 75.00 | 0.783 | -0.121 | 0.730 | 0.686 | 0.317 |\n",
       "| 1652 | Sweden                   | 2020 | 7.314 | 10.838 | 0.936 | 72.80 | 0.951 |  0.091 | 0.203 | 0.766 | 0.222 |\n",
       "| 1662 | Switzerland              | 2020 | 7.508 | 11.081 | 0.946 | 74.70 | 0.917 | -0.064 | 0.280 | 0.769 | 0.193 |\n",
       "| 1682 | Taiwan Province of China | 2020 | 6.751 |     NA | 0.901 |    NA | 0.799 |     NA | 0.711 | 0.845 | 0.083 |\n",
       "| 1697 | Tajikistan               | 2020 | 5.373 |  8.080 | 0.790 | 64.70 |    NA | -0.040 | 0.550 | 0.749 | 0.344 |\n",
       "| 1712 | Tanzania                 | 2020 | 3.786 |  7.881 | 0.740 | 58.50 | 0.830 |  0.295 | 0.521 | 0.686 | 0.271 |\n",
       "| 1727 | Thailand                 | 2020 | 5.885 |  9.769 | 0.867 | 67.60 | 0.840 |  0.273 | 0.918 | 0.783 | 0.326 |\n",
       "| 1753 | Tunisia                  | 2020 | 4.731 |  9.231 | 0.719 | 67.50 | 0.668 | -0.202 | 0.877 | 0.585 | 0.439 |\n",
       "| 1768 | Turkey                   | 2020 | 4.862 | 10.219 | 0.857 | 67.60 | 0.510 | -0.111 | 0.774 | 0.384 | 0.440 |\n",
       "| 1793 | Uganda                   | 2020 | 4.641 |  7.684 | 0.800 | 56.50 | 0.687 |  0.147 | 0.878 | 0.699 | 0.425 |\n",
       "| 1808 | Ukraine                  | 2020 | 5.270 |  9.428 | 0.885 | 65.20 | 0.784 |  0.126 | 0.946 | 0.688 | 0.285 |\n",
       "| 1821 | United Arab Emirates     | 2020 | 6.458 | 11.053 | 0.827 | 67.50 | 0.942 |  0.060 |    NA | 0.752 | 0.298 |\n",
       "| 1836 | United Kingdom           | 2020 | 6.798 | 10.626 | 0.929 | 72.70 | 0.885 |  0.203 | 0.490 | 0.758 | 0.225 |\n",
       "| 1851 | United States            | 2020 | 7.028 | 11.001 | 0.937 | 68.10 | 0.850 |  0.034 | 0.678 | 0.787 | 0.295 |\n",
       "| 1866 | Uruguay                  | 2020 | 6.310 |  9.937 | 0.921 | 69.20 | 0.908 | -0.084 | 0.491 | 0.807 | 0.265 |\n",
       "| 1894 | Venezuela                | 2020 | 4.574 |     NA | 0.805 | 66.90 | 0.612 |     NA | 0.811 | 0.722 | 0.396 |\n",
       "| 1934 | Zambia                   | 2020 | 4.838 |  8.117 | 0.767 | 56.30 | 0.750 |  0.056 | 0.810 | 0.691 | 0.345 |\n",
       "| 1949 | Zimbabwe                 | 2020 | 3.160 |  7.829 | 0.717 | 56.80 | 0.643 | -0.009 | 0.789 | 0.703 | 0.346 |\n",
       "\n"
      ],
      "text/plain": [
       "     Country                  year Score GDP    Family Health Freedom\n",
       "25   Albania                  2020 5.365  9.497 0.710  69.3   0.754  \n",
       "52   Argentina                2020 5.901  9.850 0.897  69.2   0.823  \n",
       "80   Australia                2020 7.137 10.760 0.937  74.2   0.905  \n",
       "93   Austria                  2020 7.213 10.851 0.925  73.6   0.912  \n",
       "118  Bahrain                  2020 6.173 10.620 0.848  69.7   0.945  \n",
       "133  Bangladesh               2020 5.280  8.472 0.739  65.3   0.777  \n",
       "161  Belgium                  2020 6.839 10.771 0.904  72.4   0.767  \n",
       "175  Benin                    2020 4.408  8.102 0.507  55.1   0.783  \n",
       "193  Bolivia                  2020 5.559  8.998 0.805  64.2   0.877  \n",
       "206  Bosnia and Herzegovina   2020 5.516  9.583 0.899  68.4   0.740  \n",
       "233  Brazil                   2020 6.110  9.522 0.831  66.8   0.786  \n",
       "245  Bulgaria                 2020 5.598  9.991 0.916  67.2   0.818  \n",
       "278  Cambodia                 2020 4.377  8.362 0.724  62.4   0.963  \n",
       "293  Cameroon                 2020 5.241  8.175 0.720  54.3   0.675  \n",
       "308  Canada                   2020 7.025 10.730 0.931  74.0   0.887  \n",
       "342  Chile                    2020 6.151 10.020 0.888  70.1   0.781  \n",
       "357  China                    2020 5.771  9.702 0.808  69.9   0.891  \n",
       "372  Colombia                 2020 5.709  9.495 0.797  68.3   0.840  \n",
       "423  Croatia                  2020 6.508 10.166 0.923  71.4   0.837  \n",
       "437  Cyprus                   2020 6.260     NA 0.806  74.1   0.763  \n",
       "449  Czech Republic           2020 6.897 10.530 0.964  71.3   0.906  \n",
       "464  Denmark                  2020 7.515 10.910 0.947  73.0   0.938  \n",
       "483  Dominican Republic       2020 5.168  9.802 0.806  66.4   0.835  \n",
       "498  Ecuador                  2020 5.354  9.244 0.804  69.1   0.829  \n",
       "513  Egypt                    2020 4.472  9.383 0.673  62.3   0.770  \n",
       "528  El Salvador              2020 5.462  9.019 0.696  66.7   0.924  \n",
       "542  Estonia                  2020 6.453 10.459 0.958  69.0   0.954  \n",
       "551  Ethiopia                 2020 4.549  7.711 0.823  59.5   0.769  \n",
       "564  Finland                  2020 7.889 10.750 0.962  72.1   0.962  \n",
       "579  France                   2020 6.714 10.643 0.947  74.2   0.823  \n",
       "...  ...                      ...  ...   ...    ...    ...    ...    \n",
       "1300 North Macedonia          2020 5.054  9.690 0.750  65.56  0.787  \n",
       "1310 Norway                   2020 7.290 11.042 0.956  73.40  0.965  \n",
       "1395 Philippines              2020 5.080  9.061 0.781  62.10  0.932  \n",
       "1409 Poland                   2020 6.139 10.371 0.953  70.10  0.767  \n",
       "1422 Portugal                 2020 5.768 10.371 0.875  72.80  0.913  \n",
       "1455 Russia                   2020 5.495 10.162 0.887  65.10  0.714  \n",
       "1482 Saudi Arabia             2020 6.560 10.701 0.890  66.90  0.884  \n",
       "1509 Serbia                   2020 6.042  9.788 0.852  69.00  0.843  \n",
       "1546 Slovakia                 2020 6.519 10.332 0.954  69.50  0.762  \n",
       "1559 Slovenia                 2020 6.462 10.478 0.953  71.70  0.958  \n",
       "1581 South Africa             2020 4.947  9.332 0.891  57.30  0.757  \n",
       "1596 South Korea              2020 5.793 10.648 0.808  74.20  0.711  \n",
       "1615 Spain                    2020 6.502 10.488 0.935  75.00  0.783  \n",
       "1652 Sweden                   2020 7.314 10.838 0.936  72.80  0.951  \n",
       "1662 Switzerland              2020 7.508 11.081 0.946  74.70  0.917  \n",
       "1682 Taiwan Province of China 2020 6.751     NA 0.901     NA  0.799  \n",
       "1697 Tajikistan               2020 5.373  8.080 0.790  64.70     NA  \n",
       "1712 Tanzania                 2020 3.786  7.881 0.740  58.50  0.830  \n",
       "1727 Thailand                 2020 5.885  9.769 0.867  67.60  0.840  \n",
       "1753 Tunisia                  2020 4.731  9.231 0.719  67.50  0.668  \n",
       "1768 Turkey                   2020 4.862 10.219 0.857  67.60  0.510  \n",
       "1793 Uganda                   2020 4.641  7.684 0.800  56.50  0.687  \n",
       "1808 Ukraine                  2020 5.270  9.428 0.885  65.20  0.784  \n",
       "1821 United Arab Emirates     2020 6.458 11.053 0.827  67.50  0.942  \n",
       "1836 United Kingdom           2020 6.798 10.626 0.929  72.70  0.885  \n",
       "1851 United States            2020 7.028 11.001 0.937  68.10  0.850  \n",
       "1866 Uruguay                  2020 6.310  9.937 0.921  69.20  0.908  \n",
       "1894 Venezuela                2020 4.574     NA 0.805  66.90  0.612  \n",
       "1934 Zambia                   2020 4.838  8.117 0.767  56.30  0.750  \n",
       "1949 Zimbabwe                 2020 3.160  7.829 0.717  56.80  0.643  \n",
       "     Generosity Corruption Positive.affect Negative.affect\n",
       "25    0.007     0.891      0.679           0.265          \n",
       "52   -0.122     0.816      0.764           0.342          \n",
       "80    0.210     0.491      0.769           0.205          \n",
       "93    0.011     0.464      0.769           0.206          \n",
       "118   0.132        NA      0.790           0.297          \n",
       "133  -0.009     0.742      0.582           0.332          \n",
       "161  -0.164     0.634      0.647           0.260          \n",
       "175  -0.083     0.532      0.609           0.305          \n",
       "193  -0.054     0.868      0.790           0.382          \n",
       "206   0.138     0.916      0.644           0.325          \n",
       "233  -0.053     0.729      0.692           0.389          \n",
       "245  -0.004     0.901      0.706           0.221          \n",
       "278   0.052     0.863      0.878           0.390          \n",
       "293   0.049     0.837      0.630           0.386          \n",
       "308   0.050     0.434      0.796           0.307          \n",
       "342   0.033     0.812      0.815           0.336          \n",
       "357  -0.103        NA      0.789           0.245          \n",
       "372  -0.085     0.808      0.795           0.340          \n",
       "423  -0.063     0.961      0.743           0.286          \n",
       "437      NA     0.816      0.759           0.284          \n",
       "449  -0.127     0.884      0.832           0.290          \n",
       "464   0.052     0.214      0.818           0.227          \n",
       "483  -0.128     0.636      0.734           0.314          \n",
       "498  -0.157     0.855      0.790           0.416          \n",
       "513  -0.112        NA      0.599           0.442          \n",
       "528  -0.126     0.583      0.839           0.329          \n",
       "542  -0.082     0.398      0.807           0.188          \n",
       "551   0.188     0.784      0.669           0.252          \n",
       "564  -0.116     0.164      0.744           0.193          \n",
       "579  -0.169     0.565      0.732           0.231          \n",
       "...  ...        ...        ...             ...            \n",
       "1300  0.131     0.877      0.605           0.365          \n",
       "1310  0.075     0.271      0.823           0.216          \n",
       "1395 -0.116     0.744      0.804           0.327          \n",
       "1409 -0.007     0.787      0.760           0.329          \n",
       "1422 -0.238     0.867      0.648           0.383          \n",
       "1455 -0.071     0.823      0.645           0.190          \n",
       "1482 -0.111        NA      0.754           0.251          \n",
       "1509  0.149     0.824      0.603           0.358          \n",
       "1546 -0.075     0.901      0.764           0.274          \n",
       "1559 -0.081     0.797      0.610           0.314          \n",
       "1581 -0.015     0.912      0.820           0.294          \n",
       "1596 -0.106     0.665      0.640           0.247          \n",
       "1615 -0.121     0.730      0.686           0.317          \n",
       "1652  0.091     0.203      0.766           0.222          \n",
       "1662 -0.064     0.280      0.769           0.193          \n",
       "1682     NA     0.711      0.845           0.083          \n",
       "1697 -0.040     0.550      0.749           0.344          \n",
       "1712  0.295     0.521      0.686           0.271          \n",
       "1727  0.273     0.918      0.783           0.326          \n",
       "1753 -0.202     0.877      0.585           0.439          \n",
       "1768 -0.111     0.774      0.384           0.440          \n",
       "1793  0.147     0.878      0.699           0.425          \n",
       "1808  0.126     0.946      0.688           0.285          \n",
       "1821  0.060        NA      0.752           0.298          \n",
       "1836  0.203     0.490      0.758           0.225          \n",
       "1851  0.034     0.678      0.787           0.295          \n",
       "1866 -0.084     0.491      0.807           0.265          \n",
       "1894     NA     0.811      0.722           0.396          \n",
       "1934  0.056     0.810      0.691           0.345          \n",
       "1949 -0.009     0.789      0.703           0.346          "
      ]
     },
     "metadata": {},
     "output_type": "display_data"
    }
   ],
   "source": [
    "happ_2021=happ_all[happ_all$year == 2020, ]  \n",
    "happ_2021"
   ]
  },
  {
   "cell_type": "code",
   "execution_count": null,
   "metadata": {},
   "outputs": [],
   "source": [
    "dim(happ_2021)"
   ]
  },
  {
   "cell_type": "code",
   "execution_count": 11,
   "metadata": {},
   "outputs": [
    {
     "data": {
      "text/html": [
       "<table class=\"dataframe\">\n",
       "<caption>A data.frame: 95 × 11</caption>\n",
       "<thead>\n",
       "\t<tr><th></th><th scope=col>Country</th><th scope=col>year</th><th scope=col>Score</th><th scope=col>GDP</th><th scope=col>Family</th><th scope=col>Health</th><th scope=col>Freedom</th><th scope=col>Generosity</th><th scope=col>Corruption</th><th scope=col>Positive.affect</th><th scope=col>Negative.affect</th></tr>\n",
       "\t<tr><th></th><th scope=col>&lt;chr&gt;</th><th scope=col>&lt;int&gt;</th><th scope=col>&lt;dbl&gt;</th><th scope=col>&lt;dbl&gt;</th><th scope=col>&lt;dbl&gt;</th><th scope=col>&lt;dbl&gt;</th><th scope=col>&lt;dbl&gt;</th><th scope=col>&lt;dbl&gt;</th><th scope=col>&lt;dbl&gt;</th><th scope=col>&lt;dbl&gt;</th><th scope=col>&lt;dbl&gt;</th></tr>\n",
       "</thead>\n",
       "<tbody>\n",
       "\t<tr><th scope=row>1949</th><td>Zimbabwe                 </td><td>2020</td><td>3.160</td><td> 7.829</td><td>0.717</td><td>56.80</td><td>0.643</td><td>-0.009</td><td>0.789</td><td>0.703</td><td>0.346</td></tr>\n",
       "\t<tr><th scope=row>1712</th><td>Tanzania                 </td><td>2020</td><td>3.786</td><td> 7.881</td><td>0.740</td><td>58.50</td><td>0.830</td><td> 0.295</td><td>0.521</td><td>0.686</td><td>0.271</td></tr>\n",
       "\t<tr><th scope=row>875</th><td>Jordan                   </td><td>2020</td><td>4.094</td><td> 9.150</td><td>0.709</td><td>67.20</td><td>0.779</td><td>-0.150</td><td>   NA</td><td>   NA</td><td>   NA</td></tr>\n",
       "\t<tr><th scope=row>747</th><td>India                    </td><td>2020</td><td>4.225</td><td> 8.703</td><td>0.617</td><td>60.90</td><td>0.906</td><td> 0.075</td><td>0.780</td><td>0.752</td><td>0.383</td></tr>\n",
       "\t<tr><th scope=row>278</th><td>Cambodia                 </td><td>2020</td><td>4.377</td><td> 8.362</td><td>0.724</td><td>62.40</td><td>0.963</td><td> 0.052</td><td>0.863</td><td>0.878</td><td>0.390</td></tr>\n",
       "\t<tr><th scope=row>175</th><td>Benin                    </td><td>2020</td><td>4.408</td><td> 8.102</td><td>0.507</td><td>55.10</td><td>0.783</td><td>-0.083</td><td>0.532</td><td>0.609</td><td>0.305</td></tr>\n",
       "\t<tr><th scope=row>1191</th><td>Myanmar                  </td><td>2020</td><td>4.431</td><td> 8.554</td><td>0.796</td><td>59.60</td><td>0.825</td><td> 0.470</td><td>0.647</td><td>0.800</td><td>0.289</td></tr>\n",
       "\t<tr><th scope=row>1197</th><td>Namibia                  </td><td>2020</td><td>4.451</td><td> 9.104</td><td>0.741</td><td>57.10</td><td>0.666</td><td>-0.104</td><td>0.810</td><td>0.648</td><td>0.248</td></tr>\n",
       "\t<tr><th scope=row>513</th><td>Egypt                    </td><td>2020</td><td>4.472</td><td> 9.383</td><td>0.673</td><td>62.30</td><td>0.770</td><td>-0.112</td><td>   NA</td><td>0.599</td><td>0.442</td></tr>\n",
       "\t<tr><th scope=row>905</th><td>Kenya                    </td><td>2020</td><td>4.547</td><td> 8.365</td><td>0.674</td><td>61.30</td><td>0.702</td><td> 0.260</td><td>0.837</td><td>0.733</td><td>0.297</td></tr>\n",
       "\t<tr><th scope=row>551</th><td>Ethiopia                 </td><td>2020</td><td>4.549</td><td> 7.711</td><td>0.823</td><td>59.50</td><td>0.769</td><td> 0.188</td><td>0.784</td><td>0.669</td><td>0.252</td></tr>\n",
       "\t<tr><th scope=row>1894</th><td>Venezuela                </td><td>2020</td><td>4.574</td><td>    NA</td><td>0.805</td><td>66.90</td><td>0.612</td><td>    NA</td><td>0.811</td><td>0.722</td><td>0.396</td></tr>\n",
       "\t<tr><th scope=row>1793</th><td>Uganda                   </td><td>2020</td><td>4.641</td><td> 7.684</td><td>0.800</td><td>56.50</td><td>0.687</td><td> 0.147</td><td>0.878</td><td>0.699</td><td>0.425</td></tr>\n",
       "\t<tr><th scope=row>1753</th><td>Tunisia                  </td><td>2020</td><td>4.731</td><td> 9.231</td><td>0.719</td><td>67.50</td><td>0.668</td><td>-0.202</td><td>0.877</td><td>0.585</td><td>0.439</td></tr>\n",
       "\t<tr><th scope=row>786</th><td>Iraq                     </td><td>2020</td><td>4.785</td><td> 9.167</td><td>0.708</td><td>61.40</td><td>0.700</td><td>-0.021</td><td>0.849</td><td>0.644</td><td>0.532</td></tr>\n",
       "\t<tr><th scope=row>1174</th><td>Morocco                  </td><td>2020</td><td>4.803</td><td> 8.871</td><td>0.553</td><td>66.50</td><td>0.819</td><td>-0.229</td><td>0.803</td><td>0.587</td><td>0.256</td></tr>\n",
       "\t<tr><th scope=row>1934</th><td>Zambia                   </td><td>2020</td><td>4.838</td><td> 8.117</td><td>0.767</td><td>56.30</td><td>0.750</td><td> 0.056</td><td>0.810</td><td>0.691</td><td>0.345</td></tr>\n",
       "\t<tr><th scope=row>1768</th><td>Turkey                   </td><td>2020</td><td>4.862</td><td>10.219</td><td>0.857</td><td>67.60</td><td>0.510</td><td>-0.111</td><td>0.774</td><td>0.384</td><td>0.440</td></tr>\n",
       "\t<tr><th scope=row>774</th><td>Iran                     </td><td>2020</td><td>4.865</td><td>    NA</td><td>0.757</td><td>66.60</td><td>0.600</td><td>    NA</td><td>0.710</td><td>0.582</td><td>0.470</td></tr>\n",
       "\t<tr><th scope=row>1581</th><td>South Africa             </td><td>2020</td><td>4.947</td><td> 9.332</td><td>0.891</td><td>57.30</td><td>0.757</td><td>-0.015</td><td>0.912</td><td>0.820</td><td>0.294</td></tr>\n",
       "\t<tr><th scope=row>1300</th><td>North Macedonia          </td><td>2020</td><td>5.054</td><td> 9.690</td><td>0.750</td><td>65.56</td><td>0.787</td><td> 0.131</td><td>0.877</td><td>0.605</td><td>0.365</td></tr>\n",
       "\t<tr><th scope=row>1395</th><td>Philippines              </td><td>2020</td><td>5.080</td><td> 9.061</td><td>0.781</td><td>62.10</td><td>0.932</td><td>-0.116</td><td>0.744</td><td>0.804</td><td>0.327</td></tr>\n",
       "\t<tr><th scope=row>606</th><td>Georgia                  </td><td>2020</td><td>5.123</td><td> 9.569</td><td>0.718</td><td>64.10</td><td>0.764</td><td>-0.221</td><td>0.583</td><td>0.611</td><td>0.295</td></tr>\n",
       "\t<tr><th scope=row>483</th><td>Dominican Republic       </td><td>2020</td><td>5.168</td><td> 9.802</td><td>0.806</td><td>66.40</td><td>0.835</td><td>-0.128</td><td>0.636</td><td>0.734</td><td>0.314</td></tr>\n",
       "\t<tr><th scope=row>293</th><td>Cameroon                 </td><td>2020</td><td>5.241</td><td> 8.175</td><td>0.720</td><td>54.30</td><td>0.675</td><td> 0.049</td><td>0.837</td><td>0.630</td><td>0.386</td></tr>\n",
       "\t<tr><th scope=row>839</th><td>Ivory Coast              </td><td>2020</td><td>5.257</td><td> 8.565</td><td>0.613</td><td>50.70</td><td>0.770</td><td> 0.016</td><td>0.777</td><td>0.693</td><td>0.340</td></tr>\n",
       "\t<tr><th scope=row>1808</th><td>Ukraine                  </td><td>2020</td><td>5.270</td><td> 9.428</td><td>0.885</td><td>65.20</td><td>0.784</td><td> 0.126</td><td>0.946</td><td>0.688</td><td>0.285</td></tr>\n",
       "\t<tr><th scope=row>133</th><td>Bangladesh               </td><td>2020</td><td>5.280</td><td> 8.472</td><td>0.739</td><td>65.30</td><td>0.777</td><td>-0.009</td><td>0.742</td><td>0.582</td><td>0.332</td></tr>\n",
       "\t<tr><th scope=row>954</th><td>Laos                     </td><td>2020</td><td>5.284</td><td> 8.960</td><td>0.660</td><td>59.50</td><td>0.915</td><td> 0.141</td><td>0.748</td><td>0.822</td><td>0.358</td></tr>\n",
       "\t<tr><th scope=row>710</th><td>Hong Kong S.A.R. of China</td><td>2020</td><td>5.295</td><td>    NA</td><td>0.813</td><td>   NA</td><td>0.705</td><td>    NA</td><td>0.380</td><td>0.609</td><td>0.210</td></tr>\n",
       "\t<tr><th scope=row>...</th><td>...</td><td>...</td><td>...</td><td>...</td><td>...</td><td>...</td><td>...</td><td>...</td><td>...</td><td>...</td><td>...</td></tr>\n",
       "\t<tr><th scope=row>1866</th><td>Uruguay                 </td><td>2020</td><td>6.310</td><td> 9.937</td><td>0.921</td><td>69.2</td><td>0.908</td><td>-0.084</td><td>0.491</td><td>0.807</td><td>0.265</td></tr>\n",
       "\t<tr><th scope=row>1016</th><td>Lithuania               </td><td>2020</td><td>6.391</td><td>10.504</td><td>0.953</td><td>68.5</td><td>0.824</td><td>-0.122</td><td>0.829</td><td>0.660</td><td>0.202</td></tr>\n",
       "\t<tr><th scope=row>542</th><td>Estonia                 </td><td>2020</td><td>6.453</td><td>10.459</td><td>0.958</td><td>69.0</td><td>0.954</td><td>-0.082</td><td>0.398</td><td>0.807</td><td>0.188</td></tr>\n",
       "\t<tr><th scope=row>1821</th><td>United Arab Emirates    </td><td>2020</td><td>6.458</td><td>11.053</td><td>0.827</td><td>67.5</td><td>0.942</td><td> 0.060</td><td>   NA</td><td>0.752</td><td>0.298</td></tr>\n",
       "\t<tr><th scope=row>1559</th><td>Slovenia                </td><td>2020</td><td>6.462</td><td>10.478</td><td>0.953</td><td>71.7</td><td>0.958</td><td>-0.081</td><td>0.797</td><td>0.610</td><td>0.314</td></tr>\n",
       "\t<tr><th scope=row>830</th><td>Italy                   </td><td>2020</td><td>6.488</td><td>10.563</td><td>0.890</td><td>74.0</td><td>0.718</td><td>-0.150</td><td>0.844</td><td>0.670</td><td>0.311</td></tr>\n",
       "\t<tr><th scope=row>1615</th><td>Spain                   </td><td>2020</td><td>6.502</td><td>10.488</td><td>0.935</td><td>75.0</td><td>0.783</td><td>-0.121</td><td>0.730</td><td>0.686</td><td>0.317</td></tr>\n",
       "\t<tr><th scope=row>423</th><td>Croatia                 </td><td>2020</td><td>6.508</td><td>10.166</td><td>0.923</td><td>71.4</td><td>0.837</td><td>-0.063</td><td>0.961</td><td>0.743</td><td>0.286</td></tr>\n",
       "\t<tr><th scope=row>1546</th><td>Slovakia                </td><td>2020</td><td>6.519</td><td>10.332</td><td>0.954</td><td>69.5</td><td>0.762</td><td>-0.075</td><td>0.901</td><td>0.764</td><td>0.274</td></tr>\n",
       "\t<tr><th scope=row>1482</th><td>Saudi Arabia            </td><td>2020</td><td>6.560</td><td>10.701</td><td>0.890</td><td>66.9</td><td>0.884</td><td>-0.111</td><td>   NA</td><td>0.754</td><td>0.251</td></tr>\n",
       "\t<tr><th scope=row>579</th><td>France                  </td><td>2020</td><td>6.714</td><td>10.643</td><td>0.947</td><td>74.2</td><td>0.823</td><td>-0.169</td><td>0.565</td><td>0.732</td><td>0.231</td></tr>\n",
       "\t<tr><th scope=row>1682</th><td>Taiwan Province of China</td><td>2020</td><td>6.751</td><td>    NA</td><td>0.901</td><td>  NA</td><td>0.799</td><td>    NA</td><td>0.711</td><td>0.845</td><td>0.083</td></tr>\n",
       "\t<tr><th scope=row>1836</th><td>United Kingdom          </td><td>2020</td><td>6.798</td><td>10.626</td><td>0.929</td><td>72.7</td><td>0.885</td><td> 0.203</td><td>0.490</td><td>0.758</td><td>0.225</td></tr>\n",
       "\t<tr><th scope=row>161</th><td>Belgium                 </td><td>2020</td><td>6.839</td><td>10.771</td><td>0.904</td><td>72.4</td><td>0.767</td><td>-0.164</td><td>0.634</td><td>0.647</td><td>0.260</td></tr>\n",
       "\t<tr><th scope=row>449</th><td>Czech Republic          </td><td>2020</td><td>6.897</td><td>10.530</td><td>0.964</td><td>71.3</td><td>0.906</td><td>-0.127</td><td>0.884</td><td>0.832</td><td>0.290</td></tr>\n",
       "\t<tr><th scope=row>308</th><td>Canada                  </td><td>2020</td><td>7.025</td><td>10.730</td><td>0.931</td><td>74.0</td><td>0.887</td><td> 0.050</td><td>0.434</td><td>0.796</td><td>0.307</td></tr>\n",
       "\t<tr><th scope=row>1851</th><td>United States           </td><td>2020</td><td>7.028</td><td>11.001</td><td>0.937</td><td>68.1</td><td>0.850</td><td> 0.034</td><td>0.678</td><td>0.787</td><td>0.295</td></tr>\n",
       "\t<tr><th scope=row>800</th><td>Ireland                 </td><td>2020</td><td>7.035</td><td>11.323</td><td>0.960</td><td>72.5</td><td>0.882</td><td> 0.014</td><td>0.356</td><td>0.797</td><td>0.246</td></tr>\n",
       "\t<tr><th scope=row>80</th><td>Australia               </td><td>2020</td><td>7.137</td><td>10.760</td><td>0.937</td><td>74.2</td><td>0.905</td><td> 0.210</td><td>0.491</td><td>0.769</td><td>0.205</td></tr>\n",
       "\t<tr><th scope=row>815</th><td>Israel                  </td><td>2020</td><td>7.195</td><td>10.538</td><td>0.959</td><td>73.7</td><td>0.831</td><td>-0.049</td><td>0.748</td><td>0.621</td><td>0.243</td></tr>\n",
       "\t<tr><th scope=row>93</th><td>Austria                 </td><td>2020</td><td>7.213</td><td>10.851</td><td>0.925</td><td>73.6</td><td>0.912</td><td> 0.011</td><td>0.464</td><td>0.769</td><td>0.206</td></tr>\n",
       "\t<tr><th scope=row>1239</th><td>New Zealand             </td><td>2020</td><td>7.257</td><td>10.600</td><td>0.952</td><td>73.6</td><td>0.918</td><td> 0.125</td><td>0.283</td><td>0.849</td><td>0.209</td></tr>\n",
       "\t<tr><th scope=row>1310</th><td>Norway                  </td><td>2020</td><td>7.290</td><td>11.042</td><td>0.956</td><td>73.4</td><td>0.965</td><td> 0.075</td><td>0.271</td><td>0.823</td><td>0.216</td></tr>\n",
       "\t<tr><th scope=row>621</th><td>Germany                 </td><td>2020</td><td>7.312</td><td>10.833</td><td>0.905</td><td>72.8</td><td>0.864</td><td>-0.060</td><td>0.424</td><td>0.760</td><td>0.206</td></tr>\n",
       "\t<tr><th scope=row>1652</th><td>Sweden                  </td><td>2020</td><td>7.314</td><td>10.838</td><td>0.936</td><td>72.8</td><td>0.951</td><td> 0.091</td><td>0.203</td><td>0.766</td><td>0.222</td></tr>\n",
       "\t<tr><th scope=row>1225</th><td>Netherlands             </td><td>2020</td><td>7.504</td><td>10.901</td><td>0.944</td><td>72.5</td><td>0.935</td><td> 0.151</td><td>0.281</td><td>0.784</td><td>0.247</td></tr>\n",
       "\t<tr><th scope=row>1662</th><td>Switzerland             </td><td>2020</td><td>7.508</td><td>11.081</td><td>0.946</td><td>74.7</td><td>0.917</td><td>-0.064</td><td>0.280</td><td>0.769</td><td>0.193</td></tr>\n",
       "\t<tr><th scope=row>464</th><td>Denmark                 </td><td>2020</td><td>7.515</td><td>10.910</td><td>0.947</td><td>73.0</td><td>0.938</td><td> 0.052</td><td>0.214</td><td>0.818</td><td>0.227</td></tr>\n",
       "\t<tr><th scope=row>732</th><td>Iceland                 </td><td>2020</td><td>7.575</td><td>10.824</td><td>0.983</td><td>73.0</td><td>0.949</td><td> 0.160</td><td>0.644</td><td>0.863</td><td>0.172</td></tr>\n",
       "\t<tr><th scope=row>564</th><td>Finland                 </td><td>2020</td><td>7.889</td><td>10.750</td><td>0.962</td><td>72.1</td><td>0.962</td><td>-0.116</td><td>0.164</td><td>0.744</td><td>0.193</td></tr>\n",
       "</tbody>\n",
       "</table>\n"
      ],
      "text/latex": [
       "A data.frame: 95 × 11\n",
       "\\begin{tabular}{r|lllllllllll}\n",
       "  & Country & year & Score & GDP & Family & Health & Freedom & Generosity & Corruption & Positive.affect & Negative.affect\\\\\n",
       "  & <chr> & <int> & <dbl> & <dbl> & <dbl> & <dbl> & <dbl> & <dbl> & <dbl> & <dbl> & <dbl>\\\\\n",
       "\\hline\n",
       "\t1949 & Zimbabwe                  & 2020 & 3.160 &  7.829 & 0.717 & 56.80 & 0.643 & -0.009 & 0.789 & 0.703 & 0.346\\\\\n",
       "\t1712 & Tanzania                  & 2020 & 3.786 &  7.881 & 0.740 & 58.50 & 0.830 &  0.295 & 0.521 & 0.686 & 0.271\\\\\n",
       "\t875 & Jordan                    & 2020 & 4.094 &  9.150 & 0.709 & 67.20 & 0.779 & -0.150 &    NA &    NA &    NA\\\\\n",
       "\t747 & India                     & 2020 & 4.225 &  8.703 & 0.617 & 60.90 & 0.906 &  0.075 & 0.780 & 0.752 & 0.383\\\\\n",
       "\t278 & Cambodia                  & 2020 & 4.377 &  8.362 & 0.724 & 62.40 & 0.963 &  0.052 & 0.863 & 0.878 & 0.390\\\\\n",
       "\t175 & Benin                     & 2020 & 4.408 &  8.102 & 0.507 & 55.10 & 0.783 & -0.083 & 0.532 & 0.609 & 0.305\\\\\n",
       "\t1191 & Myanmar                   & 2020 & 4.431 &  8.554 & 0.796 & 59.60 & 0.825 &  0.470 & 0.647 & 0.800 & 0.289\\\\\n",
       "\t1197 & Namibia                   & 2020 & 4.451 &  9.104 & 0.741 & 57.10 & 0.666 & -0.104 & 0.810 & 0.648 & 0.248\\\\\n",
       "\t513 & Egypt                     & 2020 & 4.472 &  9.383 & 0.673 & 62.30 & 0.770 & -0.112 &    NA & 0.599 & 0.442\\\\\n",
       "\t905 & Kenya                     & 2020 & 4.547 &  8.365 & 0.674 & 61.30 & 0.702 &  0.260 & 0.837 & 0.733 & 0.297\\\\\n",
       "\t551 & Ethiopia                  & 2020 & 4.549 &  7.711 & 0.823 & 59.50 & 0.769 &  0.188 & 0.784 & 0.669 & 0.252\\\\\n",
       "\t1894 & Venezuela                 & 2020 & 4.574 &     NA & 0.805 & 66.90 & 0.612 &     NA & 0.811 & 0.722 & 0.396\\\\\n",
       "\t1793 & Uganda                    & 2020 & 4.641 &  7.684 & 0.800 & 56.50 & 0.687 &  0.147 & 0.878 & 0.699 & 0.425\\\\\n",
       "\t1753 & Tunisia                   & 2020 & 4.731 &  9.231 & 0.719 & 67.50 & 0.668 & -0.202 & 0.877 & 0.585 & 0.439\\\\\n",
       "\t786 & Iraq                      & 2020 & 4.785 &  9.167 & 0.708 & 61.40 & 0.700 & -0.021 & 0.849 & 0.644 & 0.532\\\\\n",
       "\t1174 & Morocco                   & 2020 & 4.803 &  8.871 & 0.553 & 66.50 & 0.819 & -0.229 & 0.803 & 0.587 & 0.256\\\\\n",
       "\t1934 & Zambia                    & 2020 & 4.838 &  8.117 & 0.767 & 56.30 & 0.750 &  0.056 & 0.810 & 0.691 & 0.345\\\\\n",
       "\t1768 & Turkey                    & 2020 & 4.862 & 10.219 & 0.857 & 67.60 & 0.510 & -0.111 & 0.774 & 0.384 & 0.440\\\\\n",
       "\t774 & Iran                      & 2020 & 4.865 &     NA & 0.757 & 66.60 & 0.600 &     NA & 0.710 & 0.582 & 0.470\\\\\n",
       "\t1581 & South Africa              & 2020 & 4.947 &  9.332 & 0.891 & 57.30 & 0.757 & -0.015 & 0.912 & 0.820 & 0.294\\\\\n",
       "\t1300 & North Macedonia           & 2020 & 5.054 &  9.690 & 0.750 & 65.56 & 0.787 &  0.131 & 0.877 & 0.605 & 0.365\\\\\n",
       "\t1395 & Philippines               & 2020 & 5.080 &  9.061 & 0.781 & 62.10 & 0.932 & -0.116 & 0.744 & 0.804 & 0.327\\\\\n",
       "\t606 & Georgia                   & 2020 & 5.123 &  9.569 & 0.718 & 64.10 & 0.764 & -0.221 & 0.583 & 0.611 & 0.295\\\\\n",
       "\t483 & Dominican Republic        & 2020 & 5.168 &  9.802 & 0.806 & 66.40 & 0.835 & -0.128 & 0.636 & 0.734 & 0.314\\\\\n",
       "\t293 & Cameroon                  & 2020 & 5.241 &  8.175 & 0.720 & 54.30 & 0.675 &  0.049 & 0.837 & 0.630 & 0.386\\\\\n",
       "\t839 & Ivory Coast               & 2020 & 5.257 &  8.565 & 0.613 & 50.70 & 0.770 &  0.016 & 0.777 & 0.693 & 0.340\\\\\n",
       "\t1808 & Ukraine                   & 2020 & 5.270 &  9.428 & 0.885 & 65.20 & 0.784 &  0.126 & 0.946 & 0.688 & 0.285\\\\\n",
       "\t133 & Bangladesh                & 2020 & 5.280 &  8.472 & 0.739 & 65.30 & 0.777 & -0.009 & 0.742 & 0.582 & 0.332\\\\\n",
       "\t954 & Laos                      & 2020 & 5.284 &  8.960 & 0.660 & 59.50 & 0.915 &  0.141 & 0.748 & 0.822 & 0.358\\\\\n",
       "\t710 & Hong Kong S.A.R. of China & 2020 & 5.295 &     NA & 0.813 &    NA & 0.705 &     NA & 0.380 & 0.609 & 0.210\\\\\n",
       "\t... & ... & ... & ... & ... & ... & ... & ... & ... & ... & ... & ...\\\\\n",
       "\t1866 & Uruguay                  & 2020 & 6.310 &  9.937 & 0.921 & 69.2 & 0.908 & -0.084 & 0.491 & 0.807 & 0.265\\\\\n",
       "\t1016 & Lithuania                & 2020 & 6.391 & 10.504 & 0.953 & 68.5 & 0.824 & -0.122 & 0.829 & 0.660 & 0.202\\\\\n",
       "\t542 & Estonia                  & 2020 & 6.453 & 10.459 & 0.958 & 69.0 & 0.954 & -0.082 & 0.398 & 0.807 & 0.188\\\\\n",
       "\t1821 & United Arab Emirates     & 2020 & 6.458 & 11.053 & 0.827 & 67.5 & 0.942 &  0.060 &    NA & 0.752 & 0.298\\\\\n",
       "\t1559 & Slovenia                 & 2020 & 6.462 & 10.478 & 0.953 & 71.7 & 0.958 & -0.081 & 0.797 & 0.610 & 0.314\\\\\n",
       "\t830 & Italy                    & 2020 & 6.488 & 10.563 & 0.890 & 74.0 & 0.718 & -0.150 & 0.844 & 0.670 & 0.311\\\\\n",
       "\t1615 & Spain                    & 2020 & 6.502 & 10.488 & 0.935 & 75.0 & 0.783 & -0.121 & 0.730 & 0.686 & 0.317\\\\\n",
       "\t423 & Croatia                  & 2020 & 6.508 & 10.166 & 0.923 & 71.4 & 0.837 & -0.063 & 0.961 & 0.743 & 0.286\\\\\n",
       "\t1546 & Slovakia                 & 2020 & 6.519 & 10.332 & 0.954 & 69.5 & 0.762 & -0.075 & 0.901 & 0.764 & 0.274\\\\\n",
       "\t1482 & Saudi Arabia             & 2020 & 6.560 & 10.701 & 0.890 & 66.9 & 0.884 & -0.111 &    NA & 0.754 & 0.251\\\\\n",
       "\t579 & France                   & 2020 & 6.714 & 10.643 & 0.947 & 74.2 & 0.823 & -0.169 & 0.565 & 0.732 & 0.231\\\\\n",
       "\t1682 & Taiwan Province of China & 2020 & 6.751 &     NA & 0.901 &   NA & 0.799 &     NA & 0.711 & 0.845 & 0.083\\\\\n",
       "\t1836 & United Kingdom           & 2020 & 6.798 & 10.626 & 0.929 & 72.7 & 0.885 &  0.203 & 0.490 & 0.758 & 0.225\\\\\n",
       "\t161 & Belgium                  & 2020 & 6.839 & 10.771 & 0.904 & 72.4 & 0.767 & -0.164 & 0.634 & 0.647 & 0.260\\\\\n",
       "\t449 & Czech Republic           & 2020 & 6.897 & 10.530 & 0.964 & 71.3 & 0.906 & -0.127 & 0.884 & 0.832 & 0.290\\\\\n",
       "\t308 & Canada                   & 2020 & 7.025 & 10.730 & 0.931 & 74.0 & 0.887 &  0.050 & 0.434 & 0.796 & 0.307\\\\\n",
       "\t1851 & United States            & 2020 & 7.028 & 11.001 & 0.937 & 68.1 & 0.850 &  0.034 & 0.678 & 0.787 & 0.295\\\\\n",
       "\t800 & Ireland                  & 2020 & 7.035 & 11.323 & 0.960 & 72.5 & 0.882 &  0.014 & 0.356 & 0.797 & 0.246\\\\\n",
       "\t80 & Australia                & 2020 & 7.137 & 10.760 & 0.937 & 74.2 & 0.905 &  0.210 & 0.491 & 0.769 & 0.205\\\\\n",
       "\t815 & Israel                   & 2020 & 7.195 & 10.538 & 0.959 & 73.7 & 0.831 & -0.049 & 0.748 & 0.621 & 0.243\\\\\n",
       "\t93 & Austria                  & 2020 & 7.213 & 10.851 & 0.925 & 73.6 & 0.912 &  0.011 & 0.464 & 0.769 & 0.206\\\\\n",
       "\t1239 & New Zealand              & 2020 & 7.257 & 10.600 & 0.952 & 73.6 & 0.918 &  0.125 & 0.283 & 0.849 & 0.209\\\\\n",
       "\t1310 & Norway                   & 2020 & 7.290 & 11.042 & 0.956 & 73.4 & 0.965 &  0.075 & 0.271 & 0.823 & 0.216\\\\\n",
       "\t621 & Germany                  & 2020 & 7.312 & 10.833 & 0.905 & 72.8 & 0.864 & -0.060 & 0.424 & 0.760 & 0.206\\\\\n",
       "\t1652 & Sweden                   & 2020 & 7.314 & 10.838 & 0.936 & 72.8 & 0.951 &  0.091 & 0.203 & 0.766 & 0.222\\\\\n",
       "\t1225 & Netherlands              & 2020 & 7.504 & 10.901 & 0.944 & 72.5 & 0.935 &  0.151 & 0.281 & 0.784 & 0.247\\\\\n",
       "\t1662 & Switzerland              & 2020 & 7.508 & 11.081 & 0.946 & 74.7 & 0.917 & -0.064 & 0.280 & 0.769 & 0.193\\\\\n",
       "\t464 & Denmark                  & 2020 & 7.515 & 10.910 & 0.947 & 73.0 & 0.938 &  0.052 & 0.214 & 0.818 & 0.227\\\\\n",
       "\t732 & Iceland                  & 2020 & 7.575 & 10.824 & 0.983 & 73.0 & 0.949 &  0.160 & 0.644 & 0.863 & 0.172\\\\\n",
       "\t564 & Finland                  & 2020 & 7.889 & 10.750 & 0.962 & 72.1 & 0.962 & -0.116 & 0.164 & 0.744 & 0.193\\\\\n",
       "\\end{tabular}\n"
      ],
      "text/markdown": [
       "\n",
       "A data.frame: 95 × 11\n",
       "\n",
       "| <!--/--> | Country &lt;chr&gt; | year &lt;int&gt; | Score &lt;dbl&gt; | GDP &lt;dbl&gt; | Family &lt;dbl&gt; | Health &lt;dbl&gt; | Freedom &lt;dbl&gt; | Generosity &lt;dbl&gt; | Corruption &lt;dbl&gt; | Positive.affect &lt;dbl&gt; | Negative.affect &lt;dbl&gt; |\n",
       "|---|---|---|---|---|---|---|---|---|---|---|---|\n",
       "| 1949 | Zimbabwe                  | 2020 | 3.160 |  7.829 | 0.717 | 56.80 | 0.643 | -0.009 | 0.789 | 0.703 | 0.346 |\n",
       "| 1712 | Tanzania                  | 2020 | 3.786 |  7.881 | 0.740 | 58.50 | 0.830 |  0.295 | 0.521 | 0.686 | 0.271 |\n",
       "| 875 | Jordan                    | 2020 | 4.094 |  9.150 | 0.709 | 67.20 | 0.779 | -0.150 |    NA |    NA |    NA |\n",
       "| 747 | India                     | 2020 | 4.225 |  8.703 | 0.617 | 60.90 | 0.906 |  0.075 | 0.780 | 0.752 | 0.383 |\n",
       "| 278 | Cambodia                  | 2020 | 4.377 |  8.362 | 0.724 | 62.40 | 0.963 |  0.052 | 0.863 | 0.878 | 0.390 |\n",
       "| 175 | Benin                     | 2020 | 4.408 |  8.102 | 0.507 | 55.10 | 0.783 | -0.083 | 0.532 | 0.609 | 0.305 |\n",
       "| 1191 | Myanmar                   | 2020 | 4.431 |  8.554 | 0.796 | 59.60 | 0.825 |  0.470 | 0.647 | 0.800 | 0.289 |\n",
       "| 1197 | Namibia                   | 2020 | 4.451 |  9.104 | 0.741 | 57.10 | 0.666 | -0.104 | 0.810 | 0.648 | 0.248 |\n",
       "| 513 | Egypt                     | 2020 | 4.472 |  9.383 | 0.673 | 62.30 | 0.770 | -0.112 |    NA | 0.599 | 0.442 |\n",
       "| 905 | Kenya                     | 2020 | 4.547 |  8.365 | 0.674 | 61.30 | 0.702 |  0.260 | 0.837 | 0.733 | 0.297 |\n",
       "| 551 | Ethiopia                  | 2020 | 4.549 |  7.711 | 0.823 | 59.50 | 0.769 |  0.188 | 0.784 | 0.669 | 0.252 |\n",
       "| 1894 | Venezuela                 | 2020 | 4.574 |     NA | 0.805 | 66.90 | 0.612 |     NA | 0.811 | 0.722 | 0.396 |\n",
       "| 1793 | Uganda                    | 2020 | 4.641 |  7.684 | 0.800 | 56.50 | 0.687 |  0.147 | 0.878 | 0.699 | 0.425 |\n",
       "| 1753 | Tunisia                   | 2020 | 4.731 |  9.231 | 0.719 | 67.50 | 0.668 | -0.202 | 0.877 | 0.585 | 0.439 |\n",
       "| 786 | Iraq                      | 2020 | 4.785 |  9.167 | 0.708 | 61.40 | 0.700 | -0.021 | 0.849 | 0.644 | 0.532 |\n",
       "| 1174 | Morocco                   | 2020 | 4.803 |  8.871 | 0.553 | 66.50 | 0.819 | -0.229 | 0.803 | 0.587 | 0.256 |\n",
       "| 1934 | Zambia                    | 2020 | 4.838 |  8.117 | 0.767 | 56.30 | 0.750 |  0.056 | 0.810 | 0.691 | 0.345 |\n",
       "| 1768 | Turkey                    | 2020 | 4.862 | 10.219 | 0.857 | 67.60 | 0.510 | -0.111 | 0.774 | 0.384 | 0.440 |\n",
       "| 774 | Iran                      | 2020 | 4.865 |     NA | 0.757 | 66.60 | 0.600 |     NA | 0.710 | 0.582 | 0.470 |\n",
       "| 1581 | South Africa              | 2020 | 4.947 |  9.332 | 0.891 | 57.30 | 0.757 | -0.015 | 0.912 | 0.820 | 0.294 |\n",
       "| 1300 | North Macedonia           | 2020 | 5.054 |  9.690 | 0.750 | 65.56 | 0.787 |  0.131 | 0.877 | 0.605 | 0.365 |\n",
       "| 1395 | Philippines               | 2020 | 5.080 |  9.061 | 0.781 | 62.10 | 0.932 | -0.116 | 0.744 | 0.804 | 0.327 |\n",
       "| 606 | Georgia                   | 2020 | 5.123 |  9.569 | 0.718 | 64.10 | 0.764 | -0.221 | 0.583 | 0.611 | 0.295 |\n",
       "| 483 | Dominican Republic        | 2020 | 5.168 |  9.802 | 0.806 | 66.40 | 0.835 | -0.128 | 0.636 | 0.734 | 0.314 |\n",
       "| 293 | Cameroon                  | 2020 | 5.241 |  8.175 | 0.720 | 54.30 | 0.675 |  0.049 | 0.837 | 0.630 | 0.386 |\n",
       "| 839 | Ivory Coast               | 2020 | 5.257 |  8.565 | 0.613 | 50.70 | 0.770 |  0.016 | 0.777 | 0.693 | 0.340 |\n",
       "| 1808 | Ukraine                   | 2020 | 5.270 |  9.428 | 0.885 | 65.20 | 0.784 |  0.126 | 0.946 | 0.688 | 0.285 |\n",
       "| 133 | Bangladesh                | 2020 | 5.280 |  8.472 | 0.739 | 65.30 | 0.777 | -0.009 | 0.742 | 0.582 | 0.332 |\n",
       "| 954 | Laos                      | 2020 | 5.284 |  8.960 | 0.660 | 59.50 | 0.915 |  0.141 | 0.748 | 0.822 | 0.358 |\n",
       "| 710 | Hong Kong S.A.R. of China | 2020 | 5.295 |     NA | 0.813 |    NA | 0.705 |     NA | 0.380 | 0.609 | 0.210 |\n",
       "| ... | ... | ... | ... | ... | ... | ... | ... | ... | ... | ... | ... |\n",
       "| 1866 | Uruguay                  | 2020 | 6.310 |  9.937 | 0.921 | 69.2 | 0.908 | -0.084 | 0.491 | 0.807 | 0.265 |\n",
       "| 1016 | Lithuania                | 2020 | 6.391 | 10.504 | 0.953 | 68.5 | 0.824 | -0.122 | 0.829 | 0.660 | 0.202 |\n",
       "| 542 | Estonia                  | 2020 | 6.453 | 10.459 | 0.958 | 69.0 | 0.954 | -0.082 | 0.398 | 0.807 | 0.188 |\n",
       "| 1821 | United Arab Emirates     | 2020 | 6.458 | 11.053 | 0.827 | 67.5 | 0.942 |  0.060 |    NA | 0.752 | 0.298 |\n",
       "| 1559 | Slovenia                 | 2020 | 6.462 | 10.478 | 0.953 | 71.7 | 0.958 | -0.081 | 0.797 | 0.610 | 0.314 |\n",
       "| 830 | Italy                    | 2020 | 6.488 | 10.563 | 0.890 | 74.0 | 0.718 | -0.150 | 0.844 | 0.670 | 0.311 |\n",
       "| 1615 | Spain                    | 2020 | 6.502 | 10.488 | 0.935 | 75.0 | 0.783 | -0.121 | 0.730 | 0.686 | 0.317 |\n",
       "| 423 | Croatia                  | 2020 | 6.508 | 10.166 | 0.923 | 71.4 | 0.837 | -0.063 | 0.961 | 0.743 | 0.286 |\n",
       "| 1546 | Slovakia                 | 2020 | 6.519 | 10.332 | 0.954 | 69.5 | 0.762 | -0.075 | 0.901 | 0.764 | 0.274 |\n",
       "| 1482 | Saudi Arabia             | 2020 | 6.560 | 10.701 | 0.890 | 66.9 | 0.884 | -0.111 |    NA | 0.754 | 0.251 |\n",
       "| 579 | France                   | 2020 | 6.714 | 10.643 | 0.947 | 74.2 | 0.823 | -0.169 | 0.565 | 0.732 | 0.231 |\n",
       "| 1682 | Taiwan Province of China | 2020 | 6.751 |     NA | 0.901 |   NA | 0.799 |     NA | 0.711 | 0.845 | 0.083 |\n",
       "| 1836 | United Kingdom           | 2020 | 6.798 | 10.626 | 0.929 | 72.7 | 0.885 |  0.203 | 0.490 | 0.758 | 0.225 |\n",
       "| 161 | Belgium                  | 2020 | 6.839 | 10.771 | 0.904 | 72.4 | 0.767 | -0.164 | 0.634 | 0.647 | 0.260 |\n",
       "| 449 | Czech Republic           | 2020 | 6.897 | 10.530 | 0.964 | 71.3 | 0.906 | -0.127 | 0.884 | 0.832 | 0.290 |\n",
       "| 308 | Canada                   | 2020 | 7.025 | 10.730 | 0.931 | 74.0 | 0.887 |  0.050 | 0.434 | 0.796 | 0.307 |\n",
       "| 1851 | United States            | 2020 | 7.028 | 11.001 | 0.937 | 68.1 | 0.850 |  0.034 | 0.678 | 0.787 | 0.295 |\n",
       "| 800 | Ireland                  | 2020 | 7.035 | 11.323 | 0.960 | 72.5 | 0.882 |  0.014 | 0.356 | 0.797 | 0.246 |\n",
       "| 80 | Australia                | 2020 | 7.137 | 10.760 | 0.937 | 74.2 | 0.905 |  0.210 | 0.491 | 0.769 | 0.205 |\n",
       "| 815 | Israel                   | 2020 | 7.195 | 10.538 | 0.959 | 73.7 | 0.831 | -0.049 | 0.748 | 0.621 | 0.243 |\n",
       "| 93 | Austria                  | 2020 | 7.213 | 10.851 | 0.925 | 73.6 | 0.912 |  0.011 | 0.464 | 0.769 | 0.206 |\n",
       "| 1239 | New Zealand              | 2020 | 7.257 | 10.600 | 0.952 | 73.6 | 0.918 |  0.125 | 0.283 | 0.849 | 0.209 |\n",
       "| 1310 | Norway                   | 2020 | 7.290 | 11.042 | 0.956 | 73.4 | 0.965 |  0.075 | 0.271 | 0.823 | 0.216 |\n",
       "| 621 | Germany                  | 2020 | 7.312 | 10.833 | 0.905 | 72.8 | 0.864 | -0.060 | 0.424 | 0.760 | 0.206 |\n",
       "| 1652 | Sweden                   | 2020 | 7.314 | 10.838 | 0.936 | 72.8 | 0.951 |  0.091 | 0.203 | 0.766 | 0.222 |\n",
       "| 1225 | Netherlands              | 2020 | 7.504 | 10.901 | 0.944 | 72.5 | 0.935 |  0.151 | 0.281 | 0.784 | 0.247 |\n",
       "| 1662 | Switzerland              | 2020 | 7.508 | 11.081 | 0.946 | 74.7 | 0.917 | -0.064 | 0.280 | 0.769 | 0.193 |\n",
       "| 464 | Denmark                  | 2020 | 7.515 | 10.910 | 0.947 | 73.0 | 0.938 |  0.052 | 0.214 | 0.818 | 0.227 |\n",
       "| 732 | Iceland                  | 2020 | 7.575 | 10.824 | 0.983 | 73.0 | 0.949 |  0.160 | 0.644 | 0.863 | 0.172 |\n",
       "| 564 | Finland                  | 2020 | 7.889 | 10.750 | 0.962 | 72.1 | 0.962 | -0.116 | 0.164 | 0.744 | 0.193 |\n",
       "\n"
      ],
      "text/plain": [
       "     Country                   year Score GDP    Family Health Freedom\n",
       "1949 Zimbabwe                  2020 3.160  7.829 0.717  56.80  0.643  \n",
       "1712 Tanzania                  2020 3.786  7.881 0.740  58.50  0.830  \n",
       "875  Jordan                    2020 4.094  9.150 0.709  67.20  0.779  \n",
       "747  India                     2020 4.225  8.703 0.617  60.90  0.906  \n",
       "278  Cambodia                  2020 4.377  8.362 0.724  62.40  0.963  \n",
       "175  Benin                     2020 4.408  8.102 0.507  55.10  0.783  \n",
       "1191 Myanmar                   2020 4.431  8.554 0.796  59.60  0.825  \n",
       "1197 Namibia                   2020 4.451  9.104 0.741  57.10  0.666  \n",
       "513  Egypt                     2020 4.472  9.383 0.673  62.30  0.770  \n",
       "905  Kenya                     2020 4.547  8.365 0.674  61.30  0.702  \n",
       "551  Ethiopia                  2020 4.549  7.711 0.823  59.50  0.769  \n",
       "1894 Venezuela                 2020 4.574     NA 0.805  66.90  0.612  \n",
       "1793 Uganda                    2020 4.641  7.684 0.800  56.50  0.687  \n",
       "1753 Tunisia                   2020 4.731  9.231 0.719  67.50  0.668  \n",
       "786  Iraq                      2020 4.785  9.167 0.708  61.40  0.700  \n",
       "1174 Morocco                   2020 4.803  8.871 0.553  66.50  0.819  \n",
       "1934 Zambia                    2020 4.838  8.117 0.767  56.30  0.750  \n",
       "1768 Turkey                    2020 4.862 10.219 0.857  67.60  0.510  \n",
       "774  Iran                      2020 4.865     NA 0.757  66.60  0.600  \n",
       "1581 South Africa              2020 4.947  9.332 0.891  57.30  0.757  \n",
       "1300 North Macedonia           2020 5.054  9.690 0.750  65.56  0.787  \n",
       "1395 Philippines               2020 5.080  9.061 0.781  62.10  0.932  \n",
       "606  Georgia                   2020 5.123  9.569 0.718  64.10  0.764  \n",
       "483  Dominican Republic        2020 5.168  9.802 0.806  66.40  0.835  \n",
       "293  Cameroon                  2020 5.241  8.175 0.720  54.30  0.675  \n",
       "839  Ivory Coast               2020 5.257  8.565 0.613  50.70  0.770  \n",
       "1808 Ukraine                   2020 5.270  9.428 0.885  65.20  0.784  \n",
       "133  Bangladesh                2020 5.280  8.472 0.739  65.30  0.777  \n",
       "954  Laos                      2020 5.284  8.960 0.660  59.50  0.915  \n",
       "710  Hong Kong S.A.R. of China 2020 5.295     NA 0.813     NA  0.705  \n",
       "...  ...                       ...  ...   ...    ...    ...    ...    \n",
       "1866 Uruguay                   2020 6.310  9.937 0.921  69.2   0.908  \n",
       "1016 Lithuania                 2020 6.391 10.504 0.953  68.5   0.824  \n",
       "542  Estonia                   2020 6.453 10.459 0.958  69.0   0.954  \n",
       "1821 United Arab Emirates      2020 6.458 11.053 0.827  67.5   0.942  \n",
       "1559 Slovenia                  2020 6.462 10.478 0.953  71.7   0.958  \n",
       "830  Italy                     2020 6.488 10.563 0.890  74.0   0.718  \n",
       "1615 Spain                     2020 6.502 10.488 0.935  75.0   0.783  \n",
       "423  Croatia                   2020 6.508 10.166 0.923  71.4   0.837  \n",
       "1546 Slovakia                  2020 6.519 10.332 0.954  69.5   0.762  \n",
       "1482 Saudi Arabia              2020 6.560 10.701 0.890  66.9   0.884  \n",
       "579  France                    2020 6.714 10.643 0.947  74.2   0.823  \n",
       "1682 Taiwan Province of China  2020 6.751     NA 0.901    NA   0.799  \n",
       "1836 United Kingdom            2020 6.798 10.626 0.929  72.7   0.885  \n",
       "161  Belgium                   2020 6.839 10.771 0.904  72.4   0.767  \n",
       "449  Czech Republic            2020 6.897 10.530 0.964  71.3   0.906  \n",
       "308  Canada                    2020 7.025 10.730 0.931  74.0   0.887  \n",
       "1851 United States             2020 7.028 11.001 0.937  68.1   0.850  \n",
       "800  Ireland                   2020 7.035 11.323 0.960  72.5   0.882  \n",
       "80   Australia                 2020 7.137 10.760 0.937  74.2   0.905  \n",
       "815  Israel                    2020 7.195 10.538 0.959  73.7   0.831  \n",
       "93   Austria                   2020 7.213 10.851 0.925  73.6   0.912  \n",
       "1239 New Zealand               2020 7.257 10.600 0.952  73.6   0.918  \n",
       "1310 Norway                    2020 7.290 11.042 0.956  73.4   0.965  \n",
       "621  Germany                   2020 7.312 10.833 0.905  72.8   0.864  \n",
       "1652 Sweden                    2020 7.314 10.838 0.936  72.8   0.951  \n",
       "1225 Netherlands               2020 7.504 10.901 0.944  72.5   0.935  \n",
       "1662 Switzerland               2020 7.508 11.081 0.946  74.7   0.917  \n",
       "464  Denmark                   2020 7.515 10.910 0.947  73.0   0.938  \n",
       "732  Iceland                   2020 7.575 10.824 0.983  73.0   0.949  \n",
       "564  Finland                   2020 7.889 10.750 0.962  72.1   0.962  \n",
       "     Generosity Corruption Positive.affect Negative.affect\n",
       "1949 -0.009     0.789      0.703           0.346          \n",
       "1712  0.295     0.521      0.686           0.271          \n",
       "875  -0.150        NA         NA              NA          \n",
       "747   0.075     0.780      0.752           0.383          \n",
       "278   0.052     0.863      0.878           0.390          \n",
       "175  -0.083     0.532      0.609           0.305          \n",
       "1191  0.470     0.647      0.800           0.289          \n",
       "1197 -0.104     0.810      0.648           0.248          \n",
       "513  -0.112        NA      0.599           0.442          \n",
       "905   0.260     0.837      0.733           0.297          \n",
       "551   0.188     0.784      0.669           0.252          \n",
       "1894     NA     0.811      0.722           0.396          \n",
       "1793  0.147     0.878      0.699           0.425          \n",
       "1753 -0.202     0.877      0.585           0.439          \n",
       "786  -0.021     0.849      0.644           0.532          \n",
       "1174 -0.229     0.803      0.587           0.256          \n",
       "1934  0.056     0.810      0.691           0.345          \n",
       "1768 -0.111     0.774      0.384           0.440          \n",
       "774      NA     0.710      0.582           0.470          \n",
       "1581 -0.015     0.912      0.820           0.294          \n",
       "1300  0.131     0.877      0.605           0.365          \n",
       "1395 -0.116     0.744      0.804           0.327          \n",
       "606  -0.221     0.583      0.611           0.295          \n",
       "483  -0.128     0.636      0.734           0.314          \n",
       "293   0.049     0.837      0.630           0.386          \n",
       "839   0.016     0.777      0.693           0.340          \n",
       "1808  0.126     0.946      0.688           0.285          \n",
       "133  -0.009     0.742      0.582           0.332          \n",
       "954   0.141     0.748      0.822           0.358          \n",
       "710      NA     0.380      0.609           0.210          \n",
       "...  ...        ...        ...             ...            \n",
       "1866 -0.084     0.491      0.807           0.265          \n",
       "1016 -0.122     0.829      0.660           0.202          \n",
       "542  -0.082     0.398      0.807           0.188          \n",
       "1821  0.060        NA      0.752           0.298          \n",
       "1559 -0.081     0.797      0.610           0.314          \n",
       "830  -0.150     0.844      0.670           0.311          \n",
       "1615 -0.121     0.730      0.686           0.317          \n",
       "423  -0.063     0.961      0.743           0.286          \n",
       "1546 -0.075     0.901      0.764           0.274          \n",
       "1482 -0.111        NA      0.754           0.251          \n",
       "579  -0.169     0.565      0.732           0.231          \n",
       "1682     NA     0.711      0.845           0.083          \n",
       "1836  0.203     0.490      0.758           0.225          \n",
       "161  -0.164     0.634      0.647           0.260          \n",
       "449  -0.127     0.884      0.832           0.290          \n",
       "308   0.050     0.434      0.796           0.307          \n",
       "1851  0.034     0.678      0.787           0.295          \n",
       "800   0.014     0.356      0.797           0.246          \n",
       "80    0.210     0.491      0.769           0.205          \n",
       "815  -0.049     0.748      0.621           0.243          \n",
       "93    0.011     0.464      0.769           0.206          \n",
       "1239  0.125     0.283      0.849           0.209          \n",
       "1310  0.075     0.271      0.823           0.216          \n",
       "621  -0.060     0.424      0.760           0.206          \n",
       "1652  0.091     0.203      0.766           0.222          \n",
       "1225  0.151     0.281      0.784           0.247          \n",
       "1662 -0.064     0.280      0.769           0.193          \n",
       "464   0.052     0.214      0.818           0.227          \n",
       "732   0.160     0.644      0.863           0.172          \n",
       "564  -0.116     0.164      0.744           0.193          "
      ]
     },
     "metadata": {},
     "output_type": "display_data"
    }
   ],
   "source": [
    "happ_2021[order(happ_2021$Score),]"
   ]
  },
  {
   "cell_type": "code",
   "execution_count": 12,
   "metadata": {},
   "outputs": [
    {
     "data": {
      "text/html": [
       "<table class=\"dataframe\">\n",
       "<caption>A data.frame: 6 × 20</caption>\n",
       "<thead>\n",
       "\t<tr><th></th><th scope=col>ï..Country.name</th><th scope=col>Regional.indicator</th><th scope=col>Ladder.score</th><th scope=col>Standard.error.of.ladder.score</th><th scope=col>upperwhisker</th><th scope=col>lowerwhisker</th><th scope=col>Logged.GDP.per.capita</th><th scope=col>Social.support</th><th scope=col>Healthy.life.expectancy</th><th scope=col>Freedom.to.make.life.choices</th><th scope=col>Generosity</th><th scope=col>Perceptions.of.corruption</th><th scope=col>Ladder.score.in.Dystopia</th><th scope=col>Explained.by..Log.GDP.per.capita</th><th scope=col>Explained.by..Social.support</th><th scope=col>Explained.by..Healthy.life.expectancy</th><th scope=col>Explained.by..Freedom.to.make.life.choices</th><th scope=col>Explained.by..Generosity</th><th scope=col>Explained.by..Perceptions.of.corruption</th><th scope=col>Dystopia...residual</th></tr>\n",
       "\t<tr><th></th><th scope=col>&lt;chr&gt;</th><th scope=col>&lt;chr&gt;</th><th scope=col>&lt;dbl&gt;</th><th scope=col>&lt;dbl&gt;</th><th scope=col>&lt;dbl&gt;</th><th scope=col>&lt;dbl&gt;</th><th scope=col>&lt;dbl&gt;</th><th scope=col>&lt;dbl&gt;</th><th scope=col>&lt;dbl&gt;</th><th scope=col>&lt;dbl&gt;</th><th scope=col>&lt;dbl&gt;</th><th scope=col>&lt;dbl&gt;</th><th scope=col>&lt;dbl&gt;</th><th scope=col>&lt;dbl&gt;</th><th scope=col>&lt;dbl&gt;</th><th scope=col>&lt;dbl&gt;</th><th scope=col>&lt;dbl&gt;</th><th scope=col>&lt;dbl&gt;</th><th scope=col>&lt;dbl&gt;</th><th scope=col>&lt;dbl&gt;</th></tr>\n",
       "</thead>\n",
       "<tbody>\n",
       "\t<tr><th scope=row>1</th><td>Finland    </td><td>Western Europe</td><td>7.842</td><td>0.032</td><td>7.904</td><td>7.780</td><td>10.775</td><td>0.954</td><td>72.0</td><td>0.949</td><td>-0.098</td><td>0.186</td><td>2.43</td><td>1.446</td><td>1.106</td><td>0.741</td><td>0.691</td><td>0.124</td><td>0.481</td><td>3.253</td></tr>\n",
       "\t<tr><th scope=row>2</th><td>Denmark    </td><td>Western Europe</td><td>7.620</td><td>0.035</td><td>7.687</td><td>7.552</td><td>10.933</td><td>0.954</td><td>72.7</td><td>0.946</td><td> 0.030</td><td>0.179</td><td>2.43</td><td>1.502</td><td>1.108</td><td>0.763</td><td>0.686</td><td>0.208</td><td>0.485</td><td>2.868</td></tr>\n",
       "\t<tr><th scope=row>3</th><td>Switzerland</td><td>Western Europe</td><td>7.571</td><td>0.036</td><td>7.643</td><td>7.500</td><td>11.117</td><td>0.942</td><td>74.4</td><td>0.919</td><td> 0.025</td><td>0.292</td><td>2.43</td><td>1.566</td><td>1.079</td><td>0.816</td><td>0.653</td><td>0.204</td><td>0.413</td><td>2.839</td></tr>\n",
       "\t<tr><th scope=row>4</th><td>Iceland    </td><td>Western Europe</td><td>7.554</td><td>0.059</td><td>7.670</td><td>7.438</td><td>10.878</td><td>0.983</td><td>73.0</td><td>0.955</td><td> 0.160</td><td>0.673</td><td>2.43</td><td>1.482</td><td>1.172</td><td>0.772</td><td>0.698</td><td>0.293</td><td>0.170</td><td>2.967</td></tr>\n",
       "\t<tr><th scope=row>5</th><td>Netherlands</td><td>Western Europe</td><td>7.464</td><td>0.027</td><td>7.518</td><td>7.410</td><td>10.932</td><td>0.942</td><td>72.4</td><td>0.913</td><td> 0.175</td><td>0.338</td><td>2.43</td><td>1.501</td><td>1.079</td><td>0.753</td><td>0.647</td><td>0.302</td><td>0.384</td><td>2.798</td></tr>\n",
       "\t<tr><th scope=row>6</th><td>Norway     </td><td>Western Europe</td><td>7.392</td><td>0.035</td><td>7.462</td><td>7.323</td><td>11.053</td><td>0.954</td><td>73.3</td><td>0.960</td><td> 0.093</td><td>0.270</td><td>2.43</td><td>1.543</td><td>1.108</td><td>0.782</td><td>0.703</td><td>0.249</td><td>0.427</td><td>2.580</td></tr>\n",
       "</tbody>\n",
       "</table>\n"
      ],
      "text/latex": [
       "A data.frame: 6 × 20\n",
       "\\begin{tabular}{r|llllllllllllllllllll}\n",
       "  & ï..Country.name & Regional.indicator & Ladder.score & Standard.error.of.ladder.score & upperwhisker & lowerwhisker & Logged.GDP.per.capita & Social.support & Healthy.life.expectancy & Freedom.to.make.life.choices & Generosity & Perceptions.of.corruption & Ladder.score.in.Dystopia & Explained.by..Log.GDP.per.capita & Explained.by..Social.support & Explained.by..Healthy.life.expectancy & Explained.by..Freedom.to.make.life.choices & Explained.by..Generosity & Explained.by..Perceptions.of.corruption & Dystopia...residual\\\\\n",
       "  & <chr> & <chr> & <dbl> & <dbl> & <dbl> & <dbl> & <dbl> & <dbl> & <dbl> & <dbl> & <dbl> & <dbl> & <dbl> & <dbl> & <dbl> & <dbl> & <dbl> & <dbl> & <dbl> & <dbl>\\\\\n",
       "\\hline\n",
       "\t1 & Finland     & Western Europe & 7.842 & 0.032 & 7.904 & 7.780 & 10.775 & 0.954 & 72.0 & 0.949 & -0.098 & 0.186 & 2.43 & 1.446 & 1.106 & 0.741 & 0.691 & 0.124 & 0.481 & 3.253\\\\\n",
       "\t2 & Denmark     & Western Europe & 7.620 & 0.035 & 7.687 & 7.552 & 10.933 & 0.954 & 72.7 & 0.946 &  0.030 & 0.179 & 2.43 & 1.502 & 1.108 & 0.763 & 0.686 & 0.208 & 0.485 & 2.868\\\\\n",
       "\t3 & Switzerland & Western Europe & 7.571 & 0.036 & 7.643 & 7.500 & 11.117 & 0.942 & 74.4 & 0.919 &  0.025 & 0.292 & 2.43 & 1.566 & 1.079 & 0.816 & 0.653 & 0.204 & 0.413 & 2.839\\\\\n",
       "\t4 & Iceland     & Western Europe & 7.554 & 0.059 & 7.670 & 7.438 & 10.878 & 0.983 & 73.0 & 0.955 &  0.160 & 0.673 & 2.43 & 1.482 & 1.172 & 0.772 & 0.698 & 0.293 & 0.170 & 2.967\\\\\n",
       "\t5 & Netherlands & Western Europe & 7.464 & 0.027 & 7.518 & 7.410 & 10.932 & 0.942 & 72.4 & 0.913 &  0.175 & 0.338 & 2.43 & 1.501 & 1.079 & 0.753 & 0.647 & 0.302 & 0.384 & 2.798\\\\\n",
       "\t6 & Norway      & Western Europe & 7.392 & 0.035 & 7.462 & 7.323 & 11.053 & 0.954 & 73.3 & 0.960 &  0.093 & 0.270 & 2.43 & 1.543 & 1.108 & 0.782 & 0.703 & 0.249 & 0.427 & 2.580\\\\\n",
       "\\end{tabular}\n"
      ],
      "text/markdown": [
       "\n",
       "A data.frame: 6 × 20\n",
       "\n",
       "| <!--/--> | ï..Country.name &lt;chr&gt; | Regional.indicator &lt;chr&gt; | Ladder.score &lt;dbl&gt; | Standard.error.of.ladder.score &lt;dbl&gt; | upperwhisker &lt;dbl&gt; | lowerwhisker &lt;dbl&gt; | Logged.GDP.per.capita &lt;dbl&gt; | Social.support &lt;dbl&gt; | Healthy.life.expectancy &lt;dbl&gt; | Freedom.to.make.life.choices &lt;dbl&gt; | Generosity &lt;dbl&gt; | Perceptions.of.corruption &lt;dbl&gt; | Ladder.score.in.Dystopia &lt;dbl&gt; | Explained.by..Log.GDP.per.capita &lt;dbl&gt; | Explained.by..Social.support &lt;dbl&gt; | Explained.by..Healthy.life.expectancy &lt;dbl&gt; | Explained.by..Freedom.to.make.life.choices &lt;dbl&gt; | Explained.by..Generosity &lt;dbl&gt; | Explained.by..Perceptions.of.corruption &lt;dbl&gt; | Dystopia...residual &lt;dbl&gt; |\n",
       "|---|---|---|---|---|---|---|---|---|---|---|---|---|---|---|---|---|---|---|---|---|\n",
       "| 1 | Finland     | Western Europe | 7.842 | 0.032 | 7.904 | 7.780 | 10.775 | 0.954 | 72.0 | 0.949 | -0.098 | 0.186 | 2.43 | 1.446 | 1.106 | 0.741 | 0.691 | 0.124 | 0.481 | 3.253 |\n",
       "| 2 | Denmark     | Western Europe | 7.620 | 0.035 | 7.687 | 7.552 | 10.933 | 0.954 | 72.7 | 0.946 |  0.030 | 0.179 | 2.43 | 1.502 | 1.108 | 0.763 | 0.686 | 0.208 | 0.485 | 2.868 |\n",
       "| 3 | Switzerland | Western Europe | 7.571 | 0.036 | 7.643 | 7.500 | 11.117 | 0.942 | 74.4 | 0.919 |  0.025 | 0.292 | 2.43 | 1.566 | 1.079 | 0.816 | 0.653 | 0.204 | 0.413 | 2.839 |\n",
       "| 4 | Iceland     | Western Europe | 7.554 | 0.059 | 7.670 | 7.438 | 10.878 | 0.983 | 73.0 | 0.955 |  0.160 | 0.673 | 2.43 | 1.482 | 1.172 | 0.772 | 0.698 | 0.293 | 0.170 | 2.967 |\n",
       "| 5 | Netherlands | Western Europe | 7.464 | 0.027 | 7.518 | 7.410 | 10.932 | 0.942 | 72.4 | 0.913 |  0.175 | 0.338 | 2.43 | 1.501 | 1.079 | 0.753 | 0.647 | 0.302 | 0.384 | 2.798 |\n",
       "| 6 | Norway      | Western Europe | 7.392 | 0.035 | 7.462 | 7.323 | 11.053 | 0.954 | 73.3 | 0.960 |  0.093 | 0.270 | 2.43 | 1.543 | 1.108 | 0.782 | 0.703 | 0.249 | 0.427 | 2.580 |\n",
       "\n"
      ],
      "text/plain": [
       "  ï..Country.name Regional.indicator Ladder.score\n",
       "1 Finland         Western Europe     7.842       \n",
       "2 Denmark         Western Europe     7.620       \n",
       "3 Switzerland     Western Europe     7.571       \n",
       "4 Iceland         Western Europe     7.554       \n",
       "5 Netherlands     Western Europe     7.464       \n",
       "6 Norway          Western Europe     7.392       \n",
       "  Standard.error.of.ladder.score upperwhisker lowerwhisker\n",
       "1 0.032                          7.904        7.780       \n",
       "2 0.035                          7.687        7.552       \n",
       "3 0.036                          7.643        7.500       \n",
       "4 0.059                          7.670        7.438       \n",
       "5 0.027                          7.518        7.410       \n",
       "6 0.035                          7.462        7.323       \n",
       "  Logged.GDP.per.capita Social.support Healthy.life.expectancy\n",
       "1 10.775                0.954          72.0                   \n",
       "2 10.933                0.954          72.7                   \n",
       "3 11.117                0.942          74.4                   \n",
       "4 10.878                0.983          73.0                   \n",
       "5 10.932                0.942          72.4                   \n",
       "6 11.053                0.954          73.3                   \n",
       "  Freedom.to.make.life.choices Generosity Perceptions.of.corruption\n",
       "1 0.949                        -0.098     0.186                    \n",
       "2 0.946                         0.030     0.179                    \n",
       "3 0.919                         0.025     0.292                    \n",
       "4 0.955                         0.160     0.673                    \n",
       "5 0.913                         0.175     0.338                    \n",
       "6 0.960                         0.093     0.270                    \n",
       "  Ladder.score.in.Dystopia Explained.by..Log.GDP.per.capita\n",
       "1 2.43                     1.446                           \n",
       "2 2.43                     1.502                           \n",
       "3 2.43                     1.566                           \n",
       "4 2.43                     1.482                           \n",
       "5 2.43                     1.501                           \n",
       "6 2.43                     1.543                           \n",
       "  Explained.by..Social.support Explained.by..Healthy.life.expectancy\n",
       "1 1.106                        0.741                                \n",
       "2 1.108                        0.763                                \n",
       "3 1.079                        0.816                                \n",
       "4 1.172                        0.772                                \n",
       "5 1.079                        0.753                                \n",
       "6 1.108                        0.782                                \n",
       "  Explained.by..Freedom.to.make.life.choices Explained.by..Generosity\n",
       "1 0.691                                      0.124                   \n",
       "2 0.686                                      0.208                   \n",
       "3 0.653                                      0.204                   \n",
       "4 0.698                                      0.293                   \n",
       "5 0.647                                      0.302                   \n",
       "6 0.703                                      0.249                   \n",
       "  Explained.by..Perceptions.of.corruption Dystopia...residual\n",
       "1 0.481                                   3.253              \n",
       "2 0.485                                   2.868              \n",
       "3 0.413                                   2.839              \n",
       "4 0.170                                   2.967              \n",
       "5 0.384                                   2.798              \n",
       "6 0.427                                   2.580              "
      ]
     },
     "metadata": {},
     "output_type": "display_data"
    }
   ],
   "source": [
    "happ_2021 <- read.csv(\"world-happiness-report-2021.csv\")\n",
    "head(happ_2021)"
   ]
  },
  {
   "cell_type": "code",
   "execution_count": 13,
   "metadata": {},
   "outputs": [],
   "source": [
    "happ_2021 <- happ_2021[, -c(2,4,5,6,13,14,15,16,17,18,19)] #dropping unnecessary columns"
   ]
  },
  {
   "cell_type": "code",
   "execution_count": 14,
   "metadata": {},
   "outputs": [],
   "source": [
    "#Renaming columns for convenience\n",
    "happ_2021 <- happ_2021 %>% rename(c(\"Country\" = \"ï..Country.name\" ,\n",
    "                      \"Score\" = \"Ladder.score\",\n",
    "                      \"GDP\" = \"Logged.GDP.per.capita\", \n",
    "                      \"Family\" = \"Social.support\",\n",
    "                      \"Health\" = \"Healthy.life.expectancy\", \n",
    "                      \"Freedom\" = \"Freedom.to.make.life.choices\",\n",
    "                      \"Corruption\" = \"Perceptions.of.corruption\"))"
   ]
  },
  {
   "cell_type": "code",
   "execution_count": 15,
   "metadata": {},
   "outputs": [
    {
     "data": {
      "text/html": [
       "<table class=\"dataframe\">\n",
       "<caption>A data.frame: 6 × 9</caption>\n",
       "<thead>\n",
       "\t<tr><th></th><th scope=col>Country</th><th scope=col>Score</th><th scope=col>GDP</th><th scope=col>Family</th><th scope=col>Health</th><th scope=col>Freedom</th><th scope=col>Generosity</th><th scope=col>Corruption</th><th scope=col>Dystopia...residual</th></tr>\n",
       "\t<tr><th></th><th scope=col>&lt;chr&gt;</th><th scope=col>&lt;dbl&gt;</th><th scope=col>&lt;dbl&gt;</th><th scope=col>&lt;dbl&gt;</th><th scope=col>&lt;dbl&gt;</th><th scope=col>&lt;dbl&gt;</th><th scope=col>&lt;dbl&gt;</th><th scope=col>&lt;dbl&gt;</th><th scope=col>&lt;dbl&gt;</th></tr>\n",
       "</thead>\n",
       "<tbody>\n",
       "\t<tr><th scope=row>1</th><td>Finland    </td><td>7.842</td><td>10.775</td><td>0.954</td><td>72.0</td><td>0.949</td><td>-0.098</td><td>0.186</td><td>3.253</td></tr>\n",
       "\t<tr><th scope=row>2</th><td>Denmark    </td><td>7.620</td><td>10.933</td><td>0.954</td><td>72.7</td><td>0.946</td><td> 0.030</td><td>0.179</td><td>2.868</td></tr>\n",
       "\t<tr><th scope=row>3</th><td>Switzerland</td><td>7.571</td><td>11.117</td><td>0.942</td><td>74.4</td><td>0.919</td><td> 0.025</td><td>0.292</td><td>2.839</td></tr>\n",
       "\t<tr><th scope=row>4</th><td>Iceland    </td><td>7.554</td><td>10.878</td><td>0.983</td><td>73.0</td><td>0.955</td><td> 0.160</td><td>0.673</td><td>2.967</td></tr>\n",
       "\t<tr><th scope=row>5</th><td>Netherlands</td><td>7.464</td><td>10.932</td><td>0.942</td><td>72.4</td><td>0.913</td><td> 0.175</td><td>0.338</td><td>2.798</td></tr>\n",
       "\t<tr><th scope=row>6</th><td>Norway     </td><td>7.392</td><td>11.053</td><td>0.954</td><td>73.3</td><td>0.960</td><td> 0.093</td><td>0.270</td><td>2.580</td></tr>\n",
       "</tbody>\n",
       "</table>\n"
      ],
      "text/latex": [
       "A data.frame: 6 × 9\n",
       "\\begin{tabular}{r|lllllllll}\n",
       "  & Country & Score & GDP & Family & Health & Freedom & Generosity & Corruption & Dystopia...residual\\\\\n",
       "  & <chr> & <dbl> & <dbl> & <dbl> & <dbl> & <dbl> & <dbl> & <dbl> & <dbl>\\\\\n",
       "\\hline\n",
       "\t1 & Finland     & 7.842 & 10.775 & 0.954 & 72.0 & 0.949 & -0.098 & 0.186 & 3.253\\\\\n",
       "\t2 & Denmark     & 7.620 & 10.933 & 0.954 & 72.7 & 0.946 &  0.030 & 0.179 & 2.868\\\\\n",
       "\t3 & Switzerland & 7.571 & 11.117 & 0.942 & 74.4 & 0.919 &  0.025 & 0.292 & 2.839\\\\\n",
       "\t4 & Iceland     & 7.554 & 10.878 & 0.983 & 73.0 & 0.955 &  0.160 & 0.673 & 2.967\\\\\n",
       "\t5 & Netherlands & 7.464 & 10.932 & 0.942 & 72.4 & 0.913 &  0.175 & 0.338 & 2.798\\\\\n",
       "\t6 & Norway      & 7.392 & 11.053 & 0.954 & 73.3 & 0.960 &  0.093 & 0.270 & 2.580\\\\\n",
       "\\end{tabular}\n"
      ],
      "text/markdown": [
       "\n",
       "A data.frame: 6 × 9\n",
       "\n",
       "| <!--/--> | Country &lt;chr&gt; | Score &lt;dbl&gt; | GDP &lt;dbl&gt; | Family &lt;dbl&gt; | Health &lt;dbl&gt; | Freedom &lt;dbl&gt; | Generosity &lt;dbl&gt; | Corruption &lt;dbl&gt; | Dystopia...residual &lt;dbl&gt; |\n",
       "|---|---|---|---|---|---|---|---|---|---|\n",
       "| 1 | Finland     | 7.842 | 10.775 | 0.954 | 72.0 | 0.949 | -0.098 | 0.186 | 3.253 |\n",
       "| 2 | Denmark     | 7.620 | 10.933 | 0.954 | 72.7 | 0.946 |  0.030 | 0.179 | 2.868 |\n",
       "| 3 | Switzerland | 7.571 | 11.117 | 0.942 | 74.4 | 0.919 |  0.025 | 0.292 | 2.839 |\n",
       "| 4 | Iceland     | 7.554 | 10.878 | 0.983 | 73.0 | 0.955 |  0.160 | 0.673 | 2.967 |\n",
       "| 5 | Netherlands | 7.464 | 10.932 | 0.942 | 72.4 | 0.913 |  0.175 | 0.338 | 2.798 |\n",
       "| 6 | Norway      | 7.392 | 11.053 | 0.954 | 73.3 | 0.960 |  0.093 | 0.270 | 2.580 |\n",
       "\n"
      ],
      "text/plain": [
       "  Country     Score GDP    Family Health Freedom Generosity Corruption\n",
       "1 Finland     7.842 10.775 0.954  72.0   0.949   -0.098     0.186     \n",
       "2 Denmark     7.620 10.933 0.954  72.7   0.946    0.030     0.179     \n",
       "3 Switzerland 7.571 11.117 0.942  74.4   0.919    0.025     0.292     \n",
       "4 Iceland     7.554 10.878 0.983  73.0   0.955    0.160     0.673     \n",
       "5 Netherlands 7.464 10.932 0.942  72.4   0.913    0.175     0.338     \n",
       "6 Norway      7.392 11.053 0.954  73.3   0.960    0.093     0.270     \n",
       "  Dystopia...residual\n",
       "1 3.253              \n",
       "2 2.868              \n",
       "3 2.839              \n",
       "4 2.967              \n",
       "5 2.798              \n",
       "6 2.580              "
      ]
     },
     "metadata": {},
     "output_type": "display_data"
    }
   ],
   "source": [
    "head(happ_2021)"
   ]
  },
  {
   "cell_type": "code",
   "execution_count": 16,
   "metadata": {},
   "outputs": [
    {
     "data": {
      "text/html": [
       "<table class=\"dataframe\">\n",
       "<caption>A data.frame: 6 × 10</caption>\n",
       "<thead>\n",
       "\t<tr><th></th><th scope=col>Rank</th><th scope=col>Country</th><th scope=col>Score</th><th scope=col>GDP</th><th scope=col>Family</th><th scope=col>Health</th><th scope=col>Freedom</th><th scope=col>Generosity</th><th scope=col>Corruption</th><th scope=col>Dystopia...residual</th></tr>\n",
       "\t<tr><th></th><th scope=col>&lt;int&gt;</th><th scope=col>&lt;chr&gt;</th><th scope=col>&lt;dbl&gt;</th><th scope=col>&lt;dbl&gt;</th><th scope=col>&lt;dbl&gt;</th><th scope=col>&lt;dbl&gt;</th><th scope=col>&lt;dbl&gt;</th><th scope=col>&lt;dbl&gt;</th><th scope=col>&lt;dbl&gt;</th><th scope=col>&lt;dbl&gt;</th></tr>\n",
       "</thead>\n",
       "<tbody>\n",
       "\t<tr><th scope=row>1</th><td>1</td><td>Finland    </td><td>7.842</td><td>10.775</td><td>0.954</td><td>72.0</td><td>0.949</td><td>-0.098</td><td>0.186</td><td>3.253</td></tr>\n",
       "\t<tr><th scope=row>2</th><td>2</td><td>Denmark    </td><td>7.620</td><td>10.933</td><td>0.954</td><td>72.7</td><td>0.946</td><td> 0.030</td><td>0.179</td><td>2.868</td></tr>\n",
       "\t<tr><th scope=row>3</th><td>3</td><td>Switzerland</td><td>7.571</td><td>11.117</td><td>0.942</td><td>74.4</td><td>0.919</td><td> 0.025</td><td>0.292</td><td>2.839</td></tr>\n",
       "\t<tr><th scope=row>4</th><td>4</td><td>Iceland    </td><td>7.554</td><td>10.878</td><td>0.983</td><td>73.0</td><td>0.955</td><td> 0.160</td><td>0.673</td><td>2.967</td></tr>\n",
       "\t<tr><th scope=row>5</th><td>5</td><td>Netherlands</td><td>7.464</td><td>10.932</td><td>0.942</td><td>72.4</td><td>0.913</td><td> 0.175</td><td>0.338</td><td>2.798</td></tr>\n",
       "\t<tr><th scope=row>6</th><td>6</td><td>Norway     </td><td>7.392</td><td>11.053</td><td>0.954</td><td>73.3</td><td>0.960</td><td> 0.093</td><td>0.270</td><td>2.580</td></tr>\n",
       "</tbody>\n",
       "</table>\n"
      ],
      "text/latex": [
       "A data.frame: 6 × 10\n",
       "\\begin{tabular}{r|llllllllll}\n",
       "  & Rank & Country & Score & GDP & Family & Health & Freedom & Generosity & Corruption & Dystopia...residual\\\\\n",
       "  & <int> & <chr> & <dbl> & <dbl> & <dbl> & <dbl> & <dbl> & <dbl> & <dbl> & <dbl>\\\\\n",
       "\\hline\n",
       "\t1 & 1 & Finland     & 7.842 & 10.775 & 0.954 & 72.0 & 0.949 & -0.098 & 0.186 & 3.253\\\\\n",
       "\t2 & 2 & Denmark     & 7.620 & 10.933 & 0.954 & 72.7 & 0.946 &  0.030 & 0.179 & 2.868\\\\\n",
       "\t3 & 3 & Switzerland & 7.571 & 11.117 & 0.942 & 74.4 & 0.919 &  0.025 & 0.292 & 2.839\\\\\n",
       "\t4 & 4 & Iceland     & 7.554 & 10.878 & 0.983 & 73.0 & 0.955 &  0.160 & 0.673 & 2.967\\\\\n",
       "\t5 & 5 & Netherlands & 7.464 & 10.932 & 0.942 & 72.4 & 0.913 &  0.175 & 0.338 & 2.798\\\\\n",
       "\t6 & 6 & Norway      & 7.392 & 11.053 & 0.954 & 73.3 & 0.960 &  0.093 & 0.270 & 2.580\\\\\n",
       "\\end{tabular}\n"
      ],
      "text/markdown": [
       "\n",
       "A data.frame: 6 × 10\n",
       "\n",
       "| <!--/--> | Rank &lt;int&gt; | Country &lt;chr&gt; | Score &lt;dbl&gt; | GDP &lt;dbl&gt; | Family &lt;dbl&gt; | Health &lt;dbl&gt; | Freedom &lt;dbl&gt; | Generosity &lt;dbl&gt; | Corruption &lt;dbl&gt; | Dystopia...residual &lt;dbl&gt; |\n",
       "|---|---|---|---|---|---|---|---|---|---|---|\n",
       "| 1 | 1 | Finland     | 7.842 | 10.775 | 0.954 | 72.0 | 0.949 | -0.098 | 0.186 | 3.253 |\n",
       "| 2 | 2 | Denmark     | 7.620 | 10.933 | 0.954 | 72.7 | 0.946 |  0.030 | 0.179 | 2.868 |\n",
       "| 3 | 3 | Switzerland | 7.571 | 11.117 | 0.942 | 74.4 | 0.919 |  0.025 | 0.292 | 2.839 |\n",
       "| 4 | 4 | Iceland     | 7.554 | 10.878 | 0.983 | 73.0 | 0.955 |  0.160 | 0.673 | 2.967 |\n",
       "| 5 | 5 | Netherlands | 7.464 | 10.932 | 0.942 | 72.4 | 0.913 |  0.175 | 0.338 | 2.798 |\n",
       "| 6 | 6 | Norway      | 7.392 | 11.053 | 0.954 | 73.3 | 0.960 |  0.093 | 0.270 | 2.580 |\n",
       "\n"
      ],
      "text/plain": [
       "  Rank Country     Score GDP    Family Health Freedom Generosity Corruption\n",
       "1 1    Finland     7.842 10.775 0.954  72.0   0.949   -0.098     0.186     \n",
       "2 2    Denmark     7.620 10.933 0.954  72.7   0.946    0.030     0.179     \n",
       "3 3    Switzerland 7.571 11.117 0.942  74.4   0.919    0.025     0.292     \n",
       "4 4    Iceland     7.554 10.878 0.983  73.0   0.955    0.160     0.673     \n",
       "5 5    Netherlands 7.464 10.932 0.942  72.4   0.913    0.175     0.338     \n",
       "6 6    Norway      7.392 11.053 0.954  73.3   0.960    0.093     0.270     \n",
       "  Dystopia...residual\n",
       "1 3.253              \n",
       "2 2.868              \n",
       "3 2.839              \n",
       "4 2.967              \n",
       "5 2.798              \n",
       "6 2.580              "
      ]
     },
     "metadata": {},
     "output_type": "display_data"
    }
   ],
   "source": [
    "happ_2021 <- happ_2021 %>% mutate(Rank = row_number())\n",
    "happ_2021 <- happ_2021 %>% select(Rank, Country, everything())\n",
    "head(happ_2021)"
   ]
  },
  {
   "cell_type": "markdown",
   "metadata": {},
   "source": [
    "<b> Correlation matrix </b> <br>\n",
    "To find out which factors correlate the most with the happiness quotient"
   ]
  },
  {
   "cell_type": "code",
   "execution_count": 17,
   "metadata": {},
   "outputs": [
    {
     "name": "stdout",
     "output_type": "stream",
     "text": [
      "                           Rank       Score         GDP      Family     Health\n",
      "Rank                 1.00000000 -0.98426526 -0.79698747 -0.75102401 -0.7759416\n",
      "Score               -0.98426526  1.00000000  0.78975970  0.75688765  0.7680995\n",
      "GDP                 -0.79698747  0.78975970  1.00000000  0.78529868  0.8594606\n",
      "Family              -0.75102401  0.75688765  0.78529868  1.00000000  0.7232561\n",
      "Health              -0.77594156  0.76809946  0.85946062  0.72325613  1.0000000\n",
      "Freedom             -0.60641135  0.60775307  0.43232349  0.48292977  0.4614939\n",
      "Generosity           0.03966234 -0.01779928 -0.19928640 -0.11494585 -0.1617503\n",
      "Corruption           0.40065425 -0.42114000 -0.34233742 -0.20320698 -0.3643735\n",
      "Dystopia...residual -0.46354759  0.49200990 -0.04111918  0.00668051 -0.0234329\n",
      "                       Freedom  Generosity  Corruption Dystopia...residual\n",
      "Rank                -0.6064113  0.03966234  0.40065425         -0.46354759\n",
      "Score                0.6077531 -0.01779928 -0.42114000          0.49200990\n",
      "GDP                  0.4323235 -0.19928640 -0.34233742         -0.04111918\n",
      "Family               0.4829298 -0.11494585 -0.20320698          0.00668051\n",
      "Health               0.4614939 -0.16175028 -0.36437353         -0.02343290\n",
      "Freedom              1.0000000  0.16943737 -0.40136297          0.10024227\n",
      "Generosity           0.1694374  1.00000000 -0.16396173         -0.02721188\n",
      "Corruption          -0.4013630 -0.16396173  1.00000000          0.00447841\n",
      "Dystopia...residual  0.1002423 -0.02721188  0.00447841          1.00000000\n"
     ]
    }
   ],
   "source": [
    "library(corrgram) \n",
    "library(corrplot)\n",
    "\n",
    "#library(rpart) \n",
    "\n",
    "#library(ggplot2) \n",
    "#library(ggthemes) \n",
    "num.cols <- sapply(happ_2021,is.numeric) \n",
    "cor.data <- cor(happ_2021[,num.cols]) \n",
    "print(cor.data)"
   ]
  },
  {
   "cell_type": "code",
   "execution_count": 18,
   "metadata": {},
   "outputs": [
    {
     "name": "stdout",
     "output_type": "stream",
     "text": [
      "                           Rank       Score         GDP      Family     Health\n",
      "Rank                 1.00000000 -0.98426526 -0.79698747 -0.75102401 -0.7759416\n",
      "Score               -0.98426526  1.00000000  0.78975970  0.75688765  0.7680995\n",
      "GDP                 -0.79698747  0.78975970  1.00000000  0.78529868  0.8594606\n",
      "Family              -0.75102401  0.75688765  0.78529868  1.00000000  0.7232561\n",
      "Health              -0.77594156  0.76809946  0.85946062  0.72325613  1.0000000\n",
      "Freedom             -0.60641135  0.60775307  0.43232349  0.48292977  0.4614939\n",
      "Generosity           0.03966234 -0.01779928 -0.19928640 -0.11494585 -0.1617503\n",
      "Corruption           0.40065425 -0.42114000 -0.34233742 -0.20320698 -0.3643735\n",
      "Dystopia...residual -0.46354759  0.49200990 -0.04111918  0.00668051 -0.0234329\n",
      "                       Freedom  Generosity  Corruption Dystopia...residual\n",
      "Rank                -0.6064113  0.03966234  0.40065425         -0.46354759\n",
      "Score                0.6077531 -0.01779928 -0.42114000          0.49200990\n",
      "GDP                  0.4323235 -0.19928640 -0.34233742         -0.04111918\n",
      "Family               0.4829298 -0.11494585 -0.20320698          0.00668051\n",
      "Health               0.4614939 -0.16175028 -0.36437353         -0.02343290\n",
      "Freedom              1.0000000  0.16943737 -0.40136297          0.10024227\n",
      "Generosity           0.1694374  1.00000000 -0.16396173         -0.02721188\n",
      "Corruption          -0.4013630 -0.16396173  1.00000000          0.00447841\n",
      "Dystopia...residual  0.1002423 -0.02721188  0.00447841          1.00000000\n"
     ]
    },
    {
     "data": {
      "image/png": "[encoded data removed]",
      "text/plain": [
       "Plot with title \"\""
      ]
     },
     "metadata": {
      "image/png": {
       "height": 420,
       "width": 420
      }
     },
     "output_type": "display_data"
    }
   ],
   "source": [
    "print(corrplot(cor.data, method = 'color'))"
   ]
  },
  {
   "cell_type": "markdown",
   "metadata": {},
   "source": [
    "Hence, happiness most strongly correlates with the attributes of GDP, Health, Social Support(Family) and Freedom."
   ]
  },
  {
   "cell_type": "code",
   "execution_count": 19,
   "metadata": {},
   "outputs": [
    {
     "data": {
      "text/html": [
       "<table class=\"dataframe\">\n",
       "<caption>A data.frame: 6 × 11</caption>\n",
       "<thead>\n",
       "\t<tr><th></th><th scope=col>Rank</th><th scope=col>Country</th><th scope=col>Score</th><th scope=col>GDP</th><th scope=col>Family</th><th scope=col>Health</th><th scope=col>Freedom</th><th scope=col>Generosity</th><th scope=col>Corruption</th><th scope=col>Dystopia...residual</th><th scope=col>Continent</th></tr>\n",
       "\t<tr><th></th><th scope=col>&lt;int&gt;</th><th scope=col>&lt;chr&gt;</th><th scope=col>&lt;dbl&gt;</th><th scope=col>&lt;dbl&gt;</th><th scope=col>&lt;dbl&gt;</th><th scope=col>&lt;dbl&gt;</th><th scope=col>&lt;dbl&gt;</th><th scope=col>&lt;dbl&gt;</th><th scope=col>&lt;dbl&gt;</th><th scope=col>&lt;dbl&gt;</th><th scope=col>&lt;fct&gt;</th></tr>\n",
       "</thead>\n",
       "<tbody>\n",
       "\t<tr><th scope=row>1</th><td>1</td><td>Finland    </td><td>7.842</td><td>10.775</td><td>0.954</td><td>72.0</td><td>0.949</td><td>-0.098</td><td>0.186</td><td>3.253</td><td>Europe</td></tr>\n",
       "\t<tr><th scope=row>2</th><td>2</td><td>Denmark    </td><td>7.620</td><td>10.933</td><td>0.954</td><td>72.7</td><td>0.946</td><td> 0.030</td><td>0.179</td><td>2.868</td><td>Europe</td></tr>\n",
       "\t<tr><th scope=row>3</th><td>3</td><td>Switzerland</td><td>7.571</td><td>11.117</td><td>0.942</td><td>74.4</td><td>0.919</td><td> 0.025</td><td>0.292</td><td>2.839</td><td>Europe</td></tr>\n",
       "\t<tr><th scope=row>4</th><td>4</td><td>Iceland    </td><td>7.554</td><td>10.878</td><td>0.983</td><td>73.0</td><td>0.955</td><td> 0.160</td><td>0.673</td><td>2.967</td><td>Europe</td></tr>\n",
       "\t<tr><th scope=row>5</th><td>5</td><td>Netherlands</td><td>7.464</td><td>10.932</td><td>0.942</td><td>72.4</td><td>0.913</td><td> 0.175</td><td>0.338</td><td>2.798</td><td>Europe</td></tr>\n",
       "\t<tr><th scope=row>6</th><td>6</td><td>Norway     </td><td>7.392</td><td>11.053</td><td>0.954</td><td>73.3</td><td>0.960</td><td> 0.093</td><td>0.270</td><td>2.580</td><td>Europe</td></tr>\n",
       "</tbody>\n",
       "</table>\n"
      ],
      "text/latex": [
       "A data.frame: 6 × 11\n",
       "\\begin{tabular}{r|lllllllllll}\n",
       "  & Rank & Country & Score & GDP & Family & Health & Freedom & Generosity & Corruption & Dystopia...residual & Continent\\\\\n",
       "  & <int> & <chr> & <dbl> & <dbl> & <dbl> & <dbl> & <dbl> & <dbl> & <dbl> & <dbl> & <fct>\\\\\n",
       "\\hline\n",
       "\t1 & 1 & Finland     & 7.842 & 10.775 & 0.954 & 72.0 & 0.949 & -0.098 & 0.186 & 3.253 & Europe\\\\\n",
       "\t2 & 2 & Denmark     & 7.620 & 10.933 & 0.954 & 72.7 & 0.946 &  0.030 & 0.179 & 2.868 & Europe\\\\\n",
       "\t3 & 3 & Switzerland & 7.571 & 11.117 & 0.942 & 74.4 & 0.919 &  0.025 & 0.292 & 2.839 & Europe\\\\\n",
       "\t4 & 4 & Iceland     & 7.554 & 10.878 & 0.983 & 73.0 & 0.955 &  0.160 & 0.673 & 2.967 & Europe\\\\\n",
       "\t5 & 5 & Netherlands & 7.464 & 10.932 & 0.942 & 72.4 & 0.913 &  0.175 & 0.338 & 2.798 & Europe\\\\\n",
       "\t6 & 6 & Norway      & 7.392 & 11.053 & 0.954 & 73.3 & 0.960 &  0.093 & 0.270 & 2.580 & Europe\\\\\n",
       "\\end{tabular}\n"
      ],
      "text/markdown": [
       "\n",
       "A data.frame: 6 × 11\n",
       "\n",
       "| <!--/--> | Rank &lt;int&gt; | Country &lt;chr&gt; | Score &lt;dbl&gt; | GDP &lt;dbl&gt; | Family &lt;dbl&gt; | Health &lt;dbl&gt; | Freedom &lt;dbl&gt; | Generosity &lt;dbl&gt; | Corruption &lt;dbl&gt; | Dystopia...residual &lt;dbl&gt; | Continent &lt;fct&gt; |\n",
       "|---|---|---|---|---|---|---|---|---|---|---|---|\n",
       "| 1 | 1 | Finland     | 7.842 | 10.775 | 0.954 | 72.0 | 0.949 | -0.098 | 0.186 | 3.253 | Europe |\n",
       "| 2 | 2 | Denmark     | 7.620 | 10.933 | 0.954 | 72.7 | 0.946 |  0.030 | 0.179 | 2.868 | Europe |\n",
       "| 3 | 3 | Switzerland | 7.571 | 11.117 | 0.942 | 74.4 | 0.919 |  0.025 | 0.292 | 2.839 | Europe |\n",
       "| 4 | 4 | Iceland     | 7.554 | 10.878 | 0.983 | 73.0 | 0.955 |  0.160 | 0.673 | 2.967 | Europe |\n",
       "| 5 | 5 | Netherlands | 7.464 | 10.932 | 0.942 | 72.4 | 0.913 |  0.175 | 0.338 | 2.798 | Europe |\n",
       "| 6 | 6 | Norway      | 7.392 | 11.053 | 0.954 | 73.3 | 0.960 |  0.093 | 0.270 | 2.580 | Europe |\n",
       "\n"
      ],
      "text/plain": [
       "  Rank Country     Score GDP    Family Health Freedom Generosity Corruption\n",
       "1 1    Finland     7.842 10.775 0.954  72.0   0.949   -0.098     0.186     \n",
       "2 2    Denmark     7.620 10.933 0.954  72.7   0.946    0.030     0.179     \n",
       "3 3    Switzerland 7.571 11.117 0.942  74.4   0.919    0.025     0.292     \n",
       "4 4    Iceland     7.554 10.878 0.983  73.0   0.955    0.160     0.673     \n",
       "5 5    Netherlands 7.464 10.932 0.942  72.4   0.913    0.175     0.338     \n",
       "6 6    Norway      7.392 11.053 0.954  73.3   0.960    0.093     0.270     \n",
       "  Dystopia...residual Continent\n",
       "1 3.253               Europe   \n",
       "2 2.868               Europe   \n",
       "3 2.839               Europe   \n",
       "4 2.967               Europe   \n",
       "5 2.798               Europe   \n",
       "6 2.580               Europe   "
      ]
     },
     "metadata": {},
     "output_type": "display_data"
    },
    {
     "name": "stdout",
     "output_type": "stream",
     "text": [
      "'data.frame':\t149 obs. of  11 variables:\n",
      " $ Rank               : int  1 2 3 4 5 6 7 8 9 10 ...\n",
      " $ Country            : chr  \"Finland\" \"Denmark\" \"Switzerland\" \"Iceland\" ...\n",
      " $ Score              : num  7.84 7.62 7.57 7.55 7.46 ...\n",
      " $ GDP                : num  10.8 10.9 11.1 10.9 10.9 ...\n",
      " $ Family             : num  0.954 0.954 0.942 0.983 0.942 0.954 0.934 0.908 0.948 0.934 ...\n",
      " $ Health             : num  72 72.7 74.4 73 72.4 73.3 72.7 72.6 73.4 73.3 ...\n",
      " $ Freedom            : num  0.949 0.946 0.919 0.955 0.913 0.96 0.945 0.907 0.929 0.908 ...\n",
      " $ Generosity         : num  -0.098 0.03 0.025 0.16 0.175 0.093 0.086 -0.034 0.134 0.042 ...\n",
      " $ Corruption         : num  0.186 0.179 0.292 0.673 0.338 0.27 0.237 0.386 0.242 0.481 ...\n",
      " $ Dystopia...residual: num  3.25 2.87 2.84 2.97 2.8 ...\n",
      " $ Continent          : Factor w/ 6 levels \"Africa\",\"Asia\",..: 4 4 4 4 4 4 4 4 3 4 ...\n"
     ]
    }
   ],
   "source": [
    "# Creating a new column for continents\n",
    "\n",
    "happ_2021$Continent <- NA\n",
    "\n",
    "happ_2021$Continent[which(happ_2021$Country %in% c(\"Israel\", \"United Arab Emirates\", \"Singapore\", \"Thailand\", \"Taiwan Province of China\",\n",
    "                                   \"Qatar\", \"Saudi Arabia\", \"Kuwait\", \"Bahrain\", \"Malaysia\", \"Uzbekistan\", \"Japan\",\n",
    "                                   \"South Korea\", \"Turkmenistan\", \"Kazakhstan\", \"Turkey\", \"Hong Kong S.A.R., China\", \"Philippines\",\n",
    "                                   \"Jordan\", \"China\", \"Pakistan\", \"Indonesia\", \"Azerbaijan\", \"Lebanon\", \"Vietnam\",\n",
    "                                   \"Tajikistan\", \"Bhutan\", \"Kyrgyzstan\", \"Nepal\", \"Mongolia\", \"Palestinian Territories\",\n",
    "                                   \"Iran\", \"Bangladesh\", \"Myanmar\", \"Iraq\", \"Sri Lanka\", \"Armenia\", \"India\", \"Georgia\",\n",
    "                                   \"Cambodia\", \"Afghanistan\", \"Yemen\", \"Syria\"))] <- \"Asia\"\n",
    "happ_2021$Continent[which(happ_2021$Country %in% c(\"Norway\", \"Denmark\", \"Iceland\", \"Switzerland\", \"Finland\",\n",
    "                                   \"Netherlands\", \"Sweden\", \"Austria\", \"Ireland\", \"Germany\",\n",
    "                                   \"Belgium\", \"Luxembourg\", \"United Kingdom\", \"Czech Republic\",\n",
    "                                   \"Malta\", \"France\", \"Spain\", \"Slovakia\", \"Poland\", \"Italy\",\n",
    "                                   \"Russia\", \"Lithuania\", \"Latvia\", \"Moldova\", \"Romania\",\n",
    "                                   \"Slovenia\", \"North Cyprus\", \"Cyprus\", \"Estonia\", \"Belarus\",\n",
    "                                   \"Serbia\", \"Hungary\", \"Croatia\", \"Kosovo\", \"Montenegro\",\n",
    "                                   \"Greece\", \"Portugal\", \"Bosnia and Herzegovina\", \"Macedonia\",\n",
    "                                   \"Bulgaria\", \"Albania\", \"Ukraine\"))] <- \"Europe\"\n",
    "happ_2021$Continent[which(happ_2021$Country %in% c(\"Canada\", \"Costa Rica\", \"United States\", \"Mexico\",  \n",
    "                                   \"Panama\",\"Trinidad and Tobago\", \"El Salvador\", \"Belize\", \"Guatemala\",\n",
    "                                   \"Jamaica\", \"Nicaragua\", \"Dominican Republic\", \"Honduras\",\n",
    "                                   \"Haiti\"))] <- \"North America\"\n",
    "happ_2021$Continent[which(happ_2021$Country %in% c(\"Chile\", \"Brazil\", \"Argentina\", \"Uruguay\",\n",
    "                                   \"Colombia\", \"Ecuador\", \"Bolivia\", \"Peru\",\n",
    "                                   \"Paraguay\", \"Venezuela\"))] <- \"South America\"\n",
    "happ_2021$Continent[which(happ_2021$Country %in% c(\"New Zealand\", \"Australia\"))] <- \"Australia\"\n",
    "happ_2021$Continent[which(is.na(happ_2021$Continent))] <- \"Africa\"\n",
    "\n",
    "\n",
    "# Changing Continent column to factor\n",
    "\n",
    "happ_2021$Continent <- as.factor(happ_2021$Continent)\n",
    "\n",
    "head(happ_2021)\n",
    "str(happ_2021)"
   ]
  },
  {
   "cell_type": "code",
   "execution_count": 20,
   "metadata": {},
   "outputs": [
    {
     "data": {
      "image/png": "[encoded data removed]",
      "text/plain": [
       "plot without title"
      ]
     },
     "metadata": {
      "image/png": {
       "height": 480,
       "width": 600
      }
     },
     "output_type": "display_data"
    }
   ],
   "source": [
    "options(repr.plot.width=10, repr.plot.height=8)\n",
    "gg1 <- ggplot(happ_2021,\n",
    "              aes(x=Continent,\n",
    "                  y=Score,\n",
    "                  color=Continent))+\n",
    "  geom_point() + theme_bw() \n",
    "gg1"
   ]
  },
  {
   "cell_type": "markdown",
   "metadata": {},
   "source": [
    "<b> Prediction </b> <br>\n",
    "Splitting dataset to training and testing datasets and using Linear Regression to predict the dependent variable for a country (Happiness Score)"
   ]
  },
  {
   "cell_type": "code",
   "execution_count": 21,
   "metadata": {},
   "outputs": [],
   "source": [
    "library(caTools)\n",
    "set.seed(123)\n",
    "dataset <- happ_2021[3:10] #relevant columns into training\n",
    "split = sample.split(dataset$Score, SplitRatio = 0.7) #splitting\n",
    "training_set = subset(dataset, split == TRUE) #training set\n",
    "test_set = subset(dataset, split == FALSE) #test set"
   ]
  },
  {
   "cell_type": "code",
   "execution_count": 22,
   "metadata": {},
   "outputs": [
    {
     "data": {
      "text/plain": [
       "\n",
       "Call:\n",
       "lm(formula = Score ~ ., data = training_set)\n",
       "\n",
       "Residuals:\n",
       "       Min         1Q     Median         3Q        Max \n",
       "-0.0019526 -0.0005332 -0.0001061  0.0005323  0.0020082 \n",
       "\n",
       "Coefficients:\n",
       "                      Estimate Std. Error t value Pr(>|t|)    \n",
       "(Intercept)         -4.563e+00  1.203e-03   -3792   <2e-16 ***\n",
       "GDP                  3.494e-01  1.557e-04    2244   <2e-16 ***\n",
       "Family               2.252e+00  1.232e-03    1828   <2e-16 ***\n",
       "Health               3.147e-02  2.359e-05    1334   <2e-16 ***\n",
       "Freedom              1.219e+00  9.658e-04    1262   <2e-16 ***\n",
       "Generosity           6.518e-01  5.931e-04    1099   <2e-16 ***\n",
       "Corruption          -6.386e-01  5.500e-04   -1161   <2e-16 ***\n",
       "Dystopia...residual  9.999e-01  1.530e-04    6535   <2e-16 ***\n",
       "---\n",
       "Signif. codes:  0 '***' 0.001 '**' 0.01 '*' 0.05 '.' 0.1 ' ' 1\n",
       "\n",
       "Residual standard error: 0.0008327 on 96 degrees of freedom\n",
       "Multiple R-squared:      1,\tAdjusted R-squared:      1 \n",
       "F-statistic: 2.448e+07 on 7 and 96 DF,  p-value: < 2.2e-16\n"
      ]
     },
     "metadata": {},
     "output_type": "display_data"
    }
   ],
   "source": [
    "regressor_lm = lm(formula = Score ~ .,\n",
    "               data = training_set)\n",
    "\n",
    "summary(regressor_lm) "
   ]
  },
  {
   "cell_type": "markdown",
   "metadata": {},
   "source": [
    "An adjusted R-squared of 1 is obtained. The Multiple Linear Regression predicts happiness scores with an accuracy of 100%."
   ]
  },
  {
   "cell_type": "code",
   "execution_count": 24,
   "metadata": {},
   "outputs": [
    {
     "data": {
      "image/png": "[encoded data removed]",
      "text/plain": [
       "plot without title"
      ]
     },
     "metadata": {
      "image/png": {
       "height": 480,
       "width": 600
      }
     },
     "output_type": "display_data"
    }
   ],
   "source": [
    "y_pred_lm = predict(regressor_lm, newdata = test_set)\n",
    "\n",
    "Pred_Actual_lm <- as.data.frame(cbind(Prediction = y_pred_lm, Actual = test_set$Score))\n",
    "\n",
    "gg.lm <- ggplot(Pred_Actual_lm, aes(Actual, Prediction )) +\n",
    "  geom_point() + theme_bw() + geom_abline() +\n",
    "  labs(title = \"Multiple Linear Regression\", x = \"Actual happiness score\",\n",
    "       y = \"Predicted happiness score\")\n",
    "\n",
    "gg.lm"
   ]
  },
  {
   "cell_type": "code",
   "execution_count": 25,
   "metadata": {},
   "outputs": [
    {
     "name": "stdout",
     "output_type": "stream",
     "text": [
      "[1] \"Mean Squared Error (Multiple Linear Regression): 0\"\n"
     ]
    }
   ],
   "source": [
    "MSE.lm <- sum((test_set$Happiness.Score - y_pred_lm)^2)/nrow(test_set)\n",
    "print(paste(\"Mean Squared Error (Multiple Linear Regression):\", MSE.lm))"
   ]
  },
  {
   "cell_type": "code",
   "execution_count": 26,
   "metadata": {},
   "outputs": [
    {
     "name": "stdout",
     "output_type": "stream",
     "text": [
      "[1] \"Happiness Score:  6.45\"\n"
     ]
    }
   ],
   "source": [
    "test1 <- data.frame(GDP = 10.555,\n",
    "                  Family = 0.867,\n",
    "                  Health = 71.02,\n",
    "                  Freedom = 0.923,\n",
    "                  Generosity = 0.021,\n",
    "                  Corruption = 0.723,\n",
    "                  Dystopia...residual = 2.463)\n",
    "print(paste(\"Happiness Score: \", round(predict(regressor_lm, test1), 2)))"
   ]
  },
  {
   "cell_type": "markdown",
   "metadata": {},
   "source": [
    "On providing the above test inputs, the model predicts this set's Happiness Score to be 6.45 which would put this sample country somewhere in the top 30 happiest countries in the current scenario. "
   ]
  },
  {
   "cell_type": "code",
   "execution_count": 27,
   "metadata": {},
   "outputs": [
    {
     "data": {
      "image/png": "[encoded data removed]",
      "text/plain": [
       "plot without title"
      ]
     },
     "metadata": {
      "image/png": {
       "height": 360,
       "width": 480
      }
     },
     "output_type": "display_data"
    }
   ],
   "source": [
    "options(repr.plot.width=8, repr.plot.height=6)\n",
    "\n",
    "ggplot(happ_2021[1:10,], aes(x = reorder(Country, Score), y=Score, fill = Country)) +  ggtitle(\"Top 10 happiest countries in 2021\", subtitle = \"9 of the happiest countries are in Europe\") + geom_bar(stat=\"identity\", width=0.7) + theme(plot.title = element_text(size=20)) + coord_flip()"
   ]
  },
  {
   "cell_type": "code",
   "execution_count": 28,
   "metadata": {},
   "outputs": [
    {
     "data": {
      "image/png": "[encoded data removed]",
      "text/plain": [
       "plot without title"
      ]
     },
     "metadata": {
      "image/png": {
       "height": 360,
       "width": 480
      }
     },
     "output_type": "display_data"
    }
   ],
   "source": [
    "ggplot(happ_2021[140:149,], aes(x = reorder(Country, -Score), y=Score, fill = Country)) + ggtitle(\"Top 10 saddest countries in 2021\") + geom_bar(stat=\"identity\", width=0.7) + theme(plot.title = element_text(size=20)) + coord_flip()"
   ]
  },
  {
   "cell_type": "code",
   "execution_count": 29,
   "metadata": {},
   "outputs": [],
   "source": [
    "df_cor <- happ_2021 %>% \n",
    "    select(corruption = Corruption,\n",
    "           generosity = Generosity,\n",
    "           freedom = Freedom, \n",
    "           life_expectancy = Health, \n",
    "           social_support = Family,\n",
    "           GDP_per_capita = GDP, \n",
    "           happiness = Score\n",
    "           )"
   ]
  },
  {
   "cell_type": "code",
   "execution_count": 30,
   "metadata": {},
   "outputs": [
    {
     "name": "stderr",
     "output_type": "stream",
     "text": [
      "Warning message:\n",
      "\"package 'rwa' was built under R version 4.0.5\"\n"
     ]
    },
    {
     "data": {
      "text/html": [
       "<table class=\"dataframe\">\n",
       "<caption>A data.frame: 6 × 4</caption>\n",
       "<thead>\n",
       "\t<tr><th scope=col>Variables</th><th scope=col>Raw.RelWeight</th><th scope=col>Rescaled.RelWeight</th><th scope=col>Sign</th></tr>\n",
       "\t<tr><th scope=col>&lt;chr&gt;</th><th scope=col>&lt;dbl&gt;</th><th scope=col>&lt;dbl&gt;</th><th scope=col>&lt;chr&gt;</th></tr>\n",
       "</thead>\n",
       "<tbody>\n",
       "\t<tr><td>corruption     </td><td>0.056954334</td><td> 7.5351657</td><td>-</td></tr>\n",
       "\t<tr><td>generosity     </td><td>0.005739968</td><td> 0.7594086</td><td>+</td></tr>\n",
       "\t<tr><td>freedom        </td><td>0.128909062</td><td>17.0549117</td><td>+</td></tr>\n",
       "\t<tr><td>life_expectancy</td><td>0.177156666</td><td>23.4381606</td><td>+</td></tr>\n",
       "\t<tr><td>social_support </td><td>0.191970060</td><td>25.3980005</td><td>+</td></tr>\n",
       "\t<tr><td>GDP_per_capita </td><td>0.195117048</td><td>25.8143529</td><td>+</td></tr>\n",
       "</tbody>\n",
       "</table>\n"
      ],
      "text/latex": [
       "A data.frame: 6 × 4\n",
       "\\begin{tabular}{llll}\n",
       " Variables & Raw.RelWeight & Rescaled.RelWeight & Sign\\\\\n",
       " <chr> & <dbl> & <dbl> & <chr>\\\\\n",
       "\\hline\n",
       "\t corruption      & 0.056954334 &  7.5351657 & -\\\\\n",
       "\t generosity      & 0.005739968 &  0.7594086 & +\\\\\n",
       "\t freedom         & 0.128909062 & 17.0549117 & +\\\\\n",
       "\t life\\_expectancy & 0.177156666 & 23.4381606 & +\\\\\n",
       "\t social\\_support  & 0.191970060 & 25.3980005 & +\\\\\n",
       "\t GDP\\_per\\_capita  & 0.195117048 & 25.8143529 & +\\\\\n",
       "\\end{tabular}\n"
      ],
      "text/markdown": [
       "\n",
       "A data.frame: 6 × 4\n",
       "\n",
       "| Variables &lt;chr&gt; | Raw.RelWeight &lt;dbl&gt; | Rescaled.RelWeight &lt;dbl&gt; | Sign &lt;chr&gt; |\n",
       "|---|---|---|---|\n",
       "| corruption      | 0.056954334 |  7.5351657 | - |\n",
       "| generosity      | 0.005739968 |  0.7594086 | + |\n",
       "| freedom         | 0.128909062 | 17.0549117 | + |\n",
       "| life_expectancy | 0.177156666 | 23.4381606 | + |\n",
       "| social_support  | 0.191970060 | 25.3980005 | + |\n",
       "| GDP_per_capita  | 0.195117048 | 25.8143529 | + |\n",
       "\n"
      ],
      "text/plain": [
       "  Variables       Raw.RelWeight Rescaled.RelWeight Sign\n",
       "1 corruption      0.056954334    7.5351657         -   \n",
       "2 generosity      0.005739968    0.7594086         +   \n",
       "3 freedom         0.128909062   17.0549117         +   \n",
       "4 life_expectancy 0.177156666   23.4381606         +   \n",
       "5 social_support  0.191970060   25.3980005         +   \n",
       "6 GDP_per_capita  0.195117048   25.8143529         +   "
      ]
     },
     "metadata": {},
     "output_type": "display_data"
    }
   ],
   "source": [
    "#library(rwa)\n",
    "predictors = colnames(df_cor)[1:6]\n",
    "outcome = 'happiness'\n",
    "rwa <- rwa(df_cor,\n",
    "    outcome = outcome,\n",
    "    predictors = predictors,\n",
    "    applysigns = FALSE) \n",
    "\n",
    "rsquare <- rwa$rsquare\n",
    "(relative_weight <- rwa$result)\n",
    "n <- rwa$n"
   ]
  },
  {
   "cell_type": "code",
   "execution_count": 31,
   "metadata": {},
   "outputs": [
    {
     "data": {
      "image/png": "[encoded data removed]",
      "text/plain": [
       "plot without title"
      ]
     },
     "metadata": {
      "image/png": {
       "height": 360,
       "width": 480
      }
     },
     "output_type": "display_data"
    }
   ],
   "source": [
    "ggplot(relative_weight, aes(x = reorder(Variables, Rescaled.RelWeight), y=Rescaled.RelWeight, fill = Variables)) +  ggtitle(\"Top important factors affecting the \\n happiness index in 2021\", subtitle = \"1. GDP 2. Social Support 3. Health\") + geom_bar(stat=\"identity\", width=0.7) + theme(plot.title = element_text(size=20), plot.subtitle = element_text(size=15)) + coord_flip()"
   ]
  },
  {
   "cell_type": "markdown",
   "metadata": {},
   "source": [
    "<b> Performing some visualizations on data from India </b> <br>\n",
    "This year India stood 139th out of 149 countries in the Happiness Report. Last year, India's rank was 140th."
   ]
  },
  {
   "cell_type": "code",
   "execution_count": 32,
   "metadata": {},
   "outputs": [
    {
     "data": {
      "text/html": [
       "<table class=\"dataframe\">\n",
       "<caption>A data.frame: 15 × 11</caption>\n",
       "<thead>\n",
       "\t<tr><th></th><th scope=col>Country</th><th scope=col>year</th><th scope=col>Score</th><th scope=col>GDP</th><th scope=col>Family</th><th scope=col>Health</th><th scope=col>Freedom</th><th scope=col>Generosity</th><th scope=col>Corruption</th><th scope=col>Positive.affect</th><th scope=col>Negative.affect</th></tr>\n",
       "\t<tr><th></th><th scope=col>&lt;chr&gt;</th><th scope=col>&lt;int&gt;</th><th scope=col>&lt;dbl&gt;</th><th scope=col>&lt;dbl&gt;</th><th scope=col>&lt;dbl&gt;</th><th scope=col>&lt;dbl&gt;</th><th scope=col>&lt;dbl&gt;</th><th scope=col>&lt;dbl&gt;</th><th scope=col>&lt;dbl&gt;</th><th scope=col>&lt;dbl&gt;</th><th scope=col>&lt;dbl&gt;</th></tr>\n",
       "</thead>\n",
       "<tbody>\n",
       "\t<tr><th scope=row>733</th><td>India</td><td>2006</td><td>5.348</td><td>8.145</td><td>0.707</td><td>55.72</td><td>0.774</td><td>    NA</td><td>0.855</td><td>0.687</td><td>0.199</td></tr>\n",
       "\t<tr><th scope=row>734</th><td>India</td><td>2007</td><td>5.027</td><td>8.204</td><td>0.569</td><td>56.14</td><td>0.729</td><td>-0.051</td><td>0.862</td><td>0.668</td><td>0.253</td></tr>\n",
       "\t<tr><th scope=row>735</th><td>India</td><td>2008</td><td>5.146</td><td>8.220</td><td>0.684</td><td>56.56</td><td>0.756</td><td>-0.072</td><td>0.891</td><td>0.674</td><td>0.259</td></tr>\n",
       "\t<tr><th scope=row>736</th><td>India</td><td>2009</td><td>4.522</td><td>8.281</td><td>0.653</td><td>56.98</td><td>0.679</td><td>-0.026</td><td>0.895</td><td>0.771</td><td>0.301</td></tr>\n",
       "\t<tr><th scope=row>737</th><td>India</td><td>2010</td><td>4.989</td><td>8.349</td><td>0.605</td><td>57.40</td><td>0.783</td><td> 0.058</td><td>0.863</td><td>0.697</td><td>0.267</td></tr>\n",
       "\t<tr><th scope=row>738</th><td>India</td><td>2011</td><td>4.635</td><td>8.387</td><td>0.553</td><td>57.70</td><td>0.838</td><td>-0.038</td><td>0.908</td><td>0.648</td><td>0.232</td></tr>\n",
       "\t<tr><th scope=row>739</th><td>India</td><td>2012</td><td>4.720</td><td>8.428</td><td>0.511</td><td>58.00</td><td>0.609</td><td> 0.067</td><td>0.830</td><td>0.629</td><td>0.295</td></tr>\n",
       "\t<tr><th scope=row>740</th><td>India</td><td>2013</td><td>4.428</td><td>8.478</td><td>0.553</td><td>58.30</td><td>0.740</td><td> 0.084</td><td>0.832</td><td>0.680</td><td>0.330</td></tr>\n",
       "\t<tr><th scope=row>741</th><td>India</td><td>2014</td><td>4.424</td><td>8.538</td><td>0.621</td><td>58.60</td><td>0.809</td><td>-0.026</td><td>0.832</td><td>0.711</td><td>0.285</td></tr>\n",
       "\t<tr><th scope=row>742</th><td>India</td><td>2015</td><td>4.342</td><td>8.604</td><td>0.610</td><td>58.90</td><td>0.777</td><td>-0.005</td><td>0.776</td><td>0.701</td><td>0.322</td></tr>\n",
       "\t<tr><th scope=row>743</th><td>India</td><td>2016</td><td>4.179</td><td>8.673</td><td>0.614</td><td>59.30</td><td>0.820</td><td> 0.046</td><td>0.765</td><td>0.695</td><td>0.346</td></tr>\n",
       "\t<tr><th scope=row>744</th><td>India</td><td>2017</td><td>4.046</td><td>8.730</td><td>0.607</td><td>59.70</td><td>0.886</td><td>-0.042</td><td>0.781</td><td>0.682</td><td>0.318</td></tr>\n",
       "\t<tr><th scope=row>745</th><td>India</td><td>2018</td><td>3.818</td><td>8.779</td><td>0.638</td><td>60.10</td><td>0.890</td><td> 0.085</td><td>0.805</td><td>0.657</td><td>0.357</td></tr>\n",
       "\t<tr><th scope=row>746</th><td>India</td><td>2019</td><td>3.249</td><td>8.818</td><td>0.561</td><td>60.50</td><td>0.876</td><td> 0.112</td><td>0.752</td><td>0.648</td><td>0.466</td></tr>\n",
       "\t<tr><th scope=row>747</th><td>India</td><td>2020</td><td>4.225</td><td>8.703</td><td>0.617</td><td>60.90</td><td>0.906</td><td> 0.075</td><td>0.780</td><td>0.752</td><td>0.383</td></tr>\n",
       "</tbody>\n",
       "</table>\n"
      ],
      "text/latex": [
       "A data.frame: 15 × 11\n",
       "\\begin{tabular}{r|lllllllllll}\n",
       "  & Country & year & Score & GDP & Family & Health & Freedom & Generosity & Corruption & Positive.affect & Negative.affect\\\\\n",
       "  & <chr> & <int> & <dbl> & <dbl> & <dbl> & <dbl> & <dbl> & <dbl> & <dbl> & <dbl> & <dbl>\\\\\n",
       "\\hline\n",
       "\t733 & India & 2006 & 5.348 & 8.145 & 0.707 & 55.72 & 0.774 &     NA & 0.855 & 0.687 & 0.199\\\\\n",
       "\t734 & India & 2007 & 5.027 & 8.204 & 0.569 & 56.14 & 0.729 & -0.051 & 0.862 & 0.668 & 0.253\\\\\n",
       "\t735 & India & 2008 & 5.146 & 8.220 & 0.684 & 56.56 & 0.756 & -0.072 & 0.891 & 0.674 & 0.259\\\\\n",
       "\t736 & India & 2009 & 4.522 & 8.281 & 0.653 & 56.98 & 0.679 & -0.026 & 0.895 & 0.771 & 0.301\\\\\n",
       "\t737 & India & 2010 & 4.989 & 8.349 & 0.605 & 57.40 & 0.783 &  0.058 & 0.863 & 0.697 & 0.267\\\\\n",
       "\t738 & India & 2011 & 4.635 & 8.387 & 0.553 & 57.70 & 0.838 & -0.038 & 0.908 & 0.648 & 0.232\\\\\n",
       "\t739 & India & 2012 & 4.720 & 8.428 & 0.511 & 58.00 & 0.609 &  0.067 & 0.830 & 0.629 & 0.295\\\\\n",
       "\t740 & India & 2013 & 4.428 & 8.478 & 0.553 & 58.30 & 0.740 &  0.084 & 0.832 & 0.680 & 0.330\\\\\n",
       "\t741 & India & 2014 & 4.424 & 8.538 & 0.621 & 58.60 & 0.809 & -0.026 & 0.832 & 0.711 & 0.285\\\\\n",
       "\t742 & India & 2015 & 4.342 & 8.604 & 0.610 & 58.90 & 0.777 & -0.005 & 0.776 & 0.701 & 0.322\\\\\n",
       "\t743 & India & 2016 & 4.179 & 8.673 & 0.614 & 59.30 & 0.820 &  0.046 & 0.765 & 0.695 & 0.346\\\\\n",
       "\t744 & India & 2017 & 4.046 & 8.730 & 0.607 & 59.70 & 0.886 & -0.042 & 0.781 & 0.682 & 0.318\\\\\n",
       "\t745 & India & 2018 & 3.818 & 8.779 & 0.638 & 60.10 & 0.890 &  0.085 & 0.805 & 0.657 & 0.357\\\\\n",
       "\t746 & India & 2019 & 3.249 & 8.818 & 0.561 & 60.50 & 0.876 &  0.112 & 0.752 & 0.648 & 0.466\\\\\n",
       "\t747 & India & 2020 & 4.225 & 8.703 & 0.617 & 60.90 & 0.906 &  0.075 & 0.780 & 0.752 & 0.383\\\\\n",
       "\\end{tabular}\n"
      ],
      "text/markdown": [
       "\n",
       "A data.frame: 15 × 11\n",
       "\n",
       "| <!--/--> | Country &lt;chr&gt; | year &lt;int&gt; | Score &lt;dbl&gt; | GDP &lt;dbl&gt; | Family &lt;dbl&gt; | Health &lt;dbl&gt; | Freedom &lt;dbl&gt; | Generosity &lt;dbl&gt; | Corruption &lt;dbl&gt; | Positive.affect &lt;dbl&gt; | Negative.affect &lt;dbl&gt; |\n",
       "|---|---|---|---|---|---|---|---|---|---|---|---|\n",
       "| 733 | India | 2006 | 5.348 | 8.145 | 0.707 | 55.72 | 0.774 |     NA | 0.855 | 0.687 | 0.199 |\n",
       "| 734 | India | 2007 | 5.027 | 8.204 | 0.569 | 56.14 | 0.729 | -0.051 | 0.862 | 0.668 | 0.253 |\n",
       "| 735 | India | 2008 | 5.146 | 8.220 | 0.684 | 56.56 | 0.756 | -0.072 | 0.891 | 0.674 | 0.259 |\n",
       "| 736 | India | 2009 | 4.522 | 8.281 | 0.653 | 56.98 | 0.679 | -0.026 | 0.895 | 0.771 | 0.301 |\n",
       "| 737 | India | 2010 | 4.989 | 8.349 | 0.605 | 57.40 | 0.783 |  0.058 | 0.863 | 0.697 | 0.267 |\n",
       "| 738 | India | 2011 | 4.635 | 8.387 | 0.553 | 57.70 | 0.838 | -0.038 | 0.908 | 0.648 | 0.232 |\n",
       "| 739 | India | 2012 | 4.720 | 8.428 | 0.511 | 58.00 | 0.609 |  0.067 | 0.830 | 0.629 | 0.295 |\n",
       "| 740 | India | 2013 | 4.428 | 8.478 | 0.553 | 58.30 | 0.740 |  0.084 | 0.832 | 0.680 | 0.330 |\n",
       "| 741 | India | 2014 | 4.424 | 8.538 | 0.621 | 58.60 | 0.809 | -0.026 | 0.832 | 0.711 | 0.285 |\n",
       "| 742 | India | 2015 | 4.342 | 8.604 | 0.610 | 58.90 | 0.777 | -0.005 | 0.776 | 0.701 | 0.322 |\n",
       "| 743 | India | 2016 | 4.179 | 8.673 | 0.614 | 59.30 | 0.820 |  0.046 | 0.765 | 0.695 | 0.346 |\n",
       "| 744 | India | 2017 | 4.046 | 8.730 | 0.607 | 59.70 | 0.886 | -0.042 | 0.781 | 0.682 | 0.318 |\n",
       "| 745 | India | 2018 | 3.818 | 8.779 | 0.638 | 60.10 | 0.890 |  0.085 | 0.805 | 0.657 | 0.357 |\n",
       "| 746 | India | 2019 | 3.249 | 8.818 | 0.561 | 60.50 | 0.876 |  0.112 | 0.752 | 0.648 | 0.466 |\n",
       "| 747 | India | 2020 | 4.225 | 8.703 | 0.617 | 60.90 | 0.906 |  0.075 | 0.780 | 0.752 | 0.383 |\n",
       "\n"
      ],
      "text/plain": [
       "    Country year Score GDP   Family Health Freedom Generosity Corruption\n",
       "733 India   2006 5.348 8.145 0.707  55.72  0.774       NA     0.855     \n",
       "734 India   2007 5.027 8.204 0.569  56.14  0.729   -0.051     0.862     \n",
       "735 India   2008 5.146 8.220 0.684  56.56  0.756   -0.072     0.891     \n",
       "736 India   2009 4.522 8.281 0.653  56.98  0.679   -0.026     0.895     \n",
       "737 India   2010 4.989 8.349 0.605  57.40  0.783    0.058     0.863     \n",
       "738 India   2011 4.635 8.387 0.553  57.70  0.838   -0.038     0.908     \n",
       "739 India   2012 4.720 8.428 0.511  58.00  0.609    0.067     0.830     \n",
       "740 India   2013 4.428 8.478 0.553  58.30  0.740    0.084     0.832     \n",
       "741 India   2014 4.424 8.538 0.621  58.60  0.809   -0.026     0.832     \n",
       "742 India   2015 4.342 8.604 0.610  58.90  0.777   -0.005     0.776     \n",
       "743 India   2016 4.179 8.673 0.614  59.30  0.820    0.046     0.765     \n",
       "744 India   2017 4.046 8.730 0.607  59.70  0.886   -0.042     0.781     \n",
       "745 India   2018 3.818 8.779 0.638  60.10  0.890    0.085     0.805     \n",
       "746 India   2019 3.249 8.818 0.561  60.50  0.876    0.112     0.752     \n",
       "747 India   2020 4.225 8.703 0.617  60.90  0.906    0.075     0.780     \n",
       "    Positive.affect Negative.affect\n",
       "733 0.687           0.199          \n",
       "734 0.668           0.253          \n",
       "735 0.674           0.259          \n",
       "736 0.771           0.301          \n",
       "737 0.697           0.267          \n",
       "738 0.648           0.232          \n",
       "739 0.629           0.295          \n",
       "740 0.680           0.330          \n",
       "741 0.711           0.285          \n",
       "742 0.701           0.322          \n",
       "743 0.695           0.346          \n",
       "744 0.682           0.318          \n",
       "745 0.657           0.357          \n",
       "746 0.648           0.466          \n",
       "747 0.752           0.383          "
      ]
     },
     "metadata": {},
     "output_type": "display_data"
    }
   ],
   "source": [
    "happ_ind=happ_all[happ_all$Country == \"India\", ]  \n",
    "happ_ind"
   ]
  },
  {
   "cell_type": "code",
   "execution_count": 33,
   "metadata": {},
   "outputs": [
    {
     "data": {
      "image/png": "[encoded data removed]",
      "text/plain": [
       "plot without title"
      ]
     },
     "metadata": {
      "image/png": {
       "height": 360,
       "width": 480
      }
     },
     "output_type": "display_data"
    }
   ],
   "source": [
    "ggplot(data = happ_ind, mapping=aes(x = year, y = Score, color=Score)) + geom_line() + ggtitle(\"Happiness Score of India over the last 15 years\") + theme(plot.title = element_text(size=20))"
   ]
  },
  {
   "cell_type": "code",
   "execution_count": 34,
   "metadata": {},
   "outputs": [
    {
     "data": {
      "image/png": "[encoded data removed]",
      "text/plain": [
       "plot without title"
      ]
     },
     "metadata": {
      "image/png": {
       "height": 360,
       "width": 480
      }
     },
     "output_type": "display_data"
    }
   ],
   "source": [
    "ggplot(data = happ_ind, mapping=aes(x = year, y = GDP, color=GDP)) + geom_line() + ggtitle(\"GDP Score of India over the last 15 years\") + theme(plot.title = element_text(size=20))"
   ]
  },
  {
   "cell_type": "code",
   "execution_count": 35,
   "metadata": {},
   "outputs": [
    {
     "data": {
      "image/png": "[encoded data removed]",
      "text/plain": [
       "plot without title"
      ]
     },
     "metadata": {
      "image/png": {
       "height": 360,
       "width": 480
      }
     },
     "output_type": "display_data"
    }
   ],
   "source": [
    "ggplot(data = happ_ind, mapping=aes(x = year, y = Health, color=Health)) + geom_line() + ggtitle(\"Health infrastructure in India over the last 15 years\") + theme(plot.title = element_text(size=20))"
   ]
  },
  {
   "cell_type": "code",
   "execution_count": 37,
   "metadata": {},
   "outputs": [
    {
     "data": {
      "text/html": [
       "4.4732"
      ],
      "text/latex": [
       "4.4732"
      ],
      "text/markdown": [
       "4.4732"
      ],
      "text/plain": [
       "[1] 4.4732"
      ]
     },
     "metadata": {},
     "output_type": "display_data"
    },
    {
     "data": {
      "text/html": [
       "5.46670548999487"
      ],
      "text/latex": [
       "5.46670548999487"
      ],
      "text/markdown": [
       "5.46670548999487"
      ],
      "text/plain": [
       "[1] 5.466705"
      ]
     },
     "metadata": {},
     "output_type": "display_data"
    }
   ],
   "source": [
    "mean(happ_ind$Score)\n",
    "mean(happ_all$Score)"
   ]
  },
  {
   "cell_type": "code",
   "execution_count": 38,
   "metadata": {},
   "outputs": [
    {
     "data": {
      "text/html": [
       "66.603"
      ],
      "text/latex": [
       "66.603"
      ],
      "text/markdown": [
       "66.603"
      ],
      "text/plain": [
       "[1] 66.603"
      ]
     },
     "metadata": {},
     "output_type": "display_data"
    }
   ],
   "source": [
    "median(happ_2021$Health)"
   ]
  },
  {
   "cell_type": "code",
   "execution_count": 39,
   "metadata": {},
   "outputs": [
    {
     "data": {
      "text/html": [
       "1.15860144766408"
      ],
      "text/latex": [
       "1.15860144766408"
      ],
      "text/markdown": [
       "1.15860144766408"
      ],
      "text/plain": [
       "[1] 1.158601"
      ]
     },
     "metadata": {},
     "output_type": "display_data"
    }
   ],
   "source": [
    "sd(happ_2021$GDP)"
   ]
  },
  {
   "cell_type": "code",
   "execution_count": 40,
   "metadata": {},
   "outputs": [
    {
     "data": {
      "text/html": [
       "<table class=\"dataframe\">\n",
       "<caption>A data.frame: 1 × 11</caption>\n",
       "<thead>\n",
       "\t<tr><th></th><th scope=col>Country</th><th scope=col>year</th><th scope=col>Score</th><th scope=col>GDP</th><th scope=col>Family</th><th scope=col>Health</th><th scope=col>Freedom</th><th scope=col>Generosity</th><th scope=col>Corruption</th><th scope=col>Positive.affect</th><th scope=col>Negative.affect</th></tr>\n",
       "\t<tr><th></th><th scope=col>&lt;chr&gt;</th><th scope=col>&lt;int&gt;</th><th scope=col>&lt;dbl&gt;</th><th scope=col>&lt;dbl&gt;</th><th scope=col>&lt;dbl&gt;</th><th scope=col>&lt;dbl&gt;</th><th scope=col>&lt;dbl&gt;</th><th scope=col>&lt;dbl&gt;</th><th scope=col>&lt;dbl&gt;</th><th scope=col>&lt;dbl&gt;</th><th scope=col>&lt;dbl&gt;</th></tr>\n",
       "</thead>\n",
       "<tbody>\n",
       "\t<tr><th scope=row>450</th><td>Denmark</td><td>2005</td><td>8.019</td><td>10.851</td><td>0.972</td><td>69.6</td><td>0.971</td><td>NA</td><td>0.237</td><td>0.86</td><td>0.154</td></tr>\n",
       "</tbody>\n",
       "</table>\n"
      ],
      "text/latex": [
       "A data.frame: 1 × 11\n",
       "\\begin{tabular}{r|lllllllllll}\n",
       "  & Country & year & Score & GDP & Family & Health & Freedom & Generosity & Corruption & Positive.affect & Negative.affect\\\\\n",
       "  & <chr> & <int> & <dbl> & <dbl> & <dbl> & <dbl> & <dbl> & <dbl> & <dbl> & <dbl> & <dbl>\\\\\n",
       "\\hline\n",
       "\t450 & Denmark & 2005 & 8.019 & 10.851 & 0.972 & 69.6 & 0.971 & NA & 0.237 & 0.86 & 0.154\\\\\n",
       "\\end{tabular}\n"
      ],
      "text/markdown": [
       "\n",
       "A data.frame: 1 × 11\n",
       "\n",
       "| <!--/--> | Country &lt;chr&gt; | year &lt;int&gt; | Score &lt;dbl&gt; | GDP &lt;dbl&gt; | Family &lt;dbl&gt; | Health &lt;dbl&gt; | Freedom &lt;dbl&gt; | Generosity &lt;dbl&gt; | Corruption &lt;dbl&gt; | Positive.affect &lt;dbl&gt; | Negative.affect &lt;dbl&gt; |\n",
       "|---|---|---|---|---|---|---|---|---|---|---|---|\n",
       "| 450 | Denmark | 2005 | 8.019 | 10.851 | 0.972 | 69.6 | 0.971 | NA | 0.237 | 0.86 | 0.154 |\n",
       "\n"
      ],
      "text/plain": [
       "    Country year Score GDP    Family Health Freedom Generosity Corruption\n",
       "450 Denmark 2005 8.019 10.851 0.972  69.6   0.971   NA         0.237     \n",
       "    Positive.affect Negative.affect\n",
       "450 0.86            0.154          "
      ]
     },
     "metadata": {},
     "output_type": "display_data"
    }
   ],
   "source": [
    "max_country=happ_all[happ_all$Score == max(happ_all$Score), ]  \n",
    "max_country"
   ]
  },
  {
   "cell_type": "markdown",
   "metadata": {},
   "source": [
    "Country with the highest ever happiness score in 15 years is Denmark in 2005"
   ]
  },
  {
   "cell_type": "code",
   "execution_count": 41,
   "metadata": {},
   "outputs": [
    {
     "data": {
      "text/html": [
       "<table class=\"dataframe\">\n",
       "<caption>A data.frame: 1 × 11</caption>\n",
       "<thead>\n",
       "\t<tr><th></th><th scope=col>Country</th><th scope=col>year</th><th scope=col>Score</th><th scope=col>GDP</th><th scope=col>Family</th><th scope=col>Health</th><th scope=col>Freedom</th><th scope=col>Generosity</th><th scope=col>Corruption</th><th scope=col>Positive.affect</th><th scope=col>Negative.affect</th></tr>\n",
       "\t<tr><th></th><th scope=col>&lt;chr&gt;</th><th scope=col>&lt;int&gt;</th><th scope=col>&lt;dbl&gt;</th><th scope=col>&lt;dbl&gt;</th><th scope=col>&lt;dbl&gt;</th><th scope=col>&lt;dbl&gt;</th><th scope=col>&lt;dbl&gt;</th><th scope=col>&lt;dbl&gt;</th><th scope=col>&lt;dbl&gt;</th><th scope=col>&lt;dbl&gt;</th><th scope=col>&lt;dbl&gt;</th></tr>\n",
       "</thead>\n",
       "<tbody>\n",
       "\t<tr><th scope=row>12</th><td>Afghanistan</td><td>2019</td><td>2.375</td><td>7.697</td><td>0.42</td><td>52.4</td><td>0.394</td><td>-0.108</td><td>0.924</td><td>0.351</td><td>0.502</td></tr>\n",
       "</tbody>\n",
       "</table>\n"
      ],
      "text/latex": [
       "A data.frame: 1 × 11\n",
       "\\begin{tabular}{r|lllllllllll}\n",
       "  & Country & year & Score & GDP & Family & Health & Freedom & Generosity & Corruption & Positive.affect & Negative.affect\\\\\n",
       "  & <chr> & <int> & <dbl> & <dbl> & <dbl> & <dbl> & <dbl> & <dbl> & <dbl> & <dbl> & <dbl>\\\\\n",
       "\\hline\n",
       "\t12 & Afghanistan & 2019 & 2.375 & 7.697 & 0.42 & 52.4 & 0.394 & -0.108 & 0.924 & 0.351 & 0.502\\\\\n",
       "\\end{tabular}\n"
      ],
      "text/markdown": [
       "\n",
       "A data.frame: 1 × 11\n",
       "\n",
       "| <!--/--> | Country &lt;chr&gt; | year &lt;int&gt; | Score &lt;dbl&gt; | GDP &lt;dbl&gt; | Family &lt;dbl&gt; | Health &lt;dbl&gt; | Freedom &lt;dbl&gt; | Generosity &lt;dbl&gt; | Corruption &lt;dbl&gt; | Positive.affect &lt;dbl&gt; | Negative.affect &lt;dbl&gt; |\n",
       "|---|---|---|---|---|---|---|---|---|---|---|---|\n",
       "| 12 | Afghanistan | 2019 | 2.375 | 7.697 | 0.42 | 52.4 | 0.394 | -0.108 | 0.924 | 0.351 | 0.502 |\n",
       "\n"
      ],
      "text/plain": [
       "   Country     year Score GDP   Family Health Freedom Generosity Corruption\n",
       "12 Afghanistan 2019 2.375 7.697 0.42   52.4   0.394   -0.108     0.924     \n",
       "   Positive.affect Negative.affect\n",
       "12 0.351           0.502          "
      ]
     },
     "metadata": {},
     "output_type": "display_data"
    }
   ],
   "source": [
    "min_country=happ_all[happ_all$Score == min(happ_all$Score), ]  \n",
    "min_country"
   ]
  },
  {
   "cell_type": "markdown",
   "metadata": {},
   "source": [
    "Country with the lowest ever happiness score in 15 years is Afghanistan in 2019"
   ]
  },
  {
   "cell_type": "code",
   "execution_count": 42,
   "metadata": {},
   "outputs": [
    {
     "data": {
      "text/html": [
       "<table class=\"dataframe\">\n",
       "<caption>A data.frame: 6 × 11</caption>\n",
       "<thead>\n",
       "\t<tr><th></th><th scope=col>Rank</th><th scope=col>Country</th><th scope=col>Score</th><th scope=col>GDP</th><th scope=col>Family</th><th scope=col>Health</th><th scope=col>Freedom</th><th scope=col>Generosity</th><th scope=col>Corruption</th><th scope=col>Dystopia...residual</th><th scope=col>Continent</th></tr>\n",
       "\t<tr><th></th><th scope=col>&lt;int&gt;</th><th scope=col>&lt;chr&gt;</th><th scope=col>&lt;dbl&gt;</th><th scope=col>&lt;dbl&gt;</th><th scope=col>&lt;dbl&gt;</th><th scope=col>&lt;dbl&gt;</th><th scope=col>&lt;dbl&gt;</th><th scope=col>&lt;dbl&gt;</th><th scope=col>&lt;dbl&gt;</th><th scope=col>&lt;dbl&gt;</th><th scope=col>&lt;fct&gt;</th></tr>\n",
       "</thead>\n",
       "<tbody>\n",
       "\t<tr><th scope=row>1</th><td>1</td><td>Finland    </td><td>7.842</td><td>10.775</td><td>0.954</td><td>72.0</td><td>0.949</td><td>-0.098</td><td>0.186</td><td>3.253</td><td>Europe</td></tr>\n",
       "\t<tr><th scope=row>2</th><td>2</td><td>Denmark    </td><td>7.620</td><td>10.933</td><td>0.954</td><td>72.7</td><td>0.946</td><td> 0.030</td><td>0.179</td><td>2.868</td><td>Europe</td></tr>\n",
       "\t<tr><th scope=row>3</th><td>3</td><td>Switzerland</td><td>7.571</td><td>11.117</td><td>0.942</td><td>74.4</td><td>0.919</td><td> 0.025</td><td>0.292</td><td>2.839</td><td>Europe</td></tr>\n",
       "\t<tr><th scope=row>4</th><td>4</td><td>Iceland    </td><td>7.554</td><td>10.878</td><td>0.983</td><td>73.0</td><td>0.955</td><td> 0.160</td><td>0.673</td><td>2.967</td><td>Europe</td></tr>\n",
       "\t<tr><th scope=row>5</th><td>5</td><td>Netherlands</td><td>7.464</td><td>10.932</td><td>0.942</td><td>72.4</td><td>0.913</td><td> 0.175</td><td>0.338</td><td>2.798</td><td>Europe</td></tr>\n",
       "\t<tr><th scope=row>6</th><td>6</td><td>Norway     </td><td>7.392</td><td>11.053</td><td>0.954</td><td>73.3</td><td>0.960</td><td> 0.093</td><td>0.270</td><td>2.580</td><td>Europe</td></tr>\n",
       "</tbody>\n",
       "</table>\n"
      ],
      "text/latex": [
       "A data.frame: 6 × 11\n",
       "\\begin{tabular}{r|lllllllllll}\n",
       "  & Rank & Country & Score & GDP & Family & Health & Freedom & Generosity & Corruption & Dystopia...residual & Continent\\\\\n",
       "  & <int> & <chr> & <dbl> & <dbl> & <dbl> & <dbl> & <dbl> & <dbl> & <dbl> & <dbl> & <fct>\\\\\n",
       "\\hline\n",
       "\t1 & 1 & Finland     & 7.842 & 10.775 & 0.954 & 72.0 & 0.949 & -0.098 & 0.186 & 3.253 & Europe\\\\\n",
       "\t2 & 2 & Denmark     & 7.620 & 10.933 & 0.954 & 72.7 & 0.946 &  0.030 & 0.179 & 2.868 & Europe\\\\\n",
       "\t3 & 3 & Switzerland & 7.571 & 11.117 & 0.942 & 74.4 & 0.919 &  0.025 & 0.292 & 2.839 & Europe\\\\\n",
       "\t4 & 4 & Iceland     & 7.554 & 10.878 & 0.983 & 73.0 & 0.955 &  0.160 & 0.673 & 2.967 & Europe\\\\\n",
       "\t5 & 5 & Netherlands & 7.464 & 10.932 & 0.942 & 72.4 & 0.913 &  0.175 & 0.338 & 2.798 & Europe\\\\\n",
       "\t6 & 6 & Norway      & 7.392 & 11.053 & 0.954 & 73.3 & 0.960 &  0.093 & 0.270 & 2.580 & Europe\\\\\n",
       "\\end{tabular}\n"
      ],
      "text/markdown": [
       "\n",
       "A data.frame: 6 × 11\n",
       "\n",
       "| <!--/--> | Rank &lt;int&gt; | Country &lt;chr&gt; | Score &lt;dbl&gt; | GDP &lt;dbl&gt; | Family &lt;dbl&gt; | Health &lt;dbl&gt; | Freedom &lt;dbl&gt; | Generosity &lt;dbl&gt; | Corruption &lt;dbl&gt; | Dystopia...residual &lt;dbl&gt; | Continent &lt;fct&gt; |\n",
       "|---|---|---|---|---|---|---|---|---|---|---|---|\n",
       "| 1 | 1 | Finland     | 7.842 | 10.775 | 0.954 | 72.0 | 0.949 | -0.098 | 0.186 | 3.253 | Europe |\n",
       "| 2 | 2 | Denmark     | 7.620 | 10.933 | 0.954 | 72.7 | 0.946 |  0.030 | 0.179 | 2.868 | Europe |\n",
       "| 3 | 3 | Switzerland | 7.571 | 11.117 | 0.942 | 74.4 | 0.919 |  0.025 | 0.292 | 2.839 | Europe |\n",
       "| 4 | 4 | Iceland     | 7.554 | 10.878 | 0.983 | 73.0 | 0.955 |  0.160 | 0.673 | 2.967 | Europe |\n",
       "| 5 | 5 | Netherlands | 7.464 | 10.932 | 0.942 | 72.4 | 0.913 |  0.175 | 0.338 | 2.798 | Europe |\n",
       "| 6 | 6 | Norway      | 7.392 | 11.053 | 0.954 | 73.3 | 0.960 |  0.093 | 0.270 | 2.580 | Europe |\n",
       "\n"
      ],
      "text/plain": [
       "  Rank Country     Score GDP    Family Health Freedom Generosity Corruption\n",
       "1 1    Finland     7.842 10.775 0.954  72.0   0.949   -0.098     0.186     \n",
       "2 2    Denmark     7.620 10.933 0.954  72.7   0.946    0.030     0.179     \n",
       "3 3    Switzerland 7.571 11.117 0.942  74.4   0.919    0.025     0.292     \n",
       "4 4    Iceland     7.554 10.878 0.983  73.0   0.955    0.160     0.673     \n",
       "5 5    Netherlands 7.464 10.932 0.942  72.4   0.913    0.175     0.338     \n",
       "6 6    Norway      7.392 11.053 0.954  73.3   0.960    0.093     0.270     \n",
       "  Dystopia...residual Continent\n",
       "1 3.253               Europe   \n",
       "2 2.868               Europe   \n",
       "3 2.839               Europe   \n",
       "4 2.967               Europe   \n",
       "5 2.798               Europe   \n",
       "6 2.580               Europe   "
      ]
     },
     "metadata": {},
     "output_type": "display_data"
    }
   ],
   "source": [
    "head(happ_2021)"
   ]
  },
  {
   "cell_type": "markdown",
   "metadata": {},
   "source": [
    "<b> Comparing the increase in Happiness coefficients world-wide Pre-Pandemic and Amidst-Pandemic </b>"
   ]
  },
  {
   "cell_type": "code",
   "execution_count": 46,
   "metadata": {},
   "outputs": [
    {
     "name": "stderr",
     "output_type": "stream",
     "text": [
      "Warning message:\n",
      "\"package 'tidyr' was built under R version 4.0.5\"\n",
      "Warning message:\n",
      "\"package 'tidyverse' was built under R version 4.0.5\"\n",
      "-- \u001b[1mAttaching packages\u001b[22m ------------------------------------------------------------------------------- tidyverse 1.3.1 --\n",
      "\n",
      "\u001b[32mv\u001b[39m \u001b[34mtibble \u001b[39m 3.1.1     \u001b[32mv\u001b[39m \u001b[34mstringr\u001b[39m 1.4.0\n",
      "\u001b[32mv\u001b[39m \u001b[34mreadr  \u001b[39m 1.4.0     \u001b[32mv\u001b[39m \u001b[34mforcats\u001b[39m 0.5.1\n",
      "\u001b[32mv\u001b[39m \u001b[34mpurrr  \u001b[39m 0.3.4     \n",
      "\n",
      "Warning message:\n",
      "\"package 'tibble' was built under R version 4.0.5\"\n",
      "Warning message:\n",
      "\"package 'readr' was built under R version 4.0.5\"\n",
      "Warning message:\n",
      "\"package 'purrr' was built under R version 4.0.5\"\n",
      "Warning message:\n",
      "\"package 'stringr' was built under R version 4.0.5\"\n",
      "Warning message:\n",
      "\"package 'forcats' was built under R version 4.0.5\"\n",
      "-- \u001b[1mConflicts\u001b[22m ---------------------------------------------------------------------------------- tidyverse_conflicts() --\n",
      "\u001b[31mx\u001b[39m \u001b[34mdplyr\u001b[39m::\u001b[32marrange()\u001b[39m   masks \u001b[34mplyr\u001b[39m::arrange()\n",
      "\u001b[31mx\u001b[39m \u001b[34mpurrr\u001b[39m::\u001b[32mcompact()\u001b[39m   masks \u001b[34mplyr\u001b[39m::compact()\n",
      "\u001b[31mx\u001b[39m \u001b[34mdplyr\u001b[39m::\u001b[32mcount()\u001b[39m     masks \u001b[34mplyr\u001b[39m::count()\n",
      "\u001b[31mx\u001b[39m \u001b[34mdplyr\u001b[39m::\u001b[32mfailwith()\u001b[39m  masks \u001b[34mplyr\u001b[39m::failwith()\n",
      "\u001b[31mx\u001b[39m \u001b[34mdplyr\u001b[39m::\u001b[32mfilter()\u001b[39m    masks \u001b[34mstats\u001b[39m::filter()\n",
      "\u001b[31mx\u001b[39m \u001b[34mdplyr\u001b[39m::\u001b[32mid()\u001b[39m        masks \u001b[34mplyr\u001b[39m::id()\n",
      "\u001b[31mx\u001b[39m \u001b[34mdplyr\u001b[39m::\u001b[32mlag()\u001b[39m       masks \u001b[34mstats\u001b[39m::lag()\n",
      "\u001b[31mx\u001b[39m \u001b[34mdplyr\u001b[39m::\u001b[32mmutate()\u001b[39m    masks \u001b[34mplyr\u001b[39m::mutate()\n",
      "\u001b[31mx\u001b[39m \u001b[34mdplyr\u001b[39m::\u001b[32mrename()\u001b[39m    masks \u001b[34mplyr\u001b[39m::rename()\n",
      "\u001b[31mx\u001b[39m \u001b[34mdplyr\u001b[39m::\u001b[32msummarise()\u001b[39m masks \u001b[34mplyr\u001b[39m::summarise()\n",
      "\u001b[31mx\u001b[39m \u001b[34mdplyr\u001b[39m::\u001b[32msummarize()\u001b[39m masks \u001b[34mplyr\u001b[39m::summarize()\n",
      "\n"
     ]
    }
   ],
   "source": [
    "country_region_dict = happ_2021 %>% select(country = Country, region = Continent) %>% unique()\n",
    "\n",
    "df_happy_increase <- happ_all %>% \n",
    "    filter(year >= 2018) %>%\n",
    "    left_join(country_region_dict, by = c('Country' = 'country')) %>%\n",
    "    select(country = Country, year, ladder = Score)  %>%\n",
    "    pivot_wider(names_from = 'year', names_prefix = 'year', values_from = 'ladder') %>%\n",
    "    mutate(increase_in_2019 = ifelse(year2019>year2018, 1, 0),\n",
    "          increase_in_2020 = ifelse(year2020>year2019,1,0))\n",
    "\n",
    "df_increase_in_2019 <- df_happy_increase %>% summarize(pct = mean(increase_in_2019, na.rm = TRUE))\n",
    "df_increase_in_2020 <- df_happy_increase %>% summarize(pct = mean(increase_in_2020, na.rm = TRUE))"
   ]
  },
  {
   "cell_type": "code",
   "execution_count": 47,
   "metadata": {},
   "outputs": [
    {
     "name": "stderr",
     "output_type": "stream",
     "text": [
      "Warning message:\n",
      "\"package 'ggpubr' was built under R version 4.0.5\"\n",
      "\n",
      "Attaching package: 'ggpubr'\n",
      "\n",
      "\n",
      "The following object is masked from 'package:plyr':\n",
      "\n",
      "    mutate\n",
      "\n",
      "\n"
     ]
    },
    {
     "data": {
      "image/png": "[encoded data removed]",
      "text/plain": [
       "plot without title"
      ]
     },
     "metadata": {
      "image/png": {
       "height": 360,
       "width": 480
      }
     },
     "output_type": "display_data"
    }
   ],
   "source": [
    "#library(ggpubr)\n",
    "donut_plot <- function(df, title = '', subtitle = '', caption = '') {\n",
    "ggplot(df) +\n",
    "    geom_rect(aes(ymax = 1, ymin = 0, xmax = 2, xmin=1.2, fill = \"base\"))  +\n",
    "    geom_rect(aes(ymax = pct, ymin = 0, xmax = 2.2, xmin = 1.2, fill = 'main')) +\n",
    "    geom_text(x = 0, y = 0, label = paste0(round(df$pct*100,0),'%'), size = 16) + \n",
    "    coord_polar(theta = 'y') +\n",
    "    xlim(c(0,2.2)) +\n",
    "    labs(title = title, subtitle = subtitle, caption = caption) +\n",
    "    theme_void() + \n",
    "    theme(plot.title = element_text(size=22, face=\"bold\"),\n",
    "          plot.subtitle = element_text(size = 20, hjust = 0.5),\n",
    "          plot.caption = element_text(size = 15),\n",
    "          legend.position = 'None')}\n",
    "\n",
    "p1 <- donut_plot(df_increase_in_2019, title = 'Percent of countries with increased happiness\\n Pre-Covid(2018 - 2019) and Amidst-Covid(2019-2020)\\n', subtitle = '2018 -> 2019')\n",
    "p2 <- donut_plot(df_increase_in_2020, title = '\\n', subtitle = '2019 -> 2020')\n",
    "figure <- ggarrange(p1, p2, ncol = 2, nrow = 1)\n",
    "figure"
   ]
  },
  {
   "cell_type": "code",
   "execution_count": null,
   "metadata": {},
   "outputs": [],
   "source": []
  }
 ],
 "metadata": {
  "kernelspec": {
   "display_name": "R",
   "language": "R",
   "name": "ir"
  },
  "language_info": {
   "codemirror_mode": "r",
   "file_extension": ".r",
   "mimetype": "text/x-r-source",
   "name": "R",
   "pygments_lexer": "r",
   "version": "4.0.0"
  }
 },
 "nbformat": 4,
 "nbformat_minor": 4
}
